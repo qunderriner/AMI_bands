{
 "cells": [
  {
   "cell_type": "code",
   "execution_count": 2,
   "metadata": {},
   "outputs": [],
   "source": [
    "import numpy as np\n",
    "import pandas as pd\n",
    "import math\n",
    "import zipfile         # a core library for working with zip files\n",
    "import requests        # third-party library for making HTTP requests\n",
    "from functools import reduce\n",
    "import os\n",
    "import matplotlib.pyplot as plt\n",
    "\n",
    "#pd.set_option('display.max_columns', 100)\n",
    "pd.options.display.float_format = '{:.2f}'.format\n",
    "pd.set_option(\"display.max_columns\", 330)"
   ]
  },
  {
   "cell_type": "markdown",
   "metadata": {},
   "source": [
    "#### Load in HUD AMI data "
   ]
  },
  {
   "cell_type": "code",
   "execution_count": 212,
   "metadata": {},
   "outputs": [],
   "source": [
    "# read in HUD AMI data downloaded for each year from here https://www.huduser.gov/portal/datasets/il.html#2010\n",
    "path = os.getcwd()\n",
    "df = pd.DataFrame()\n",
    "for filename in os.listdir(path):\n",
    "    if filename.startswith(\"HUD-IL\"):\n",
    "        df_new = pd.read_csv(os.path.join(path, filename))\n",
    "        df_new[\"year\"] = filename[-8:-4]\n",
    "        median_col = [x for x in df_new.columns if \"median\" in x]\n",
    "\n",
    "        df_new = df_new.rename(columns={median_col[0]:\"median\"})\n",
    "\n",
    "        columns = [\"State_Alpha\",\"County_Name\",\"Metro_Area_Name\",\"year\",\"median\"]\n",
    "        df_new = df_new[columns]\n",
    "        df = pd.concat([df1,df_new],ignore_index=True)\n",
    "df = df[df.State_Alpha ==\"CA\"]#filter for california\n",
    "#df.to_csv(\"california_hud_AMI_levels_2010-2019.csv\")"
   ]
  },
  {
   "cell_type": "code",
   "execution_count": 22,
   "metadata": {},
   "outputs": [
    {
     "data": {
      "text/html": [
       "<div>\n",
       "<style scoped>\n",
       "    .dataframe tbody tr th:only-of-type {\n",
       "        vertical-align: middle;\n",
       "    }\n",
       "\n",
       "    .dataframe tbody tr th {\n",
       "        vertical-align: top;\n",
       "    }\n",
       "\n",
       "    .dataframe thead th {\n",
       "        text-align: right;\n",
       "    }\n",
       "</style>\n",
       "<table border=\"1\" class=\"dataframe\">\n",
       "  <thead>\n",
       "    <tr style=\"text-align: right;\">\n",
       "      <th></th>\n",
       "      <th>State_Alpha</th>\n",
       "      <th>County_Name</th>\n",
       "      <th>Metro_Area_Name</th>\n",
       "      <th>year</th>\n",
       "      <th>median</th>\n",
       "    </tr>\n",
       "  </thead>\n",
       "  <tbody>\n",
       "    <tr>\n",
       "      <th>186</th>\n",
       "      <td>CA</td>\n",
       "      <td>Alameda County</td>\n",
       "      <td>Oakland-Fremont, CA HUD Metro FMR Area</td>\n",
       "      <td>2018</td>\n",
       "      <td>104400</td>\n",
       "    </tr>\n",
       "    <tr>\n",
       "      <th>187</th>\n",
       "      <td>CA</td>\n",
       "      <td>Alpine County</td>\n",
       "      <td>Alpine County, CA</td>\n",
       "      <td>2018</td>\n",
       "      <td>77800</td>\n",
       "    </tr>\n",
       "    <tr>\n",
       "      <th>188</th>\n",
       "      <td>CA</td>\n",
       "      <td>Amador County</td>\n",
       "      <td>Amador County, CA</td>\n",
       "      <td>2018</td>\n",
       "      <td>73600</td>\n",
       "    </tr>\n",
       "    <tr>\n",
       "      <th>189</th>\n",
       "      <td>CA</td>\n",
       "      <td>Butte County</td>\n",
       "      <td>Chico, CA MSA</td>\n",
       "      <td>2018</td>\n",
       "      <td>60500</td>\n",
       "    </tr>\n",
       "    <tr>\n",
       "      <th>190</th>\n",
       "      <td>CA</td>\n",
       "      <td>Calaveras County</td>\n",
       "      <td>Calaveras County, CA</td>\n",
       "      <td>2018</td>\n",
       "      <td>72300</td>\n",
       "    </tr>\n",
       "  </tbody>\n",
       "</table>\n",
       "</div>"
      ],
      "text/plain": [
       "    State_Alpha       County_Name                         Metro_Area_Name  \\\n",
       "186          CA    Alameda County  Oakland-Fremont, CA HUD Metro FMR Area   \n",
       "187          CA     Alpine County                       Alpine County, CA   \n",
       "188          CA     Amador County                       Amador County, CA   \n",
       "189          CA      Butte County                           Chico, CA MSA   \n",
       "190          CA  Calaveras County                    Calaveras County, CA   \n",
       "\n",
       "     year  median  \n",
       "186  2018  104400  \n",
       "187  2018   77800  \n",
       "188  2018   73600  \n",
       "189  2018   60500  \n",
       "190  2018   72300  "
      ]
     },
     "execution_count": 22,
     "metadata": {},
     "output_type": "execute_result"
    }
   ],
   "source": [
    "df.head()"
   ]
  },
  {
   "cell_type": "markdown",
   "metadata": {},
   "source": [
    "#### Load in PUMS household Data"
   ]
  },
  {
   "cell_type": "code",
   "execution_count": null,
   "metadata": {},
   "outputs": [],
   "source": [
    "#got data below from downloading these zips, do with code if time \n",
    "for i in range_list:\n",
    "    print(\"https://www2.census.gov/programs-surveys/acs/data/pums/\"+i+\"/1-Year/csv_hca.zip\")"
   ]
  },
  {
   "cell_type": "code",
   "execution_count": null,
   "metadata": {},
   "outputs": [],
   "source": [
    "hca = pd.DataFrame()\n",
    "path_csv = path + \"/csv_hca\"\n",
    "\n",
    "columns = [\"PUMA\",\"county1\"]\n",
    "crosswalk_df=pd.read_csv(\"PUMA_County_Crosswalk.csv\", delimiter=\",\",usecols=columns)#https://mcdc.missouri.edu/applications/geocorr2018.html\n",
    "\n",
    "\n",
    "for filename in os.listdir(path_csv):\n",
    "    df_new1 = pd.read_csv(os.path.join(path_csv, filename))\n",
    "    df_new1= read_in_PUMS(df_new1,col_names)\n",
    "    df_new1[\"year\"] = filename[-8:-4] \n",
    "    hca = pd.concat([hca,df_new1],ignore_index=True)\n",
    "\n",
    "hca2 = bring_in_crosswalk(hca,crosswalk_df) #bring in crosswalk data \n",
    "cols_to_keep_hca = [\"County\",\"year\",\"type\",\"weight\",\"ST\",\n",
    "                    \"number_bedrooms\",\"record_type\",\"PUMA\",\"REGION\",\n",
    "                    \"ppl_in_hh\",\"first_mortgage\",\"monthly_rent\",\n",
    "                    \"hh_income\",\"num_own_chldrn\",\"num_relate_chldrn\"] #subset cols \n",
    "pums_ca = hca2[cols_to_keep_hca]\n",
    "#hca3.to_csv(\"2010-2019_ca_household_survey.csv\")\n",
    "#pums_ca = pd.read_csv(\"2010-2019_ca_household_survey.csv\")"
   ]
  },
  {
   "cell_type": "code",
   "execution_count": 23,
   "metadata": {},
   "outputs": [],
   "source": [
    "pums_sub_cols = ['County', 'year',\"hh_income\",\"ppl_in_hh\",'PUMA']# i took more cols just in case from big dataset, but this is all we need for thi calc \n",
    "pums_ca = pums_ca[pums_sub_cols]"
   ]
  },
  {
   "cell_type": "code",
   "execution_count": 33,
   "metadata": {},
   "outputs": [
    {
     "data": {
      "text/plain": [
       "1396700"
      ]
     },
     "execution_count": 33,
     "metadata": {},
     "output_type": "execute_result"
    }
   ],
   "source": [
    "len(pums_ca)#1396700 before dropna "
   ]
  },
  {
   "cell_type": "code",
   "execution_count": 48,
   "metadata": {},
   "outputs": [],
   "source": [
    "pums_ca = pums_ca.dropna() # we lose ~300k records for having null values "
   ]
  },
  {
   "cell_type": "code",
   "execution_count": 102,
   "metadata": {},
   "outputs": [],
   "source": [
    "# we lose 7896 by getting rid of entries with bad types, acceptable error in a dataset this big \n",
    "pums_ca = pums_ca[pd.to_numeric(pums_ca['hh_income'], errors='coerce').notnull()]\n",
    "pums_ca.hh_income = pums_ca.hh_income.astype(float) #convert to float so we can do calculations "
   ]
  },
  {
   "cell_type": "code",
   "execution_count": 106,
   "metadata": {},
   "outputs": [
    {
     "data": {
      "text/plain": [
       "<matplotlib.axes._subplots.AxesSubplot at 0x14c100518>"
      ]
     },
     "execution_count": 106,
     "metadata": {},
     "output_type": "execute_result"
    },
    {
     "data": {
      "image/png": "[encoded data removed]",
      "text/plain": [
       "<Figure size 432x288 with 1 Axes>"
      ]
     },
     "metadata": {
      "needs_background": "light"
     },
     "output_type": "display_data"
    }
   ],
   "source": [
    "import matplotlib.pyplot as plt\n",
    "#check for outliers in hh income \n",
    "pums_ca.hh_income.hist()"
   ]
  },
  {
   "cell_type": "code",
   "execution_count": 107,
   "metadata": {},
   "outputs": [
    {
     "data": {
      "text/plain": [
       "count   1087782.00\n",
       "mean      98613.07\n",
       "std      107896.17\n",
       "min      -15700.00\n",
       "25%       33400.00\n",
       "50%       69100.00\n",
       "75%      124500.00\n",
       "max     2580000.00\n",
       "Name: hh_income, dtype: float64"
      ]
     },
     "execution_count": 107,
     "metadata": {},
     "output_type": "execute_result"
    }
   ],
   "source": [
    "#in this dataset negative income doenst really make sense, so I'll drop those rows\n",
    "#strange to see renter with 2.5 million income, but certainly not impossible in sf \n",
    "pums_ca.hh_income.describe()"
   ]
  },
  {
   "cell_type": "code",
   "execution_count": 109,
   "metadata": {},
   "outputs": [],
   "source": [
    "pums_ca = pums_ca[pums_ca['hh_income'] >=0] #drop negative hh income  "
   ]
  },
  {
   "cell_type": "markdown",
   "metadata": {},
   "source": [
    "Need to adjust for family size \n",
    "\n",
    "\"Calculation of income limits for other family sizes is straight-forward. The 1-person family income limit is 70% of the 4-person income limit. The 2-person family income limit is 80% of the 4-person income limit, the 3-person family income limit is 90% of the 4-person income limit, the 5-person income limit is 108% of the 4-person income limit, the 6-person family income limit is 116% of the 4-person income limit, the 7-person family income limit is 124% of the 4-person income limit, and the 8-person family income limit is 132% of the 4-person income limit. For family sizes larger than 8 persons, the income limit can be calculated by adding an additional eight (8) percent per person to the next lower limit. For example a 9-person family income limit is 140% (132% + 8%), and so on. The resulting low-income limit calculation for other family sizes are then rounded up to the nearest $50 to produce the Final VLIL.\"\n",
    "\n",
    "https://www.huduser.gov/portal/datasets/il/il2020/2020IlCalc.odn\n"
   ]
  },
  {
   "cell_type": "code",
   "execution_count": 129,
   "metadata": {},
   "outputs": [
    {
     "data": {
      "text/plain": [
       "2     349814\n",
       "1     260238\n",
       "3     177901\n",
       "4     156784\n",
       "5      79694\n",
       "6      35001\n",
       "7      14443\n",
       "8       6794\n",
       "9       3137\n",
       "10      1602\n",
       "11       842\n",
       "12       524\n",
       "13       188\n",
       "14       113\n",
       "15        55\n",
       "16        32\n",
       "20        26\n",
       "17        19\n",
       "18        12\n",
       "19         5\n",
       "Name: ppl_in_hh, dtype: int64"
      ]
     },
     "execution_count": 129,
     "metadata": {},
     "output_type": "execute_result"
    }
   ],
   "source": [
    "#need to have household adjustments for up to size 20 \n",
    "pums_ca.ppl_in_hh.value_counts()"
   ]
  },
  {
   "cell_type": "code",
   "execution_count": 132,
   "metadata": {},
   "outputs": [],
   "source": [
    "family_size_dict = {1:.7,\n",
    "                   2:.8,\n",
    "                   3:.9,\n",
    "                   4:1,\n",
    "                    5:1.08,\n",
    "                    6:1.16,\n",
    "                    7:1.24,\n",
    "                    8:1.32,\n",
    "                   9:1.40,\n",
    "                   10:1.48,\n",
    "                   11:1.56,\n",
    "                   12:1.64,\n",
    "                   13:1.72,\n",
    "                   14:1.80,\n",
    "                   15:1.88,\n",
    "                   16:1.96,\n",
    "                   17:2.04,\n",
    "                   18:2.12,\n",
    "                   19:2.20,\n",
    "                   20:2.28}"
   ]
  },
  {
   "cell_type": "code",
   "execution_count": 137,
   "metadata": {},
   "outputs": [
    {
     "data": {
      "text/plain": [
       "41"
      ]
     },
     "execution_count": 137,
     "metadata": {},
     "output_type": "execute_result"
    }
   ],
   "source": [
    "len(pums_ca.County.unique())"
   ]
  },
  {
   "cell_type": "code",
   "execution_count": 139,
   "metadata": {},
   "outputs": [
    {
     "data": {
      "text/html": [
       "<div>\n",
       "<style scoped>\n",
       "    .dataframe tbody tr th:only-of-type {\n",
       "        vertical-align: middle;\n",
       "    }\n",
       "\n",
       "    .dataframe tbody tr th {\n",
       "        vertical-align: top;\n",
       "    }\n",
       "\n",
       "    .dataframe thead th {\n",
       "        text-align: right;\n",
       "    }\n",
       "</style>\n",
       "<table border=\"1\" class=\"dataframe\">\n",
       "  <thead>\n",
       "    <tr style=\"text-align: right;\">\n",
       "      <th></th>\n",
       "      <th>County</th>\n",
       "      <th>year</th>\n",
       "      <th>hh_income</th>\n",
       "      <th>ppl_in_hh</th>\n",
       "      <th>PUMA</th>\n",
       "    </tr>\n",
       "  </thead>\n",
       "  <tbody>\n",
       "    <tr>\n",
       "      <th>0</th>\n",
       "      <td>Santa Clara</td>\n",
       "      <td>2012</td>\n",
       "      <td>105000.00</td>\n",
       "      <td>2</td>\n",
       "      <td>8508</td>\n",
       "    </tr>\n",
       "    <tr>\n",
       "      <th>2</th>\n",
       "      <td>San Mateo</td>\n",
       "      <td>2012</td>\n",
       "      <td>39600.00</td>\n",
       "      <td>1</td>\n",
       "      <td>8105</td>\n",
       "    </tr>\n",
       "    <tr>\n",
       "      <th>3</th>\n",
       "      <td>Contra Costa</td>\n",
       "      <td>2012</td>\n",
       "      <td>269000.00</td>\n",
       "      <td>2</td>\n",
       "      <td>1305</td>\n",
       "    </tr>\n",
       "    <tr>\n",
       "      <th>4</th>\n",
       "      <td>Kern</td>\n",
       "      <td>2012</td>\n",
       "      <td>65200.00</td>\n",
       "      <td>2</td>\n",
       "      <td>2901</td>\n",
       "    </tr>\n",
       "    <tr>\n",
       "      <th>5</th>\n",
       "      <td>Santa Clara</td>\n",
       "      <td>2012</td>\n",
       "      <td>80000.00</td>\n",
       "      <td>1</td>\n",
       "      <td>8511</td>\n",
       "    </tr>\n",
       "  </tbody>\n",
       "</table>\n",
       "</div>"
      ],
      "text/plain": [
       "         County  year  hh_income  ppl_in_hh  PUMA\n",
       "0   Santa Clara  2012  105000.00          2  8508\n",
       "2     San Mateo  2012   39600.00          1  8105\n",
       "3  Contra Costa  2012  269000.00          2  1305\n",
       "4          Kern  2012   65200.00          2  2901\n",
       "5   Santa Clara  2012   80000.00          1  8511"
      ]
     },
     "execution_count": 139,
     "metadata": {},
     "output_type": "execute_result"
    }
   ],
   "source": [
    "pums_ca.head()"
   ]
  },
  {
   "cell_type": "code",
   "execution_count": 145,
   "metadata": {},
   "outputs": [],
   "source": [
    "pums_ca.County = pums_ca.County +\" County\" #make naming conventions align so can merge\n",
    "pums_ca[\"key\"] = pums_ca[\"County\"] + pums_ca[\"year\"].astype(str) #make keys to match on \n",
    "df[\"key\"] = df[\"County_Name\"] + df[\"year\"].astype(str)"
   ]
  },
  {
   "cell_type": "code",
   "execution_count": 150,
   "metadata": {},
   "outputs": [],
   "source": [
    "#need to create range of values for each county \n",
    "df[\"80%_AMI\"] = df[\"median\"] * 0.8\n",
    "df[\"120%_AMI\"] = df[\"median\"] * 1.2"
   ]
  },
  {
   "cell_type": "code",
   "execution_count": 218,
   "metadata": {},
   "outputs": [],
   "source": [
    "df_merged = pums_ca.merge(df,on=\"key\",how=\"left\")"
   ]
  },
  {
   "cell_type": "code",
   "execution_count": 220,
   "metadata": {},
   "outputs": [],
   "source": [
    "df_merged = df_merged.drop(columns={\"year_x\"})\n",
    "df_merged = df_merged.rename(columns={\"year_y\":\"year\"})"
   ]
  },
  {
   "cell_type": "code",
   "execution_count": 222,
   "metadata": {},
   "outputs": [
    {
     "data": {
      "text/html": [
       "<div>\n",
       "<style scoped>\n",
       "    .dataframe tbody tr th:only-of-type {\n",
       "        vertical-align: middle;\n",
       "    }\n",
       "\n",
       "    .dataframe tbody tr th {\n",
       "        vertical-align: top;\n",
       "    }\n",
       "\n",
       "    .dataframe thead th {\n",
       "        text-align: right;\n",
       "    }\n",
       "</style>\n",
       "<table border=\"1\" class=\"dataframe\">\n",
       "  <thead>\n",
       "    <tr style=\"text-align: right;\">\n",
       "      <th></th>\n",
       "      <th>County</th>\n",
       "      <th>hh_income</th>\n",
       "      <th>ppl_in_hh</th>\n",
       "      <th>PUMA</th>\n",
       "      <th>key</th>\n",
       "      <th>State_Alpha</th>\n",
       "      <th>County_Name</th>\n",
       "      <th>Metro_Area_Name</th>\n",
       "      <th>year</th>\n",
       "      <th>median</th>\n",
       "      <th>80%_AMI</th>\n",
       "      <th>120%_AMI</th>\n",
       "    </tr>\n",
       "  </thead>\n",
       "  <tbody>\n",
       "    <tr>\n",
       "      <th>0</th>\n",
       "      <td>Santa Clara County</td>\n",
       "      <td>105000.00</td>\n",
       "      <td>2</td>\n",
       "      <td>8508</td>\n",
       "      <td>Santa Clara County2012</td>\n",
       "      <td>CA</td>\n",
       "      <td>Santa Clara County</td>\n",
       "      <td>San Jose-Sunnyvale-Santa Clara, CA HUD Metro F...</td>\n",
       "      <td>2012</td>\n",
       "      <td>105000</td>\n",
       "      <td>84000.00</td>\n",
       "      <td>126000.00</td>\n",
       "    </tr>\n",
       "    <tr>\n",
       "      <th>1</th>\n",
       "      <td>San Mateo County</td>\n",
       "      <td>39600.00</td>\n",
       "      <td>1</td>\n",
       "      <td>8105</td>\n",
       "      <td>San Mateo County2012</td>\n",
       "      <td>CA</td>\n",
       "      <td>San Mateo County</td>\n",
       "      <td>San Francisco, CA HUD Metro FMR Area</td>\n",
       "      <td>2012</td>\n",
       "      <td>103000</td>\n",
       "      <td>82400.00</td>\n",
       "      <td>123600.00</td>\n",
       "    </tr>\n",
       "    <tr>\n",
       "      <th>2</th>\n",
       "      <td>Contra Costa County</td>\n",
       "      <td>269000.00</td>\n",
       "      <td>2</td>\n",
       "      <td>1305</td>\n",
       "      <td>Contra Costa County2012</td>\n",
       "      <td>CA</td>\n",
       "      <td>Contra Costa County</td>\n",
       "      <td>Oakland-Fremont, CA HUD Metro FMR Area</td>\n",
       "      <td>2012</td>\n",
       "      <td>93500</td>\n",
       "      <td>74800.00</td>\n",
       "      <td>112200.00</td>\n",
       "    </tr>\n",
       "    <tr>\n",
       "      <th>3</th>\n",
       "      <td>Kern County</td>\n",
       "      <td>65200.00</td>\n",
       "      <td>2</td>\n",
       "      <td>2901</td>\n",
       "      <td>Kern County2012</td>\n",
       "      <td>CA</td>\n",
       "      <td>Kern County</td>\n",
       "      <td>Bakersfield-Delano, CA MSA</td>\n",
       "      <td>2012</td>\n",
       "      <td>54100</td>\n",
       "      <td>43280.00</td>\n",
       "      <td>64920.00</td>\n",
       "    </tr>\n",
       "    <tr>\n",
       "      <th>4</th>\n",
       "      <td>Santa Clara County</td>\n",
       "      <td>80000.00</td>\n",
       "      <td>1</td>\n",
       "      <td>8511</td>\n",
       "      <td>Santa Clara County2012</td>\n",
       "      <td>CA</td>\n",
       "      <td>Santa Clara County</td>\n",
       "      <td>San Jose-Sunnyvale-Santa Clara, CA HUD Metro F...</td>\n",
       "      <td>2012</td>\n",
       "      <td>105000</td>\n",
       "      <td>84000.00</td>\n",
       "      <td>126000.00</td>\n",
       "    </tr>\n",
       "  </tbody>\n",
       "</table>\n",
       "</div>"
      ],
      "text/plain": [
       "                County  hh_income  ppl_in_hh  PUMA                      key  \\\n",
       "0   Santa Clara County  105000.00          2  8508   Santa Clara County2012   \n",
       "1     San Mateo County   39600.00          1  8105     San Mateo County2012   \n",
       "2  Contra Costa County  269000.00          2  1305  Contra Costa County2012   \n",
       "3          Kern County   65200.00          2  2901          Kern County2012   \n",
       "4   Santa Clara County   80000.00          1  8511   Santa Clara County2012   \n",
       "\n",
       "  State_Alpha          County_Name  \\\n",
       "0          CA   Santa Clara County   \n",
       "1          CA     San Mateo County   \n",
       "2          CA  Contra Costa County   \n",
       "3          CA          Kern County   \n",
       "4          CA   Santa Clara County   \n",
       "\n",
       "                                     Metro_Area_Name  year  median  80%_AMI  \\\n",
       "0  San Jose-Sunnyvale-Santa Clara, CA HUD Metro F...  2012  105000 84000.00   \n",
       "1               San Francisco, CA HUD Metro FMR Area  2012  103000 82400.00   \n",
       "2             Oakland-Fremont, CA HUD Metro FMR Area  2012   93500 74800.00   \n",
       "3                         Bakersfield-Delano, CA MSA  2012   54100 43280.00   \n",
       "4  San Jose-Sunnyvale-Santa Clara, CA HUD Metro F...  2012  105000 84000.00   \n",
       "\n",
       "   120%_AMI  \n",
       "0 126000.00  \n",
       "1 123600.00  \n",
       "2 112200.00  \n",
       "3  64920.00  \n",
       "4 126000.00  "
      ]
     },
     "execution_count": 222,
     "metadata": {},
     "output_type": "execute_result"
    }
   ],
   "source": [
    "df_merged[\"80%_AMI\"] = df_merged[\"median\"] * 0.8\n",
    "df_merged[\"120%_AMI\"] = df_merged[\"median\"] * 1.2"
   ]
  },
  {
   "cell_type": "code",
   "execution_count": 227,
   "metadata": {},
   "outputs": [],
   "source": [
    "#make new column of the AMI multiplier based on each households family size \n",
    "df_merged[\"family_size_multiplier\"] = df_merged[\"ppl_in_hh\"].map(family_size_dict)"
   ]
  },
  {
   "cell_type": "code",
   "execution_count": 229,
   "metadata": {},
   "outputs": [],
   "source": [
    "#adjust ami bands for each household based on household size \n",
    "df_merged[\"80%_AMI_adjusted\"] = df_merged[\"80%_AMI\"] * df_merged[\"family_size_multiplier\"]\n",
    "df_merged[\"120%_AMI_adjusted\"] = df_merged[\"120%_AMI\"] * df_merged[\"family_size_multiplier\"]"
   ]
  },
  {
   "cell_type": "code",
   "execution_count": 230,
   "metadata": {},
   "outputs": [
    {
     "data": {
      "text/html": [
       "<div>\n",
       "<style scoped>\n",
       "    .dataframe tbody tr th:only-of-type {\n",
       "        vertical-align: middle;\n",
       "    }\n",
       "\n",
       "    .dataframe tbody tr th {\n",
       "        vertical-align: top;\n",
       "    }\n",
       "\n",
       "    .dataframe thead th {\n",
       "        text-align: right;\n",
       "    }\n",
       "</style>\n",
       "<table border=\"1\" class=\"dataframe\">\n",
       "  <thead>\n",
       "    <tr style=\"text-align: right;\">\n",
       "      <th></th>\n",
       "      <th>County</th>\n",
       "      <th>hh_income</th>\n",
       "      <th>ppl_in_hh</th>\n",
       "      <th>PUMA</th>\n",
       "      <th>key</th>\n",
       "      <th>State_Alpha</th>\n",
       "      <th>County_Name</th>\n",
       "      <th>Metro_Area_Name</th>\n",
       "      <th>year</th>\n",
       "      <th>median</th>\n",
       "      <th>80%_AMI</th>\n",
       "      <th>120%_AMI</th>\n",
       "      <th>family_size_multiplier</th>\n",
       "      <th>80%_AMI_adjusted</th>\n",
       "      <th>120%_AMI_adjusted</th>\n",
       "    </tr>\n",
       "  </thead>\n",
       "  <tbody>\n",
       "    <tr>\n",
       "      <th>0</th>\n",
       "      <td>Santa Clara County</td>\n",
       "      <td>105000.00</td>\n",
       "      <td>2</td>\n",
       "      <td>8508</td>\n",
       "      <td>Santa Clara County2012</td>\n",
       "      <td>CA</td>\n",
       "      <td>Santa Clara County</td>\n",
       "      <td>San Jose-Sunnyvale-Santa Clara, CA HUD Metro F...</td>\n",
       "      <td>2012</td>\n",
       "      <td>105000</td>\n",
       "      <td>84000.00</td>\n",
       "      <td>126000.00</td>\n",
       "      <td>0.80</td>\n",
       "      <td>67200.00</td>\n",
       "      <td>100800.00</td>\n",
       "    </tr>\n",
       "    <tr>\n",
       "      <th>1</th>\n",
       "      <td>San Mateo County</td>\n",
       "      <td>39600.00</td>\n",
       "      <td>1</td>\n",
       "      <td>8105</td>\n",
       "      <td>San Mateo County2012</td>\n",
       "      <td>CA</td>\n",
       "      <td>San Mateo County</td>\n",
       "      <td>San Francisco, CA HUD Metro FMR Area</td>\n",
       "      <td>2012</td>\n",
       "      <td>103000</td>\n",
       "      <td>82400.00</td>\n",
       "      <td>123600.00</td>\n",
       "      <td>0.70</td>\n",
       "      <td>57680.00</td>\n",
       "      <td>86520.00</td>\n",
       "    </tr>\n",
       "    <tr>\n",
       "      <th>2</th>\n",
       "      <td>Contra Costa County</td>\n",
       "      <td>269000.00</td>\n",
       "      <td>2</td>\n",
       "      <td>1305</td>\n",
       "      <td>Contra Costa County2012</td>\n",
       "      <td>CA</td>\n",
       "      <td>Contra Costa County</td>\n",
       "      <td>Oakland-Fremont, CA HUD Metro FMR Area</td>\n",
       "      <td>2012</td>\n",
       "      <td>93500</td>\n",
       "      <td>74800.00</td>\n",
       "      <td>112200.00</td>\n",
       "      <td>0.80</td>\n",
       "      <td>59840.00</td>\n",
       "      <td>89760.00</td>\n",
       "    </tr>\n",
       "    <tr>\n",
       "      <th>3</th>\n",
       "      <td>Kern County</td>\n",
       "      <td>65200.00</td>\n",
       "      <td>2</td>\n",
       "      <td>2901</td>\n",
       "      <td>Kern County2012</td>\n",
       "      <td>CA</td>\n",
       "      <td>Kern County</td>\n",
       "      <td>Bakersfield-Delano, CA MSA</td>\n",
       "      <td>2012</td>\n",
       "      <td>54100</td>\n",
       "      <td>43280.00</td>\n",
       "      <td>64920.00</td>\n",
       "      <td>0.80</td>\n",
       "      <td>34624.00</td>\n",
       "      <td>51936.00</td>\n",
       "    </tr>\n",
       "    <tr>\n",
       "      <th>4</th>\n",
       "      <td>Santa Clara County</td>\n",
       "      <td>80000.00</td>\n",
       "      <td>1</td>\n",
       "      <td>8511</td>\n",
       "      <td>Santa Clara County2012</td>\n",
       "      <td>CA</td>\n",
       "      <td>Santa Clara County</td>\n",
       "      <td>San Jose-Sunnyvale-Santa Clara, CA HUD Metro F...</td>\n",
       "      <td>2012</td>\n",
       "      <td>105000</td>\n",
       "      <td>84000.00</td>\n",
       "      <td>126000.00</td>\n",
       "      <td>0.70</td>\n",
       "      <td>58800.00</td>\n",
       "      <td>88200.00</td>\n",
       "    </tr>\n",
       "  </tbody>\n",
       "</table>\n",
       "</div>"
      ],
      "text/plain": [
       "                County  hh_income  ppl_in_hh  PUMA                      key  \\\n",
       "0   Santa Clara County  105000.00          2  8508   Santa Clara County2012   \n",
       "1     San Mateo County   39600.00          1  8105     San Mateo County2012   \n",
       "2  Contra Costa County  269000.00          2  1305  Contra Costa County2012   \n",
       "3          Kern County   65200.00          2  2901          Kern County2012   \n",
       "4   Santa Clara County   80000.00          1  8511   Santa Clara County2012   \n",
       "\n",
       "  State_Alpha          County_Name  \\\n",
       "0          CA   Santa Clara County   \n",
       "1          CA     San Mateo County   \n",
       "2          CA  Contra Costa County   \n",
       "3          CA          Kern County   \n",
       "4          CA   Santa Clara County   \n",
       "\n",
       "                                     Metro_Area_Name  year  median  80%_AMI  \\\n",
       "0  San Jose-Sunnyvale-Santa Clara, CA HUD Metro F...  2012  105000 84000.00   \n",
       "1               San Francisco, CA HUD Metro FMR Area  2012  103000 82400.00   \n",
       "2             Oakland-Fremont, CA HUD Metro FMR Area  2012   93500 74800.00   \n",
       "3                         Bakersfield-Delano, CA MSA  2012   54100 43280.00   \n",
       "4  San Jose-Sunnyvale-Santa Clara, CA HUD Metro F...  2012  105000 84000.00   \n",
       "\n",
       "   120%_AMI  family_size_multiplier  80%_AMI_adjusted  120%_AMI_adjusted  \n",
       "0 126000.00                    0.80          67200.00          100800.00  \n",
       "1 123600.00                    0.70          57680.00           86520.00  \n",
       "2 112200.00                    0.80          59840.00           89760.00  \n",
       "3  64920.00                    0.80          34624.00           51936.00  \n",
       "4 126000.00                    0.70          58800.00           88200.00  "
      ]
     },
     "execution_count": 230,
     "metadata": {},
     "output_type": "execute_result"
    }
   ],
   "source": [
    "#want to subset data to only keep households inbtween 80% and 120% for her household \n",
    "df_merged.head()"
   ]
  },
  {
   "cell_type": "code",
   "execution_count": 233,
   "metadata": {},
   "outputs": [
    {
     "data": {
      "text/plain": [
       "1222747"
      ]
     },
     "execution_count": 233,
     "metadata": {},
     "output_type": "execute_result"
    }
   ],
   "source": [
    "len(df_merged)"
   ]
  },
  {
   "cell_type": "code",
   "execution_count": 232,
   "metadata": {},
   "outputs": [],
   "source": [
    "middle_income = df_merged[(df_merged[\"hh_income\"] >= df_merged[\"80%_AMI\"])&(df_merged[\"hh_income\"] <= df_merged[\"120%_AMI\"])]"
   ]
  },
  {
   "cell_type": "code",
   "execution_count": 235,
   "metadata": {},
   "outputs": [
    {
     "data": {
      "text/plain": [
       "0.1762392383706523"
      ]
     },
     "execution_count": 235,
     "metadata": {},
     "output_type": "execute_result"
    }
   ],
   "source": [
    "len(middle_income)/len(df_merged) # 17.6 percent of households in our dataset fall into this middle income category"
   ]
  },
  {
   "cell_type": "code",
   "execution_count": 236,
   "metadata": {},
   "outputs": [
    {
     "data": {
      "text/plain": [
       "17"
      ]
     },
     "execution_count": 236,
     "metadata": {},
     "output_type": "execute_result"
    }
   ],
   "source": [
    "#need to address discrepency in number of counties - seems to be just smaller counties missing \n",
    "len(df.County_Name.unique()) - len(pums_ca.County.unique())"
   ]
  },
  {
   "cell_type": "code",
   "execution_count": 134,
   "metadata": {},
   "outputs": [
    {
     "data": {
      "text/plain": [
       "array(['Alameda County', 'Alpine County', 'Amador County', 'Butte County',\n",
       "       'Calaveras County', 'Colusa County', 'Contra Costa County',\n",
       "       'Del Norte County', 'El Dorado County', 'Fresno County',\n",
       "       'Glenn County', 'Humboldt County', 'Imperial County',\n",
       "       'Inyo County', 'Kern County', 'Kings County', 'Lake County',\n",
       "       'Lassen County', 'Los Angeles County', 'Madera County',\n",
       "       'Marin County', 'Mariposa County', 'Mendocino County',\n",
       "       'Merced County', 'Modoc County', 'Mono County', 'Monterey County',\n",
       "       'Napa County', 'Nevada County', 'Orange County', 'Placer County',\n",
       "       'Plumas County', 'Riverside County', 'Sacramento County',\n",
       "       'San Benito County', 'San Bernardino County', 'San Diego County',\n",
       "       'San Francisco County', 'San Joaquin County',\n",
       "       'San Luis Obispo County', 'San Mateo County',\n",
       "       'Santa Barbara County', 'Santa Clara County', 'Santa Cruz County',\n",
       "       'Shasta County', 'Sierra County', 'Siskiyou County',\n",
       "       'Solano County', 'Sonoma County', 'Stanislaus County',\n",
       "       'Sutter County', 'Tehama County', 'Trinity County',\n",
       "       'Tulare County', 'Tuolumne County', 'Ventura County',\n",
       "       'Yolo County', 'Yuba County'], dtype=object)"
      ]
     },
     "execution_count": 134,
     "metadata": {},
     "output_type": "execute_result"
    }
   ],
   "source": [
    "df.County_Name.unique()"
   ]
  },
  {
   "cell_type": "code",
   "execution_count": null,
   "metadata": {},
   "outputs": [],
   "source": []
  },
  {
   "cell_type": "code",
   "execution_count": null,
   "metadata": {},
   "outputs": [],
   "source": []
  },
  {
   "cell_type": "markdown",
   "metadata": {},
   "source": [
    "Things to think about:\n",
    "\n",
    "MAKE HOUSEHOLD INCOME AN INT, check for outliers on it, and anything else analysis will be done on. \n",
    "\n",
    "Do I need to take into account number of people in households? Can I do this in a formulaic way?\n",
    "\n",
    "Need to take median and make 80-120% bands and then filter on that after match. \n",
    "\n",
    "then groupby year, will already be filtered for people within income bands. "
   ]
  }
 ],
 "metadata": {
  "kernelspec": {
   "display_name": "Python 3",
   "language": "python",
   "name": "python3"
  },
  "language_info": {
   "codemirror_mode": {
    "name": "ipython",
    "version": 3
   },
   "file_extension": ".py",
   "mimetype": "text/x-python",
   "name": "python",
   "nbconvert_exporter": "python",
   "pygments_lexer": "ipython3",
   "version": "3.7.2"
  }
 },
 "nbformat": 4,
 "nbformat_minor": 2
}
