{
 "cells": [
  {
   "cell_type": "code",
   "execution_count": 1,
   "metadata": {},
   "outputs": [],
   "source": [
    "import numpy as np\n",
    "import pandas as pd\n",
    "import zipfile         \n",
    "import os\n",
    "import matplotlib.pyplot as plt\n",
    "import altair as alt\n",
    "import re \n",
    "\n",
    "#pd.set_option('display.max_columns', 100)\n",
    "pd.options.display.float_format = '{:.2f}'.format\n",
    "pd.set_option(\"display.max_columns\", 330)"
   ]
  },
  {
   "cell_type": "markdown",
   "metadata": {},
   "source": [
    "#### Load in HUD AMI data "
   ]
  },
  {
   "cell_type": "code",
   "execution_count": 2,
   "metadata": {},
   "outputs": [],
   "source": [
    "# read in HUD AMI data downloaded for each year from here https://www.huduser.gov/portal/datasets/il.html#2010\n",
    "path = \"/Users/quinnunderriner/Desktop/Work/missing_middle/county_median_data/\"\n",
    "#path = os.getcwd()\n",
    "df = pd.DataFrame()\n",
    "for filename in os.listdir(path):\n",
    "    if filename.startswith(\"HUD-IL\"):\n",
    "        df_new = pd.read_csv(os.path.join(path, filename))\n",
    "        df_new[\"year\"] = filename[-8:-4]\n",
    "        median_col = [x for x in df_new.columns if \"median\" in x]\n",
    "\n",
    "        df_new = df_new.rename(columns={median_col[0]:\"median\"})\n",
    "\n",
    "        columns = [\"State_Alpha\",\"County_Name\",\"Metro_Area_Name\",\"year\",\"median\"]\n",
    "        df_new = df_new[columns]\n",
    "        df = pd.concat([df,df_new],ignore_index=True)\n",
    "df = df[df.State_Alpha ==\"CA\"]#filter for california\n",
    "#df.to_csv(\"california_hud_AMI_levels_2010-2019.csv\")"
   ]
  },
  {
   "cell_type": "markdown",
   "metadata": {},
   "source": [
    "#### Load in PUMS household Data"
   ]
  },
  {
   "cell_type": "markdown",
   "metadata": {},
   "source": [
    "got data below from downloading these zips like below, will load in with code if time later to make neater \n",
    "\n",
    "for i in range_list:\n",
    "    print(\"https://www2.census.gov/programs-surveys/acs/data/pums/\"+i+\"/1-Year/csv_hca.zip\")"
   ]
  },
  {
   "cell_type": "code",
   "execution_count": 75,
   "metadata": {},
   "outputs": [],
   "source": [
    "#PUMA - County Crosswalk - https://mcdc.missouri.edu/applications/geocorr2018.html.\n",
    "#note, manually changed all one to many (PUMA->County) matchings to just be \"Multiple CA\".\n",
    "#These are the small counties that are just a part of a PUMA and for the purpose of our analysis are combined \n",
    "crosswalk_df=pd.read_csv(\"/Users/quinnunderriner/Desktop/Work/missing_middle/PUMA_County_Crosswalk_v2 - PUMA_County_Crosswalk.csv\", delimiter=\",\")"
   ]
  },
  {
   "cell_type": "code",
   "execution_count": 4,
   "metadata": {},
   "outputs": [],
   "source": [
    "def read_in_PUMS(hpums_df,col_names):\n",
    "    variable_types = {\"NP\":\"int64\",\"NOC\":\"float\",\"BDSP\":\"float\",\"RMSP\":\"str\",\"MV\":\"float\",\"WGTP\":\"float\"}\n",
    "\n",
    "    columns = [\"SERIALNO\",\"NP\",\"R65\",\"NRC\",\"PUMA\",\"RT\",\"BDSP\",\"BLD\",\"RNTP\",\"MRGP\",\"SMP\", \"TYPE\",\n",
    "               \"CONP\",\"TEN\",\"VACS\",\"VALP\",\"GRPIP\",\"GRNTP\",\"SMOCP\",\"OCPIP\",\"HINCP\",\"MV\",\"WGTP\",\"NOC\", \"MULTG\", 'YBL']\n",
    "\n",
    "\n",
    "    hpums_df.rename(columns={\"RT\":\"record_type\",\n",
    "                         \"TYPE\":\"type\",\n",
    "                         \"BLD\":\"units_in_structure\",\n",
    "                         \"BDSP\":\"number_bedrooms\",\n",
    "                         \"RNTP\":\"monthly_rent\",\n",
    "                         \"MRGP\":\"first_mortgage\",\n",
    "                         \"SMP\":\"second_mortgage\",\n",
    "                         \"CONP\":\"condo_fee\",\n",
    "                         \"TEN\":\"tenure\",\n",
    "                         \"VACS\":\"vacancy_status\",\n",
    "                         \"VALP\":\"property_value\",\n",
    "                         \"GRPIP\":\"gross_rent_pct_of_income\",\n",
    "                         \"GRNTP\":\"gross_rent\",\n",
    "                         \"SMOCP\":\"select_owner_cost\",\n",
    "                         \"OCPIP\":\"select_owner_cost_pct_of_income\",\n",
    "                         \"HINCP\":\"hh_income\",\n",
    "                         \"NP\":\"ppl_in_hh\",\n",
    "                         \"R65\":\"ppl_over_65\",\n",
    "                         \"NRC\":\"num_relate_chldrn\",\n",
    "                         \"NOC\":\"num_own_chldrn\",\n",
    "                         \"MULTG\":\"multi_gen_hh\",\n",
    "                         \"WGTP\":\"weight\",\n",
    "                         \"YBL\": \"year_built\",\n",
    "                         \"MV\":\"moved_in\"}, inplace=True)\n",
    "    hpums_df.drop(hpums_df[hpums_df.type != 1].index, inplace=True)\n",
    "    \n",
    "    return hpums_df"
   ]
  },
  {
   "cell_type": "markdown",
   "metadata": {},
   "source": [
    "Markdown cell because want to be rerunning file and easier to just load in output of below \n",
    "from a csv then wait for the below to run to run everytime. But this code takes the 2010-2019\n",
    "PUMS household data, makes a year column, and then concat its together \n",
    "\n",
    "for filename in os.listdir(path_csv):\n",
    "    df_new1 = pd.read_csv(os.path.join(path_csv, filename))\n",
    "    df_new1= read_in_PUMS(df_new1,col_names)\n",
    "    df_new1[\"year\"] = filename[-8:-4] \n",
    "    hca = pd.concat([hca,df_new1],ignore_index=True)\n",
    "pums_ca = hca.ST[\"6\"]#added retroactively "
   ]
  },
  {
   "cell_type": "code",
   "execution_count": 5,
   "metadata": {},
   "outputs": [
    {
     "name": "stderr",
     "output_type": "stream",
     "text": [
      "/Users/quinnunderriner/anaconda3/lib/python3.7/site-packages/IPython/core/interactiveshell.py:2718: DtypeWarning: Columns (11,12,13,14,15) have mixed types.Specify dtype option on import or set low_memory=False.\n",
      "  interactivity=interactivity, compiler=compiler, result=result)\n"
     ]
    }
   ],
   "source": [
    "#load in output of above from CSV \n",
    "pums_ca = pd.read_csv(\"/Users/quinnunderriner/Desktop/Work/missing_middle/2010-2019_ca_household_survey.csv\")\n",
    "pums_sub_cols = [\"County\",'year',\"hh_income\",\"ppl_in_hh\",'PUMA']#Took more cols just in case from big dataset above, but this is all we need for this calc \n",
    "pums_ca = pums_ca[pums_sub_cols]"
   ]
  },
  {
   "cell_type": "markdown",
   "metadata": {},
   "source": [
    "Do PUMA to County Crosswalk\n",
    "\n",
    "Note: for years 2010 and 2011 the 2010 PUMA defintions were still being used; it was not until 2012 that the\n",
    "    new definitions came into effect. Therefore need to map the 2010-2011 and 2012-2019 groups seperately. "
   ]
  },
  {
   "cell_type": "code",
   "execution_count": 6,
   "metadata": {},
   "outputs": [],
   "source": [
    "def gimmie_county(x):\n",
    "    return x[0:x.find('County')]\n",
    "\n",
    "def bring_in_crosswalk(df):\n",
    "    crosswalk_df2010 = pd.read_excel(\"PUMA2000_PUMA2010_crosswalk.xls\") # https://usa.ipums.org/usa/volii/pumas10.shtml#crosswalk\n",
    "    crosswalk_df2010 = crosswalk_df2010[crosswalk_df2010.State10_Name ==\"California\"]\n",
    "    crosswalk_df2010 = crosswalk_df2010[[\"PUMA00\",\"PUMA10\",\"PUMA10_Name\"]] #filter for datasetes we want \n",
    "    \n",
    "    df_2010 = df[df.year.isin([2010,2011])] \n",
    "    \n",
    "    df_2010 = df_2010.drop(columns={\"County\"}) #drop county col, was missing for these years, will re add below \n",
    "    \n",
    "    pums_ca_2010 = df_2010.merge(crosswalk_df2010, how=\"left\",left_on=\"PUMA\",right_on=\"PUMA00\")\n",
    "    \n",
    "    pums_ca_2010[\"County\"] = pums_ca_2010.PUMA10_Name.apply(lambda x: gimmie_county(x))\n",
    "    \n",
    "    pums_ca_2010 = pums_ca_2010.drop(columns={\"PUMA\",\"PUMA00\"})\n",
    "    pums_ca_2010 = pums_ca_2010.rename(columns={\"PUMA10\":\"PUMA\"})#make new PUMA col the definitive PUMA col \n",
    "    \n",
    "    pums_ca_2010 = pums_ca_2010[[\"year\",\"hh_income\",\"ppl_in_hh\",\"County\",\"PUMA\"]]#keep only cols we want so we can concat \n",
    "    \n",
    "    crosswalk_df2012 = pd.read_csv(\"/Users/quinnunderriner/Desktop/Work/missing_middle/PUMA_County_Crosswalk_v2 - PUMA_County_Crosswalk.csv\", delimiter=\",\")\n",
    "\n",
    "    df_2012 = df[~df.year.isin([2010,2011])]\n",
    "\n",
    "    puma_county_df_2012 = df.merge(crosswalk_df2012, how='left', on=\"PUMA\")\n",
    "    puma_county_df_2012['County'] = puma_county_df_2012['county1'].str.replace(r' CA', '')\n",
    "    puma_county_df_2012.drop('county1', axis=1, inplace=True)\n",
    "    \n",
    "    puma_county_df_2012 = puma_county_df_2012[[\"year\",\"hh_income\",\"ppl_in_hh\",\"County\",\"PUMA\"]]#keep only cols we want so we can concat \n",
    "\n",
    "    puma_county_df = pd.concat([pums_ca_2010, puma_county_df_2012], ignore_index=True) #concat both datasets back together now that they have the same columns \n",
    "    \n",
    "    return puma_county_df"
   ]
  },
  {
   "cell_type": "code",
   "execution_count": 7,
   "metadata": {},
   "outputs": [],
   "source": [
    "pums_ca = bring_in_crosswalk(pums_ca) #call function "
   ]
  },
  {
   "cell_type": "code",
   "execution_count": 8,
   "metadata": {},
   "outputs": [],
   "source": [
    "pums_ca = pums_ca.dropna() # we lose ~300k records for having null values \n",
    "# we lose another 7896 by getting rid of entries with bad types, acceptable error in a dataset this big \n",
    "pums_ca = pums_ca[pd.to_numeric(pums_ca['hh_income'], errors='coerce').notnull()]\n",
    "pums_ca.hh_income = pums_ca.hh_income.astype(float) #convert to float so we can do calculations "
   ]
  },
  {
   "cell_type": "code",
   "execution_count": 9,
   "metadata": {},
   "outputs": [
    {
     "data": {
      "text/plain": [
       "<matplotlib.axes._subplots.AxesSubplot at 0x1246724e0>"
      ]
     },
     "execution_count": 9,
     "metadata": {},
     "output_type": "execute_result"
    },
    {
     "data": {
      "image/png": "[encoded data removed]",
      "text/plain": [
       "<Figure size 432x288 with 1 Axes>"
      ]
     },
     "metadata": {
      "needs_background": "light"
     },
     "output_type": "display_data"
    }
   ],
   "source": [
    "import matplotlib.pyplot as plt\n",
    "#check for outliers in hh income \n",
    "pums_ca.hh_income.hist()"
   ]
  },
  {
   "cell_type": "code",
   "execution_count": 10,
   "metadata": {},
   "outputs": [
    {
     "data": {
      "text/plain": [
       "count   2104477.00\n",
       "mean      90445.28\n",
       "std       98202.15\n",
       "min      -15700.00\n",
       "25%       30700.00\n",
       "50%       63530.00\n",
       "75%      114500.00\n",
       "max     2580000.00\n",
       "Name: hh_income, dtype: float64"
      ]
     },
     "execution_count": 10,
     "metadata": {},
     "output_type": "execute_result"
    }
   ],
   "source": [
    "#in this dataset negative income doenst really make sense, so I'll drop those rows.\n",
    "#Strange to see renter with 2.5 million income, but certainly not impossible in sf so can't\n",
    "#assume data error. \n",
    "pums_ca.hh_income.describe()"
   ]
  },
  {
   "cell_type": "code",
   "execution_count": 11,
   "metadata": {},
   "outputs": [],
   "source": [
    "pums_ca = pums_ca[pums_ca['hh_income'] >=0] #drop negative hh income  "
   ]
  },
  {
   "cell_type": "markdown",
   "metadata": {},
   "source": [
    "Need to adjust median income figure for family size \n",
    "\n",
    "\"Calculation of income limits for other family sizes is straight-forward. The 1-person family income limit is 70% of the 4-person income limit. The 2-person family income limit is 80% of the 4-person income limit, the 3-person family income limit is 90% of the 4-person income limit, the 5-person income limit is 108% of the 4-person income limit, the 6-person family income limit is 116% of the 4-person income limit, the 7-person family income limit is 124% of the 4-person income limit, and the 8-person family income limit is 132% of the 4-person income limit. For family sizes larger than 8 persons, the income limit can be calculated by adding an additional eight (8) percent per person to the next lower limit. For example a 9-person family income limit is 140% (132% + 8%), and so on. The resulting low-income limit calculation for other family sizes are then rounded up to the nearest $50 to produce the Final VLIL.\"\n",
    "\n",
    "https://www.huduser.gov/portal/datasets/il/il2020/2020IlCalc.odn\n"
   ]
  },
  {
   "cell_type": "code",
   "execution_count": 12,
   "metadata": {},
   "outputs": [
    {
     "data": {
      "text/plain": [
       "2     666919\n",
       "1     505353\n",
       "3     339571\n",
       "4     304312\n",
       "5     157804\n",
       "6      70477\n",
       "7      29662\n",
       "8      14229\n",
       "9       6949\n",
       "10      3698\n",
       "11      1986\n",
       "12      1334\n",
       "13       404\n",
       "14       254\n",
       "15       129\n",
       "16        61\n",
       "20        48\n",
       "17        32\n",
       "19        15\n",
       "18        13\n",
       "Name: ppl_in_hh, dtype: int64"
      ]
     },
     "execution_count": 12,
     "metadata": {},
     "output_type": "execute_result"
    }
   ],
   "source": [
    "#need to have household adjustments for up to size 20 \n",
    "pums_ca.ppl_in_hh.value_counts()"
   ]
  },
  {
   "cell_type": "code",
   "execution_count": 13,
   "metadata": {},
   "outputs": [],
   "source": [
    "pums_ca.County = pums_ca.County.str.rstrip()#strip trailing white space \n",
    "pums_ca = pums_ca.replace({\n",
    "    'County':{'Monterey (South & East) & San Benito Countie':\"Multiple\",\n",
    "            'Nevada & Sierra Countie':\"Multiple\",\"Sutter & Yuba Counties--Yuba Cit\":\"Multiple\",\n",
    "            \"Del Norte, Lassen, Modoc, Plumas & Siskiyou Countie\":\"Multiple\",\n",
    "            \"Alpine, Amador, Calaveras, Inyo, Mariposa, Mono & Tuolumne Countie\":\"Multiple\",\n",
    "             'Colusa, Glenn, Tehama & Trinity Countie':\"Multiple\",\n",
    "             \"Lake & Mendocino Countie\":\"Multiple\"}})#the 2010-2011 data did the one to many PUMA to County mapping, I'm just manually setting these to the Multiple category"
   ]
  },
  {
   "cell_type": "markdown",
   "metadata": {},
   "source": [
    "There is going to be a discrepency between the HUD data, which has every county in California, \n",
    "with the PUMS data, which has only the those that have a least one PUMA soley mapped to it. \n",
    "We need then to map the small counties in HUD with a one PUMA to many counties matching to the \n",
    "\"multiple counties\" category that we have in the PUMS data. "
   ]
  },
  {
   "cell_type": "code",
   "execution_count": 14,
   "metadata": {},
   "outputs": [],
   "source": [
    "#make sets of both county lists and look at the set difference to see what needs the \"multiple\" mapping \n",
    "pums_ca.County = pums_ca.County + \" County\"#make naming conventions align with HUD data so can merge\n",
    "\n",
    "pums_set = set(pums_ca.County)\n",
    "hud_set = set(df[\"County_Name\"])#now want to map everything not present in this data to the multiple category \n",
    "small_counties = hud_set.difference(pums_set)"
   ]
  },
  {
   "cell_type": "code",
   "execution_count": 15,
   "metadata": {},
   "outputs": [],
   "source": [
    "def small_multiples(x):\n",
    "    \"\"\"\n",
    "    This function returns \"Multiple Counties\" if county name is in the list of small counties, otherwise\n",
    "    keeps same value \n",
    "    \"\"\"\n",
    "    if x in small_counties:\n",
    "        return \"Multiple County\"\n",
    "    else:\n",
    "        return x \n",
    "df[\"County_Name\"] = df[\"County_Name\"].apply(lambda x: small_multiples(x))\n"
   ]
  },
  {
   "cell_type": "code",
   "execution_count": 16,
   "metadata": {},
   "outputs": [
    {
     "data": {
      "text/html": [
       "<div>\n",
       "<style scoped>\n",
       "    .dataframe tbody tr th:only-of-type {\n",
       "        vertical-align: middle;\n",
       "    }\n",
       "\n",
       "    .dataframe tbody tr th {\n",
       "        vertical-align: top;\n",
       "    }\n",
       "\n",
       "    .dataframe thead th {\n",
       "        text-align: right;\n",
       "    }\n",
       "</style>\n",
       "<table border=\"1\" class=\"dataframe\">\n",
       "  <thead>\n",
       "    <tr style=\"text-align: right;\">\n",
       "      <th></th>\n",
       "      <th>State_Alpha</th>\n",
       "      <th>County_Name</th>\n",
       "      <th>Metro_Area_Name</th>\n",
       "      <th>year</th>\n",
       "      <th>median</th>\n",
       "    </tr>\n",
       "  </thead>\n",
       "  <tbody>\n",
       "    <tr>\n",
       "      <th>186</th>\n",
       "      <td>CA</td>\n",
       "      <td>Alameda County</td>\n",
       "      <td>Oakland-Fremont, CA HUD Metro FMR Area</td>\n",
       "      <td>2017</td>\n",
       "      <td>97400</td>\n",
       "    </tr>\n",
       "    <tr>\n",
       "      <th>187</th>\n",
       "      <td>CA</td>\n",
       "      <td>Multiple County</td>\n",
       "      <td>Alpine County, CA</td>\n",
       "      <td>2017</td>\n",
       "      <td>74200</td>\n",
       "    </tr>\n",
       "    <tr>\n",
       "      <th>188</th>\n",
       "      <td>CA</td>\n",
       "      <td>Multiple County</td>\n",
       "      <td>Amador County, CA</td>\n",
       "      <td>2017</td>\n",
       "      <td>70900</td>\n",
       "    </tr>\n",
       "    <tr>\n",
       "      <th>189</th>\n",
       "      <td>CA</td>\n",
       "      <td>Butte County</td>\n",
       "      <td>Chico, CA MSA</td>\n",
       "      <td>2017</td>\n",
       "      <td>62600</td>\n",
       "    </tr>\n",
       "    <tr>\n",
       "      <th>190</th>\n",
       "      <td>CA</td>\n",
       "      <td>Multiple County</td>\n",
       "      <td>Calaveras County, CA</td>\n",
       "      <td>2017</td>\n",
       "      <td>69200</td>\n",
       "    </tr>\n",
       "  </tbody>\n",
       "</table>\n",
       "</div>"
      ],
      "text/plain": [
       "    State_Alpha      County_Name                         Metro_Area_Name  \\\n",
       "186          CA   Alameda County  Oakland-Fremont, CA HUD Metro FMR Area   \n",
       "187          CA  Multiple County                       Alpine County, CA   \n",
       "188          CA  Multiple County                       Amador County, CA   \n",
       "189          CA     Butte County                           Chico, CA MSA   \n",
       "190          CA  Multiple County                    Calaveras County, CA   \n",
       "\n",
       "     year  median  \n",
       "186  2017   97400  \n",
       "187  2017   74200  \n",
       "188  2017   70900  \n",
       "189  2017   62600  \n",
       "190  2017   69200  "
      ]
     },
     "execution_count": 16,
     "metadata": {},
     "output_type": "execute_result"
    }
   ],
   "source": [
    "df.head()"
   ]
  },
  {
   "cell_type": "code",
   "execution_count": 17,
   "metadata": {},
   "outputs": [],
   "source": [
    "df[\"County_Name\"] = df[\"County_Name\"].apply(lambda x: small_multiples(x))\n"
   ]
  },
  {
   "cell_type": "code",
   "execution_count": 18,
   "metadata": {},
   "outputs": [
    {
     "data": {
      "text/plain": [
       "array(['Alameda County', 'Multiple County', 'Butte County',\n",
       "       'Contra Costa County', 'El Dorado County', 'Fresno County',\n",
       "       'Humboldt County', 'Imperial County', 'Kern County',\n",
       "       'Kings County', 'Los Angeles County', 'Madera County',\n",
       "       'Marin County', 'Merced County', 'Monterey County', 'Napa County',\n",
       "       'Orange County', 'Placer County', 'Riverside County',\n",
       "       'Sacramento County', 'San Bernardino County', 'San Diego County',\n",
       "       'San Francisco County', 'San Joaquin County',\n",
       "       'San Luis Obispo County', 'San Mateo County',\n",
       "       'Santa Barbara County', 'Santa Clara County', 'Santa Cruz County',\n",
       "       'Shasta County', 'Solano County', 'Sonoma County',\n",
       "       'Stanislaus County', 'Tulare County', 'Ventura County',\n",
       "       'Yolo County'], dtype=object)"
      ]
     },
     "execution_count": 18,
     "metadata": {},
     "output_type": "execute_result"
    }
   ],
   "source": [
    "df[\"County_Name\"].unique()"
   ]
  },
  {
   "cell_type": "code",
   "execution_count": 19,
   "metadata": {},
   "outputs": [],
   "source": [
    "pums_ca[\"key\"] = pums_ca[\"County\"] + pums_ca[\"year\"].astype(str) #make keys to match on \n",
    "df[\"key\"] = df[\"County_Name\"] + df[\"year\"].astype(str) #make keys to match on "
   ]
  },
  {
   "cell_type": "code",
   "execution_count": 20,
   "metadata": {},
   "outputs": [],
   "source": [
    "#need to create range of values for each county \n",
    "df[\"80%_AMI\"] = df[\"median\"] * 0.8\n",
    "df[\"120%_AMI\"] = df[\"median\"] * 1.2"
   ]
  },
  {
   "cell_type": "code",
   "execution_count": 21,
   "metadata": {},
   "outputs": [
    {
     "data": {
      "text/plain": [
       "array(['Alameda County', 'Multiple County', 'Butte County',\n",
       "       'Contra Costa County', 'El Dorado County', 'Fresno County',\n",
       "       'Humboldt County', 'Imperial County', 'Kern County',\n",
       "       'Kings County', 'Los Angeles County', 'Madera County',\n",
       "       'Marin County', 'Merced County', 'Monterey County', 'Napa County',\n",
       "       'Orange County', 'Placer County', 'Riverside County',\n",
       "       'Sacramento County', 'San Bernardino County', 'San Diego County',\n",
       "       'San Francisco County', 'San Joaquin County',\n",
       "       'San Luis Obispo County', 'San Mateo County',\n",
       "       'Santa Barbara County', 'Santa Clara County', 'Santa Cruz County',\n",
       "       'Shasta County', 'Solano County', 'Sonoma County',\n",
       "       'Stanislaus County', 'Tulare County', 'Ventura County',\n",
       "       'Yolo County'], dtype=object)"
      ]
     },
     "execution_count": 21,
     "metadata": {},
     "output_type": "execute_result"
    }
   ],
   "source": [
    "df.County_Name.unique()"
   ]
  },
  {
   "cell_type": "code",
   "execution_count": 22,
   "metadata": {},
   "outputs": [
    {
     "data": {
      "text/plain": [
       "array(['Butte County', 'Placer County', 'Multiple County',\n",
       "       'Los Angeles County', 'Riverside County', 'Yolo County',\n",
       "       'Contra Costa County', 'San Mateo County', 'Sacramento County',\n",
       "       'San Joaquin County', 'San Bernardino County', 'Orange County',\n",
       "       'Kern County', 'Tulare County', 'Santa Barbara County',\n",
       "       'Ventura County', 'Fresno County', 'Monterey County',\n",
       "       'El Dorado County', 'Merced County', 'Santa Clara County',\n",
       "       'Alameda County', 'Stanislaus County', 'Solano County',\n",
       "       'San Luis Obispo County', 'Humboldt County',\n",
       "       'San Francisco County', 'San Diego County', 'Santa Cruz County',\n",
       "       'Shasta County', 'Sonoma County', 'Kings County', 'Marin County',\n",
       "       'Imperial County', 'Napa County', 'Madera County'], dtype=object)"
      ]
     },
     "execution_count": 22,
     "metadata": {},
     "output_type": "execute_result"
    }
   ],
   "source": [
    "pums_ca.County.unique()"
   ]
  },
  {
   "cell_type": "code",
   "execution_count": 23,
   "metadata": {},
   "outputs": [],
   "source": [
    "#merge data \n",
    "df_merged = pums_ca.merge(df,on=\"key\",how=\"left\")\n",
    "#df_merged.to_csv(\"HUD_PUMS_merged_data_CA.csv\")"
   ]
  },
  {
   "cell_type": "code",
   "execution_count": 24,
   "metadata": {},
   "outputs": [
    {
     "data": {
      "text/html": [
       "<div>\n",
       "<style scoped>\n",
       "    .dataframe tbody tr th:only-of-type {\n",
       "        vertical-align: middle;\n",
       "    }\n",
       "\n",
       "    .dataframe tbody tr th {\n",
       "        vertical-align: top;\n",
       "    }\n",
       "\n",
       "    .dataframe thead th {\n",
       "        text-align: right;\n",
       "    }\n",
       "</style>\n",
       "<table border=\"1\" class=\"dataframe\">\n",
       "  <thead>\n",
       "    <tr style=\"text-align: right;\">\n",
       "      <th></th>\n",
       "      <th>year</th>\n",
       "      <th>hh_income</th>\n",
       "      <th>ppl_in_hh</th>\n",
       "      <th>County</th>\n",
       "      <th>PUMA</th>\n",
       "      <th>key</th>\n",
       "    </tr>\n",
       "  </thead>\n",
       "  <tbody>\n",
       "    <tr>\n",
       "      <th>0</th>\n",
       "      <td>2011</td>\n",
       "      <td>74000.00</td>\n",
       "      <td>2</td>\n",
       "      <td>Butte County</td>\n",
       "      <td>702</td>\n",
       "      <td>Butte County2011</td>\n",
       "    </tr>\n",
       "    <tr>\n",
       "      <th>1</th>\n",
       "      <td>2011</td>\n",
       "      <td>74000.00</td>\n",
       "      <td>2</td>\n",
       "      <td>Placer County</td>\n",
       "      <td>6103</td>\n",
       "      <td>Placer County2011</td>\n",
       "    </tr>\n",
       "    <tr>\n",
       "      <th>2</th>\n",
       "      <td>2011</td>\n",
       "      <td>74000.00</td>\n",
       "      <td>2</td>\n",
       "      <td>Multiple County</td>\n",
       "      <td>10100</td>\n",
       "      <td>Multiple County2011</td>\n",
       "    </tr>\n",
       "    <tr>\n",
       "      <th>3</th>\n",
       "      <td>2011</td>\n",
       "      <td>74000.00</td>\n",
       "      <td>2</td>\n",
       "      <td>Multiple County</td>\n",
       "      <td>1500</td>\n",
       "      <td>Multiple County2011</td>\n",
       "    </tr>\n",
       "    <tr>\n",
       "      <th>4</th>\n",
       "      <td>2011</td>\n",
       "      <td>29300.00</td>\n",
       "      <td>1</td>\n",
       "      <td>Los Angeles County</td>\n",
       "      <td>3740</td>\n",
       "      <td>Los Angeles County2011</td>\n",
       "    </tr>\n",
       "  </tbody>\n",
       "</table>\n",
       "</div>"
      ],
      "text/plain": [
       "   year  hh_income  ppl_in_hh              County   PUMA  \\\n",
       "0  2011   74000.00          2        Butte County    702   \n",
       "1  2011   74000.00          2       Placer County   6103   \n",
       "2  2011   74000.00          2     Multiple County  10100   \n",
       "3  2011   74000.00          2     Multiple County   1500   \n",
       "4  2011   29300.00          1  Los Angeles County   3740   \n",
       "\n",
       "                      key  \n",
       "0        Butte County2011  \n",
       "1       Placer County2011  \n",
       "2     Multiple County2011  \n",
       "3     Multiple County2011  \n",
       "4  Los Angeles County2011  "
      ]
     },
     "execution_count": 24,
     "metadata": {},
     "output_type": "execute_result"
    }
   ],
   "source": [
    "pums_ca.head()"
   ]
  },
  {
   "cell_type": "code",
   "execution_count": 25,
   "metadata": {},
   "outputs": [
    {
     "data": {
      "text/plain": [
       "'Butte County2011'"
      ]
     },
     "execution_count": 25,
     "metadata": {},
     "output_type": "execute_result"
    }
   ],
   "source": [
    "pums_ca[\"key\"][0]"
   ]
  },
  {
   "cell_type": "markdown",
   "metadata": {},
   "source": [
    "STATE OF AFFAIRS EOD\n",
    "\n",
    "as noted below, make sure both have the Multple counties thing populating correclty, somethign is wrong with the \n",
    "PUMS multiple key\n",
    "\n",
    "with HUD DF NEED TO AVERAGE ACROSS THE MULTIPLE MULTIPLE COUNTIES MAPPINGS IN DF, AMI Bands, prior to merge. \n",
    "\n",
    "then:\n",
    "\n",
    " 1. graph for all of california \n",
    " 2. graph for top 10 MSAs\n",
    " 3. graph for remaining counties \n",
    "\n"
   ]
  },
  {
   "cell_type": "code",
   "execution_count": 26,
   "metadata": {},
   "outputs": [
    {
     "data": {
      "text/plain": [
       "set()"
      ]
     },
     "execution_count": 26,
     "metadata": {},
     "output_type": "execute_result"
    }
   ],
   "source": [
    "set(df.key).difference(set(pums_ca.key))"
   ]
  },
  {
   "cell_type": "code",
   "execution_count": 27,
   "metadata": {},
   "outputs": [
    {
     "data": {
      "text/plain": [
       "{'Alameda County2010',\n",
       " 'Alameda County2011',\n",
       " 'Alameda County2012',\n",
       " 'Alameda County2013',\n",
       " 'Alameda County2014',\n",
       " 'Alameda County2015',\n",
       " 'Alameda County2016',\n",
       " 'Alameda County2017',\n",
       " 'Alameda County2018',\n",
       " 'Alameda County2019',\n",
       " 'Butte County2010',\n",
       " 'Butte County2011',\n",
       " 'Butte County2012',\n",
       " 'Butte County2013',\n",
       " 'Butte County2014',\n",
       " 'Butte County2015',\n",
       " 'Butte County2016',\n",
       " 'Butte County2017',\n",
       " 'Butte County2018',\n",
       " 'Butte County2019',\n",
       " 'Contra Costa County2010',\n",
       " 'Contra Costa County2011',\n",
       " 'Contra Costa County2012',\n",
       " 'Contra Costa County2013',\n",
       " 'Contra Costa County2014',\n",
       " 'Contra Costa County2015',\n",
       " 'Contra Costa County2016',\n",
       " 'Contra Costa County2017',\n",
       " 'Contra Costa County2018',\n",
       " 'Contra Costa County2019',\n",
       " 'El Dorado County2010',\n",
       " 'El Dorado County2011',\n",
       " 'El Dorado County2012',\n",
       " 'El Dorado County2013',\n",
       " 'El Dorado County2014',\n",
       " 'El Dorado County2015',\n",
       " 'El Dorado County2016',\n",
       " 'El Dorado County2017',\n",
       " 'El Dorado County2018',\n",
       " 'El Dorado County2019',\n",
       " 'Fresno County2010',\n",
       " 'Fresno County2011',\n",
       " 'Fresno County2012',\n",
       " 'Fresno County2013',\n",
       " 'Fresno County2014',\n",
       " 'Fresno County2015',\n",
       " 'Fresno County2016',\n",
       " 'Fresno County2017',\n",
       " 'Fresno County2018',\n",
       " 'Fresno County2019',\n",
       " 'Humboldt County2010',\n",
       " 'Humboldt County2011',\n",
       " 'Humboldt County2012',\n",
       " 'Humboldt County2013',\n",
       " 'Humboldt County2014',\n",
       " 'Humboldt County2015',\n",
       " 'Humboldt County2016',\n",
       " 'Humboldt County2017',\n",
       " 'Humboldt County2018',\n",
       " 'Humboldt County2019',\n",
       " 'Imperial County2010',\n",
       " 'Imperial County2011',\n",
       " 'Imperial County2012',\n",
       " 'Imperial County2013',\n",
       " 'Imperial County2014',\n",
       " 'Imperial County2015',\n",
       " 'Imperial County2016',\n",
       " 'Imperial County2017',\n",
       " 'Imperial County2018',\n",
       " 'Imperial County2019',\n",
       " 'Kern County2010',\n",
       " 'Kern County2011',\n",
       " 'Kern County2012',\n",
       " 'Kern County2013',\n",
       " 'Kern County2014',\n",
       " 'Kern County2015',\n",
       " 'Kern County2016',\n",
       " 'Kern County2017',\n",
       " 'Kern County2018',\n",
       " 'Kern County2019',\n",
       " 'Kings County2010',\n",
       " 'Kings County2011',\n",
       " 'Kings County2012',\n",
       " 'Kings County2013',\n",
       " 'Kings County2014',\n",
       " 'Kings County2015',\n",
       " 'Kings County2016',\n",
       " 'Kings County2017',\n",
       " 'Kings County2018',\n",
       " 'Kings County2019',\n",
       " 'Los Angeles County2010',\n",
       " 'Los Angeles County2011',\n",
       " 'Los Angeles County2012',\n",
       " 'Los Angeles County2013',\n",
       " 'Los Angeles County2014',\n",
       " 'Los Angeles County2015',\n",
       " 'Los Angeles County2016',\n",
       " 'Los Angeles County2017',\n",
       " 'Los Angeles County2018',\n",
       " 'Los Angeles County2019',\n",
       " 'Madera County2010',\n",
       " 'Madera County2011',\n",
       " 'Madera County2012',\n",
       " 'Madera County2013',\n",
       " 'Madera County2014',\n",
       " 'Madera County2015',\n",
       " 'Madera County2016',\n",
       " 'Madera County2017',\n",
       " 'Madera County2018',\n",
       " 'Madera County2019',\n",
       " 'Marin County2010',\n",
       " 'Marin County2011',\n",
       " 'Marin County2012',\n",
       " 'Marin County2013',\n",
       " 'Marin County2014',\n",
       " 'Marin County2015',\n",
       " 'Marin County2016',\n",
       " 'Marin County2017',\n",
       " 'Marin County2018',\n",
       " 'Marin County2019',\n",
       " 'Merced County2010',\n",
       " 'Merced County2011',\n",
       " 'Merced County2012',\n",
       " 'Merced County2013',\n",
       " 'Merced County2014',\n",
       " 'Merced County2015',\n",
       " 'Merced County2016',\n",
       " 'Merced County2017',\n",
       " 'Merced County2018',\n",
       " 'Merced County2019',\n",
       " 'Monterey County2010',\n",
       " 'Monterey County2011',\n",
       " 'Monterey County2012',\n",
       " 'Monterey County2013',\n",
       " 'Monterey County2014',\n",
       " 'Monterey County2015',\n",
       " 'Monterey County2016',\n",
       " 'Monterey County2017',\n",
       " 'Monterey County2018',\n",
       " 'Monterey County2019',\n",
       " 'Multiple County2010',\n",
       " 'Multiple County2011',\n",
       " 'Multiple County2012',\n",
       " 'Multiple County2013',\n",
       " 'Multiple County2014',\n",
       " 'Multiple County2015',\n",
       " 'Multiple County2016',\n",
       " 'Multiple County2017',\n",
       " 'Multiple County2018',\n",
       " 'Multiple County2019',\n",
       " 'Napa County2010',\n",
       " 'Napa County2011',\n",
       " 'Napa County2012',\n",
       " 'Napa County2013',\n",
       " 'Napa County2014',\n",
       " 'Napa County2015',\n",
       " 'Napa County2016',\n",
       " 'Napa County2017',\n",
       " 'Napa County2018',\n",
       " 'Napa County2019',\n",
       " 'Orange County2010',\n",
       " 'Orange County2011',\n",
       " 'Orange County2012',\n",
       " 'Orange County2013',\n",
       " 'Orange County2014',\n",
       " 'Orange County2015',\n",
       " 'Orange County2016',\n",
       " 'Orange County2017',\n",
       " 'Orange County2018',\n",
       " 'Orange County2019',\n",
       " 'Placer County2010',\n",
       " 'Placer County2011',\n",
       " 'Placer County2012',\n",
       " 'Placer County2013',\n",
       " 'Placer County2014',\n",
       " 'Placer County2015',\n",
       " 'Placer County2016',\n",
       " 'Placer County2017',\n",
       " 'Placer County2018',\n",
       " 'Placer County2019',\n",
       " 'Riverside County2010',\n",
       " 'Riverside County2011',\n",
       " 'Riverside County2012',\n",
       " 'Riverside County2013',\n",
       " 'Riverside County2014',\n",
       " 'Riverside County2015',\n",
       " 'Riverside County2016',\n",
       " 'Riverside County2017',\n",
       " 'Riverside County2018',\n",
       " 'Riverside County2019',\n",
       " 'Sacramento County2010',\n",
       " 'Sacramento County2011',\n",
       " 'Sacramento County2012',\n",
       " 'Sacramento County2013',\n",
       " 'Sacramento County2014',\n",
       " 'Sacramento County2015',\n",
       " 'Sacramento County2016',\n",
       " 'Sacramento County2017',\n",
       " 'Sacramento County2018',\n",
       " 'Sacramento County2019',\n",
       " 'San Bernardino County2010',\n",
       " 'San Bernardino County2011',\n",
       " 'San Bernardino County2012',\n",
       " 'San Bernardino County2013',\n",
       " 'San Bernardino County2014',\n",
       " 'San Bernardino County2015',\n",
       " 'San Bernardino County2016',\n",
       " 'San Bernardino County2017',\n",
       " 'San Bernardino County2018',\n",
       " 'San Bernardino County2019',\n",
       " 'San Diego County2010',\n",
       " 'San Diego County2011',\n",
       " 'San Diego County2012',\n",
       " 'San Diego County2013',\n",
       " 'San Diego County2014',\n",
       " 'San Diego County2015',\n",
       " 'San Diego County2016',\n",
       " 'San Diego County2017',\n",
       " 'San Diego County2018',\n",
       " 'San Diego County2019',\n",
       " 'San Francisco County2010',\n",
       " 'San Francisco County2011',\n",
       " 'San Francisco County2012',\n",
       " 'San Francisco County2013',\n",
       " 'San Francisco County2014',\n",
       " 'San Francisco County2015',\n",
       " 'San Francisco County2016',\n",
       " 'San Francisco County2017',\n",
       " 'San Francisco County2018',\n",
       " 'San Francisco County2019',\n",
       " 'San Joaquin County2010',\n",
       " 'San Joaquin County2011',\n",
       " 'San Joaquin County2012',\n",
       " 'San Joaquin County2013',\n",
       " 'San Joaquin County2014',\n",
       " 'San Joaquin County2015',\n",
       " 'San Joaquin County2016',\n",
       " 'San Joaquin County2017',\n",
       " 'San Joaquin County2018',\n",
       " 'San Joaquin County2019',\n",
       " 'San Luis Obispo County2010',\n",
       " 'San Luis Obispo County2011',\n",
       " 'San Luis Obispo County2012',\n",
       " 'San Luis Obispo County2013',\n",
       " 'San Luis Obispo County2014',\n",
       " 'San Luis Obispo County2015',\n",
       " 'San Luis Obispo County2016',\n",
       " 'San Luis Obispo County2017',\n",
       " 'San Luis Obispo County2018',\n",
       " 'San Luis Obispo County2019',\n",
       " 'San Mateo County2010',\n",
       " 'San Mateo County2011',\n",
       " 'San Mateo County2012',\n",
       " 'San Mateo County2013',\n",
       " 'San Mateo County2014',\n",
       " 'San Mateo County2015',\n",
       " 'San Mateo County2016',\n",
       " 'San Mateo County2017',\n",
       " 'San Mateo County2018',\n",
       " 'San Mateo County2019',\n",
       " 'Santa Barbara County2010',\n",
       " 'Santa Barbara County2011',\n",
       " 'Santa Barbara County2012',\n",
       " 'Santa Barbara County2013',\n",
       " 'Santa Barbara County2014',\n",
       " 'Santa Barbara County2015',\n",
       " 'Santa Barbara County2016',\n",
       " 'Santa Barbara County2017',\n",
       " 'Santa Barbara County2018',\n",
       " 'Santa Barbara County2019',\n",
       " 'Santa Clara County2010',\n",
       " 'Santa Clara County2011',\n",
       " 'Santa Clara County2012',\n",
       " 'Santa Clara County2013',\n",
       " 'Santa Clara County2014',\n",
       " 'Santa Clara County2015',\n",
       " 'Santa Clara County2016',\n",
       " 'Santa Clara County2017',\n",
       " 'Santa Clara County2018',\n",
       " 'Santa Clara County2019',\n",
       " 'Santa Cruz County2010',\n",
       " 'Santa Cruz County2011',\n",
       " 'Santa Cruz County2012',\n",
       " 'Santa Cruz County2013',\n",
       " 'Santa Cruz County2014',\n",
       " 'Santa Cruz County2015',\n",
       " 'Santa Cruz County2016',\n",
       " 'Santa Cruz County2017',\n",
       " 'Santa Cruz County2018',\n",
       " 'Santa Cruz County2019',\n",
       " 'Shasta County2010',\n",
       " 'Shasta County2011',\n",
       " 'Shasta County2012',\n",
       " 'Shasta County2013',\n",
       " 'Shasta County2014',\n",
       " 'Shasta County2015',\n",
       " 'Shasta County2016',\n",
       " 'Shasta County2017',\n",
       " 'Shasta County2018',\n",
       " 'Shasta County2019',\n",
       " 'Solano County2010',\n",
       " 'Solano County2011',\n",
       " 'Solano County2012',\n",
       " 'Solano County2013',\n",
       " 'Solano County2014',\n",
       " 'Solano County2015',\n",
       " 'Solano County2016',\n",
       " 'Solano County2017',\n",
       " 'Solano County2018',\n",
       " 'Solano County2019',\n",
       " 'Sonoma County2010',\n",
       " 'Sonoma County2011',\n",
       " 'Sonoma County2012',\n",
       " 'Sonoma County2013',\n",
       " 'Sonoma County2014',\n",
       " 'Sonoma County2015',\n",
       " 'Sonoma County2016',\n",
       " 'Sonoma County2017',\n",
       " 'Sonoma County2018',\n",
       " 'Sonoma County2019',\n",
       " 'Stanislaus County2010',\n",
       " 'Stanislaus County2011',\n",
       " 'Stanislaus County2012',\n",
       " 'Stanislaus County2013',\n",
       " 'Stanislaus County2014',\n",
       " 'Stanislaus County2015',\n",
       " 'Stanislaus County2016',\n",
       " 'Stanislaus County2017',\n",
       " 'Stanislaus County2018',\n",
       " 'Stanislaus County2019',\n",
       " 'Tulare County2010',\n",
       " 'Tulare County2011',\n",
       " 'Tulare County2012',\n",
       " 'Tulare County2013',\n",
       " 'Tulare County2014',\n",
       " 'Tulare County2015',\n",
       " 'Tulare County2016',\n",
       " 'Tulare County2017',\n",
       " 'Tulare County2018',\n",
       " 'Tulare County2019',\n",
       " 'Ventura County2010',\n",
       " 'Ventura County2011',\n",
       " 'Ventura County2012',\n",
       " 'Ventura County2013',\n",
       " 'Ventura County2014',\n",
       " 'Ventura County2015',\n",
       " 'Ventura County2016',\n",
       " 'Ventura County2017',\n",
       " 'Ventura County2018',\n",
       " 'Ventura County2019',\n",
       " 'Yolo County2010',\n",
       " 'Yolo County2011',\n",
       " 'Yolo County2012',\n",
       " 'Yolo County2013',\n",
       " 'Yolo County2014',\n",
       " 'Yolo County2015',\n",
       " 'Yolo County2016',\n",
       " 'Yolo County2017',\n",
       " 'Yolo County2018',\n",
       " 'Yolo County2019'}"
      ]
     },
     "execution_count": 27,
     "metadata": {},
     "output_type": "execute_result"
    }
   ],
   "source": [
    "set(df.key).union(set(pums_ca.key))"
   ]
  },
  {
   "cell_type": "code",
   "execution_count": 28,
   "metadata": {},
   "outputs": [],
   "source": [
    "pums_ca_count = pums_ca.groupby([\"County\",\"year\"]).count().reset_index()"
   ]
  },
  {
   "cell_type": "code",
   "execution_count": 29,
   "metadata": {},
   "outputs": [
    {
     "data": {
      "text/html": [
       "<div>\n",
       "<style scoped>\n",
       "    .dataframe tbody tr th:only-of-type {\n",
       "        vertical-align: middle;\n",
       "    }\n",
       "\n",
       "    .dataframe tbody tr th {\n",
       "        vertical-align: top;\n",
       "    }\n",
       "\n",
       "    .dataframe thead th {\n",
       "        text-align: right;\n",
       "    }\n",
       "</style>\n",
       "<table border=\"1\" class=\"dataframe\">\n",
       "  <thead>\n",
       "    <tr style=\"text-align: right;\">\n",
       "      <th></th>\n",
       "      <th>County</th>\n",
       "      <th>year</th>\n",
       "      <th>hh_income</th>\n",
       "      <th>ppl_in_hh</th>\n",
       "      <th>PUMA</th>\n",
       "      <th>key</th>\n",
       "    </tr>\n",
       "  </thead>\n",
       "  <tbody>\n",
       "    <tr>\n",
       "      <th>0</th>\n",
       "      <td>Alameda County</td>\n",
       "      <td>2010</td>\n",
       "      <td>11893</td>\n",
       "      <td>11893</td>\n",
       "      <td>11893</td>\n",
       "      <td>11893</td>\n",
       "    </tr>\n",
       "    <tr>\n",
       "      <th>1</th>\n",
       "      <td>Alameda County</td>\n",
       "      <td>2011</td>\n",
       "      <td>11996</td>\n",
       "      <td>11996</td>\n",
       "      <td>11996</td>\n",
       "      <td>11996</td>\n",
       "    </tr>\n",
       "    <tr>\n",
       "      <th>2</th>\n",
       "      <td>Alameda County</td>\n",
       "      <td>2012</td>\n",
       "      <td>5825</td>\n",
       "      <td>5825</td>\n",
       "      <td>5825</td>\n",
       "      <td>5825</td>\n",
       "    </tr>\n",
       "    <tr>\n",
       "      <th>3</th>\n",
       "      <td>Alameda County</td>\n",
       "      <td>2013</td>\n",
       "      <td>6032</td>\n",
       "      <td>6032</td>\n",
       "      <td>6032</td>\n",
       "      <td>6032</td>\n",
       "    </tr>\n",
       "    <tr>\n",
       "      <th>4</th>\n",
       "      <td>Alameda County</td>\n",
       "      <td>2014</td>\n",
       "      <td>6056</td>\n",
       "      <td>6056</td>\n",
       "      <td>6056</td>\n",
       "      <td>6056</td>\n",
       "    </tr>\n",
       "  </tbody>\n",
       "</table>\n",
       "</div>"
      ],
      "text/plain": [
       "           County  year  hh_income  ppl_in_hh   PUMA    key\n",
       "0  Alameda County  2010      11893      11893  11893  11893\n",
       "1  Alameda County  2011      11996      11996  11996  11996\n",
       "2  Alameda County  2012       5825       5825   5825   5825\n",
       "3  Alameda County  2013       6032       6032   6032   6032\n",
       "4  Alameda County  2014       6056       6056   6056   6056"
      ]
     },
     "execution_count": 29,
     "metadata": {},
     "output_type": "execute_result"
    }
   ],
   "source": [
    "pums_ca_count.head()"
   ]
  },
  {
   "cell_type": "code",
   "execution_count": 30,
   "metadata": {},
   "outputs": [
    {
     "data": {
      "text/plain": [
       "Riverside County          10\n",
       "Yolo County               10\n",
       "Santa Cruz County         10\n",
       "Kern County               10\n",
       "Marin County              10\n",
       "Contra Costa County       10\n",
       "Tulare County             10\n",
       "Shasta County             10\n",
       "Ventura County            10\n",
       "San Bernardino County     10\n",
       "Los Angeles County        10\n",
       "Imperial County           10\n",
       "Butte County              10\n",
       "Madera County             10\n",
       "San Mateo County          10\n",
       "Santa Barbara County      10\n",
       "Multiple County           10\n",
       "Stanislaus County         10\n",
       "Orange County             10\n",
       "Sacramento County         10\n",
       "Fresno County             10\n",
       "El Dorado County          10\n",
       "Sonoma County             10\n",
       "Kings County              10\n",
       "Monterey County           10\n",
       "San Luis Obispo County    10\n",
       "Santa Clara County        10\n",
       "Placer County             10\n",
       "San Francisco County      10\n",
       "Humboldt County           10\n",
       "Napa County               10\n",
       "San Diego County          10\n",
       "San Joaquin County        10\n",
       "Merced County             10\n",
       "Alameda County            10\n",
       "Solano County             10\n",
       "Name: County, dtype: int64"
      ]
     },
     "execution_count": 30,
     "metadata": {},
     "output_type": "execute_result"
    }
   ],
   "source": [
    "#confirm, we have values for all 10 years for all counties \n",
    "pums_ca_count.County.value_counts()"
   ]
  },
  {
   "cell_type": "code",
   "execution_count": 31,
   "metadata": {},
   "outputs": [
    {
     "data": {
      "text/plain": [
       "50400.00    204751\n",
       "51200.00    177118\n",
       "58480.00     68704\n",
       "52000.00     64868\n",
       "50000.00     59172\n",
       "             ...  \n",
       "44320.00       420\n",
       "34400.00       401\n",
       "44160.00       400\n",
       "36640.00       396\n",
       "37520.00       383\n",
       "Name: 80%_AMI, Length: 308, dtype: int64"
      ]
     },
     "execution_count": 31,
     "metadata": {},
     "output_type": "execute_result"
    }
   ],
   "source": [
    "df_merged[\"80%_AMI\"].value_counts()"
   ]
  },
  {
   "cell_type": "code",
   "execution_count": 32,
   "metadata": {},
   "outputs": [],
   "source": [
    "# do some column clean up \n",
    "df_merged = df_merged.drop(columns={\"year_x\"})\n",
    "df_merged = df_merged.rename(columns={\"year_y\":\"year\"})"
   ]
  },
  {
   "cell_type": "code",
   "execution_count": 33,
   "metadata": {},
   "outputs": [],
   "source": [
    "#create AMI percentages from median number \n",
    "df_merged[\"80%_AMI\"] = df_merged[\"median\"] * 0.8\n",
    "df_merged[\"120%_AMI\"] = df_merged[\"median\"] * 1.2"
   ]
  },
  {
   "cell_type": "code",
   "execution_count": 34,
   "metadata": {},
   "outputs": [],
   "source": [
    "family_size_dict = {1:.7,\n",
    "                   2:.8,\n",
    "                   3:.9,\n",
    "                   4:1,\n",
    "                    5:1.08,\n",
    "                    6:1.16,\n",
    "                    7:1.24,\n",
    "                    8:1.32,\n",
    "                   9:1.40,\n",
    "                   10:1.48,\n",
    "                   11:1.56,\n",
    "                   12:1.64,\n",
    "                   13:1.72,\n",
    "                   14:1.80,\n",
    "                   15:1.88,\n",
    "                   16:1.96,\n",
    "                   17:2.04,\n",
    "                   18:2.12,\n",
    "                   19:2.20,\n",
    "                   20:2.28}\n",
    "#make new column of the AMI multiplier based on each households family size \n",
    "df_merged[\"family_size_multiplier\"] = df_merged[\"ppl_in_hh\"].map(family_size_dict)"
   ]
  },
  {
   "cell_type": "code",
   "execution_count": 35,
   "metadata": {},
   "outputs": [],
   "source": [
    "#adjust ami bands for each household based on household size \n",
    "df_merged[\"80%_AMI_adjusted\"] = df_merged[\"80%_AMI\"] * df_merged[\"family_size_multiplier\"]\n",
    "df_merged[\"120%_AMI_adjusted\"] = df_merged[\"120%_AMI\"] * df_merged[\"family_size_multiplier\"]"
   ]
  },
  {
   "cell_type": "code",
   "execution_count": 36,
   "metadata": {},
   "outputs": [],
   "source": [
    "#want to label households in dataset that are middle income \n",
    "df_merged['middle_income_HH'] = np.where((df_merged[\"hh_income\"] >= df_merged[\"80%_AMI_adjusted\"])&(df_merged[\"hh_income\"] <= df_merged[\"120%_AMI_adjusted\"]), 1, 0)"
   ]
  },
  {
   "cell_type": "code",
   "execution_count": 37,
   "metadata": {},
   "outputs": [],
   "source": [
    "middle_income = df_merged[df_merged['middle_income_HH'] ==1]"
   ]
  },
  {
   "cell_type": "code",
   "execution_count": 38,
   "metadata": {},
   "outputs": [
    {
     "data": {
      "text/plain": [
       "0.17625170997073827"
      ]
     },
     "execution_count": 38,
     "metadata": {},
     "output_type": "execute_result"
    }
   ],
   "source": [
    "# 17.6 percent of households in our dataset fall into this middle income category\n",
    "len(middle_income)/len(df_merged) "
   ]
  },
  {
   "cell_type": "code",
   "execution_count": 39,
   "metadata": {},
   "outputs": [],
   "source": [
    "#here i want to sum middle income houses for each year and county combo and then also get a total count for each \n",
    "#year and county combo, and make a small data frame with just this information. \n",
    "#then can calculate percentage of Middle income renters in each year and county through simple divison \n",
    "mid_income_count = df_merged.groupby([\"year\",\"County_Name\"]).sum().reset_index()[[\"year\",\"County_Name\",\"middle_income_HH\"]]\n",
    "total_income_count = df_merged.groupby([\"year\",\"County_Name\"]).count().reset_index()[[\"year\",\"County_Name\",\"middle_income_HH\"]]\n",
    "mid_income_count_percentage = mid_income_count.merge(total_income_count,on=[\"year\",\"County_Name\"])\n",
    "mid_income_count_percentage = mid_income_count_percentage.rename(columns={\"middle_income_HH_x\":\"middle_income_HH\",\"middle_income_HH_y\":\"total\"})\n",
    "mid_income_count_percentage[\"Middle Income Renter Percentage\"] = mid_income_count_percentage[\"middle_income_HH\"] /mid_income_count_percentage[\"total\"]"
   ]
  },
  {
   "cell_type": "code",
   "execution_count": 40,
   "metadata": {},
   "outputs": [
    {
     "data": {
      "text/plain": [
       "count   360.00\n",
       "mean      0.18\n",
       "std       0.01\n",
       "min       0.13\n",
       "25%       0.17\n",
       "50%       0.18\n",
       "75%       0.18\n",
       "max       0.24\n",
       "Name: Middle Income Renter Percentage, dtype: float64"
      ]
     },
     "execution_count": 40,
     "metadata": {},
     "output_type": "execute_result"
    }
   ],
   "source": [
    "mid_income_count_percentage[\"Middle Income Renter Percentage\"].describe()"
   ]
  },
  {
   "cell_type": "code",
   "execution_count": 48,
   "metadata": {},
   "outputs": [
    {
     "data": {
      "text/html": [
       "<div>\n",
       "<style scoped>\n",
       "    .dataframe tbody tr th:only-of-type {\n",
       "        vertical-align: middle;\n",
       "    }\n",
       "\n",
       "    .dataframe tbody tr th {\n",
       "        vertical-align: top;\n",
       "    }\n",
       "\n",
       "    .dataframe thead th {\n",
       "        text-align: right;\n",
       "    }\n",
       "</style>\n",
       "<table border=\"1\" class=\"dataframe\">\n",
       "  <thead>\n",
       "    <tr style=\"text-align: right;\">\n",
       "      <th></th>\n",
       "      <th>year</th>\n",
       "      <th>County_Name</th>\n",
       "      <th>middle_income_HH</th>\n",
       "      <th>total</th>\n",
       "      <th>Middle Income Renter Percentage</th>\n",
       "    </tr>\n",
       "  </thead>\n",
       "  <tbody>\n",
       "    <tr>\n",
       "      <th>0</th>\n",
       "      <td>2010</td>\n",
       "      <td>Alameda County</td>\n",
       "      <td>2140</td>\n",
       "      <td>11893</td>\n",
       "      <td>0.18</td>\n",
       "    </tr>\n",
       "    <tr>\n",
       "      <th>1</th>\n",
       "      <td>2010</td>\n",
       "      <td>Butte County</td>\n",
       "      <td>690</td>\n",
       "      <td>3670</td>\n",
       "      <td>0.19</td>\n",
       "    </tr>\n",
       "    <tr>\n",
       "      <th>2</th>\n",
       "      <td>2010</td>\n",
       "      <td>Contra Costa County</td>\n",
       "      <td>2512</td>\n",
       "      <td>12623</td>\n",
       "      <td>0.20</td>\n",
       "    </tr>\n",
       "    <tr>\n",
       "      <th>3</th>\n",
       "      <td>2010</td>\n",
       "      <td>El Dorado County</td>\n",
       "      <td>529</td>\n",
       "      <td>2702</td>\n",
       "      <td>0.20</td>\n",
       "    </tr>\n",
       "    <tr>\n",
       "      <th>4</th>\n",
       "      <td>2010</td>\n",
       "      <td>Fresno County</td>\n",
       "      <td>2580</td>\n",
       "      <td>14928</td>\n",
       "      <td>0.17</td>\n",
       "    </tr>\n",
       "    <tr>\n",
       "      <th>...</th>\n",
       "      <td>...</td>\n",
       "      <td>...</td>\n",
       "      <td>...</td>\n",
       "      <td>...</td>\n",
       "      <td>...</td>\n",
       "    </tr>\n",
       "    <tr>\n",
       "      <th>355</th>\n",
       "      <td>2019</td>\n",
       "      <td>Sonoma County</td>\n",
       "      <td>382</td>\n",
       "      <td>1947</td>\n",
       "      <td>0.20</td>\n",
       "    </tr>\n",
       "    <tr>\n",
       "      <th>356</th>\n",
       "      <td>2019</td>\n",
       "      <td>Stanislaus County</td>\n",
       "      <td>312</td>\n",
       "      <td>1644</td>\n",
       "      <td>0.19</td>\n",
       "    </tr>\n",
       "    <tr>\n",
       "      <th>357</th>\n",
       "      <td>2019</td>\n",
       "      <td>Tulare County</td>\n",
       "      <td>175</td>\n",
       "      <td>1193</td>\n",
       "      <td>0.15</td>\n",
       "    </tr>\n",
       "    <tr>\n",
       "      <th>358</th>\n",
       "      <td>2019</td>\n",
       "      <td>Ventura County</td>\n",
       "      <td>595</td>\n",
       "      <td>3013</td>\n",
       "      <td>0.20</td>\n",
       "    </tr>\n",
       "    <tr>\n",
       "      <th>359</th>\n",
       "      <td>2019</td>\n",
       "      <td>Yolo County</td>\n",
       "      <td>120</td>\n",
       "      <td>755</td>\n",
       "      <td>0.16</td>\n",
       "    </tr>\n",
       "  </tbody>\n",
       "</table>\n",
       "<p>360 rows × 5 columns</p>\n",
       "</div>"
      ],
      "text/plain": [
       "     year          County_Name  middle_income_HH  total  \\\n",
       "0    2010       Alameda County              2140  11893   \n",
       "1    2010         Butte County               690   3670   \n",
       "2    2010  Contra Costa County              2512  12623   \n",
       "3    2010     El Dorado County               529   2702   \n",
       "4    2010        Fresno County              2580  14928   \n",
       "..    ...                  ...               ...    ...   \n",
       "355  2019        Sonoma County               382   1947   \n",
       "356  2019    Stanislaus County               312   1644   \n",
       "357  2019        Tulare County               175   1193   \n",
       "358  2019       Ventura County               595   3013   \n",
       "359  2019          Yolo County               120    755   \n",
       "\n",
       "     Middle Income Renter Percentage  \n",
       "0                               0.18  \n",
       "1                               0.19  \n",
       "2                               0.20  \n",
       "3                               0.20  \n",
       "4                               0.17  \n",
       "..                               ...  \n",
       "355                             0.20  \n",
       "356                             0.19  \n",
       "357                             0.15  \n",
       "358                             0.20  \n",
       "359                             0.16  \n",
       "\n",
       "[360 rows x 5 columns]"
      ]
     },
     "execution_count": 48,
     "metadata": {},
     "output_type": "execute_result"
    }
   ],
   "source": [
    "mid_income_count_percentage."
   ]
  },
  {
   "cell_type": "code",
   "execution_count": 41,
   "metadata": {},
   "outputs": [
    {
     "data": {
      "text/plain": [
       "array(['Alameda County', 'Butte County', 'Contra Costa County',\n",
       "       'El Dorado County', 'Fresno County', 'Humboldt County',\n",
       "       'Imperial County', 'Kern County', 'Kings County',\n",
       "       'Los Angeles County', 'Madera County', 'Marin County',\n",
       "       'Merced County', 'Monterey County', 'Multiple County',\n",
       "       'Napa County', 'Orange County', 'Placer County',\n",
       "       'Riverside County', 'Sacramento County', 'San Bernardino County',\n",
       "       'San Diego County', 'San Francisco County', 'San Joaquin County',\n",
       "       'San Luis Obispo County', 'San Mateo County',\n",
       "       'Santa Barbara County', 'Santa Clara County', 'Santa Cruz County',\n",
       "       'Shasta County', 'Solano County', 'Sonoma County',\n",
       "       'Stanislaus County', 'Tulare County', 'Ventura County',\n",
       "       'Yolo County'], dtype=object)"
      ]
     },
     "execution_count": 41,
     "metadata": {},
     "output_type": "execute_result"
    }
   ],
   "source": [
    "mid_income_count_percentage.County_Name.unique()"
   ]
  },
  {
   "cell_type": "markdown",
   "metadata": {},
   "source": [
    "### Average Across California"
   ]
  },
  {
   "cell_type": "code",
   "execution_count": 60,
   "metadata": {},
   "outputs": [],
   "source": [
    "cali_average = mid_income_count_percentage.groupby(\"year\").mean().reset_index()"
   ]
  },
  {
   "cell_type": "code",
   "execution_count": 61,
   "metadata": {},
   "outputs": [
    {
     "data": {
      "text/html": [
       "\n",
       "<div id=\"altair-viz-8d1e2703ebdc48bd977c26f736d0e019\"></div>\n",
       "<script type=\"text/javascript\">\n",
       "  (function(spec, embedOpt){\n",
       "    const outputDiv = document.getElementById(\"altair-viz-8d1e2703ebdc48bd977c26f736d0e019\");\n",
       "    const paths = {\n",
       "      \"vega\": \"https://cdn.jsdelivr.net/npm//vega@5?noext\",\n",
       "      \"vega-lib\": \"https://cdn.jsdelivr.net/npm//vega-lib?noext\",\n",
       "      \"vega-lite\": \"https://cdn.jsdelivr.net/npm//vega-lite@4.0.2?noext\",\n",
       "      \"vega-embed\": \"https://cdn.jsdelivr.net/npm//vega-embed@6?noext\",\n",
       "    };\n",
       "\n",
       "    function loadScript(lib) {\n",
       "      return new Promise(function(resolve, reject) {\n",
       "        var s = document.createElement('script');\n",
       "        s.src = paths[lib];\n",
       "        s.async = true;\n",
       "        s.onload = () => resolve(paths[lib]);\n",
       "        s.onerror = () => reject(`Error loading script: ${paths[lib]}`);\n",
       "        document.getElementsByTagName(\"head\")[0].appendChild(s);\n",
       "      });\n",
       "    }\n",
       "\n",
       "    function showError(err) {\n",
       "      outputDiv.innerHTML = `<div class=\"error\" style=\"color:red;\">${err}</div>`;\n",
       "      throw err;\n",
       "    }\n",
       "\n",
       "    function displayChart(vegaEmbed) {\n",
       "      vegaEmbed(outputDiv, spec, embedOpt)\n",
       "        .catch(err => showError(`Javascript Error: ${err.message}<br>This usually means there's a typo in your chart specification. See the javascript console for the full traceback.`));\n",
       "    }\n",
       "\n",
       "    if(typeof define === \"function\" && define.amd) {\n",
       "      requirejs.config({paths});\n",
       "      require([\"vega-embed\"], displayChart, err => showError(`Error loading script: ${err.message}`));\n",
       "    } else if (typeof vegaEmbed === \"function\") {\n",
       "      displayChart(vegaEmbed);\n",
       "    } else {\n",
       "      loadScript(\"vega\")\n",
       "        .then(() => loadScript(\"vega-lite\"))\n",
       "        .then(() => loadScript(\"vega-embed\"))\n",
       "        .catch(showError)\n",
       "        .then(() => displayChart(vegaEmbed));\n",
       "    }\n",
       "  })({\"config\": {\"view\": {\"continuousWidth\": 400, \"continuousHeight\": 300}}, \"data\": {\"name\": \"data-ea2008c9d2ac7f9c75830140be0c1356\"}, \"mark\": \"line\", \"encoding\": {\"x\": {\"type\": \"nominal\", \"field\": \"year\"}, \"y\": {\"type\": \"quantitative\", \"field\": \"Middle Income Renter Percentage\"}}, \"$schema\": \"https://vega.github.io/schema/vega-lite/v4.0.2.json\", \"datasets\": {\"data-ea2008c9d2ac7f9c75830140be0c1356\": [{\"year\": \"2010\", \"middle_income_HH\": 4321.75, \"total\": 24030.11111111111, \"Middle Income Renter Percentage\": 0.18342875363790825}, {\"year\": \"2011\", \"middle_income_HH\": 4163.861111111111, \"total\": 23741.583333333332, \"Middle Income Renter Percentage\": 0.17962173350298064}, {\"year\": \"2012\", \"middle_income_HH\": 1126.4166666666667, \"total\": 6164.638888888889, \"Middle Income Renter Percentage\": 0.18057922748376315}, {\"year\": \"2013\", \"middle_income_HH\": 1073.4444444444443, \"total\": 6102.333333333333, \"Middle Income Renter Percentage\": 0.17777169340626842}, {\"year\": \"2014\", \"middle_income_HH\": 1086.9444444444443, \"total\": 6233.5, \"Middle Income Renter Percentage\": 0.17433627033994178}, {\"year\": \"2015\", \"middle_income_HH\": 1088.5, \"total\": 6213.388888888889, \"Middle Income Renter Percentage\": 0.17227625131442337}, {\"year\": \"2016\", \"middle_income_HH\": 1075.0277777777778, \"total\": 6237.166666666667, \"Middle Income Renter Percentage\": 0.17165338464296348}, {\"year\": \"2017\", \"middle_income_HH\": 1077.6666666666667, \"total\": 6284.361111111111, \"Middle Income Renter Percentage\": 0.1720840594926503}, {\"year\": \"2018\", \"middle_income_HH\": 1090.2777777777778, \"total\": 6278.333333333333, \"Middle Income Renter Percentage\": 0.1715859328600909}, {\"year\": \"2019\", \"middle_income_HH\": 1089.25, \"total\": 6263.361111111111, \"Middle Income Renter Percentage\": 0.17435856226424937}]}}, {\"mode\": \"vega-lite\"});\n",
       "</script>"
      ],
      "text/plain": [
       "alt.Chart(...)"
      ]
     },
     "execution_count": 61,
     "metadata": {},
     "output_type": "execute_result"
    }
   ],
   "source": [
    "alt.Chart(cali_average).mark_line().encode(\n",
    "    x='year',\n",
    "    y='Middle Income Renter Percentage'\n",
    "    \n",
    ")"
   ]
  },
  {
   "cell_type": "markdown",
   "metadata": {},
   "source": [
    "### San Francisco and Los Angeles "
   ]
  },
  {
   "cell_type": "code",
   "execution_count": 52,
   "metadata": {},
   "outputs": [
    {
     "data": {
      "text/plain": [
       "array(['Alameda County', 'Butte County', 'Contra Costa County',\n",
       "       'El Dorado County', 'Fresno County', 'Humboldt County',\n",
       "       'Imperial County', 'Kern County', 'Kings County',\n",
       "       'Los Angeles County', 'Madera County', 'Marin County',\n",
       "       'Merced County', 'Monterey County', 'Multiple County',\n",
       "       'Napa County', 'Orange County', 'Placer County',\n",
       "       'Riverside County', 'Sacramento County', 'San Bernardino County',\n",
       "       'San Diego County', 'San Francisco County', 'San Joaquin County',\n",
       "       'San Luis Obispo County', 'San Mateo County',\n",
       "       'Santa Barbara County', 'Santa Clara County', 'Santa Cruz County',\n",
       "       'Shasta County', 'Solano County', 'Sonoma County',\n",
       "       'Stanislaus County', 'Tulare County', 'Ventura County',\n",
       "       'Yolo County'], dtype=object)"
      ]
     },
     "execution_count": 52,
     "metadata": {},
     "output_type": "execute_result"
    }
   ],
   "source": [
    "mid_income_count_percentage.County_Name.unique()"
   ]
  },
  {
   "cell_type": "code",
   "execution_count": 54,
   "metadata": {},
   "outputs": [],
   "source": [
    "la_mid_income = mid_income_count_percentage[mid_income_count_percentage.County_Name == \"Los Angeles County\"]\n",
    "la_mid_income.groupby(\"year\").mean().reset_index()"
   ]
  },
  {
   "cell_type": "code",
   "execution_count": 72,
   "metadata": {},
   "outputs": [
    {
     "data": {
      "text/html": [
       "\n",
       "<div id=\"altair-viz-56f973685a4346cebcef8aaccb4baed9\"></div>\n",
       "<script type=\"text/javascript\">\n",
       "  (function(spec, embedOpt){\n",
       "    const outputDiv = document.getElementById(\"altair-viz-56f973685a4346cebcef8aaccb4baed9\");\n",
       "    const paths = {\n",
       "      \"vega\": \"https://cdn.jsdelivr.net/npm//vega@5?noext\",\n",
       "      \"vega-lib\": \"https://cdn.jsdelivr.net/npm//vega-lib?noext\",\n",
       "      \"vega-lite\": \"https://cdn.jsdelivr.net/npm//vega-lite@4.0.2?noext\",\n",
       "      \"vega-embed\": \"https://cdn.jsdelivr.net/npm//vega-embed@6?noext\",\n",
       "    };\n",
       "\n",
       "    function loadScript(lib) {\n",
       "      return new Promise(function(resolve, reject) {\n",
       "        var s = document.createElement('script');\n",
       "        s.src = paths[lib];\n",
       "        s.async = true;\n",
       "        s.onload = () => resolve(paths[lib]);\n",
       "        s.onerror = () => reject(`Error loading script: ${paths[lib]}`);\n",
       "        document.getElementsByTagName(\"head\")[0].appendChild(s);\n",
       "      });\n",
       "    }\n",
       "\n",
       "    function showError(err) {\n",
       "      outputDiv.innerHTML = `<div class=\"error\" style=\"color:red;\">${err}</div>`;\n",
       "      throw err;\n",
       "    }\n",
       "\n",
       "    function displayChart(vegaEmbed) {\n",
       "      vegaEmbed(outputDiv, spec, embedOpt)\n",
       "        .catch(err => showError(`Javascript Error: ${err.message}<br>This usually means there's a typo in your chart specification. See the javascript console for the full traceback.`));\n",
       "    }\n",
       "\n",
       "    if(typeof define === \"function\" && define.amd) {\n",
       "      requirejs.config({paths});\n",
       "      require([\"vega-embed\"], displayChart, err => showError(`Error loading script: ${err.message}`));\n",
       "    } else if (typeof vegaEmbed === \"function\") {\n",
       "      displayChart(vegaEmbed);\n",
       "    } else {\n",
       "      loadScript(\"vega\")\n",
       "        .then(() => loadScript(\"vega-lite\"))\n",
       "        .then(() => loadScript(\"vega-embed\"))\n",
       "        .catch(showError)\n",
       "        .then(() => displayChart(vegaEmbed));\n",
       "    }\n",
       "  })({\"config\": {\"view\": {\"continuousWidth\": 400, \"continuousHeight\": 300}}, \"data\": {\"name\": \"data-111892786e66759cca9f58465cd0c7a8\"}, \"mark\": \"line\", \"encoding\": {\"x\": {\"type\": \"nominal\", \"field\": \"year\"}, \"y\": {\"type\": \"quantitative\", \"field\": \"Middle Income Renter Percentage\"}}, \"$schema\": \"https://vega.github.io/schema/vega-lite/v4.0.2.json\", \"datasets\": {\"data-111892786e66759cca9f58465cd0c7a8\": [{\"year\": \"2010\", \"County_Name\": \"Los Angeles County\", \"middle_income_HH\": 27966, \"total\": 169280, \"Middle Income Renter Percentage\": 0.16520557655954632}, {\"year\": \"2011\", \"County_Name\": \"Los Angeles County\", \"middle_income_HH\": 29487, \"total\": 177118, \"Middle Income Renter Percentage\": 0.16648223218419358}, {\"year\": \"2012\", \"County_Name\": \"Los Angeles County\", \"middle_income_HH\": 5738, \"total\": 34895, \"Middle Income Renter Percentage\": 0.16443616563977648}, {\"year\": \"2013\", \"County_Name\": \"Los Angeles County\", \"middle_income_HH\": 5714, \"total\": 35052, \"Middle Income Renter Percentage\": 0.16301494921830423}, {\"year\": \"2014\", \"County_Name\": \"Los Angeles County\", \"middle_income_HH\": 5751, \"total\": 35332, \"Middle Income Renter Percentage\": 0.16277029321861203}, {\"year\": \"2015\", \"County_Name\": \"Los Angeles County\", \"middle_income_HH\": 5613, \"total\": 35471, \"Middle Income Renter Percentage\": 0.1582419441233684}, {\"year\": \"2016\", \"County_Name\": \"Los Angeles County\", \"middle_income_HH\": 5704, \"total\": 35641, \"Middle Income Renter Percentage\": 0.1600404029067647}, {\"year\": \"2017\", \"County_Name\": \"Los Angeles County\", \"middle_income_HH\": 5651, \"total\": 35432, \"Middle Income Renter Percentage\": 0.15948859787762473}, {\"year\": \"2018\", \"County_Name\": \"Los Angeles County\", \"middle_income_HH\": 5817, \"total\": 35642, \"Middle Income Renter Percentage\": 0.16320632961113293}, {\"year\": \"2019\", \"County_Name\": \"Los Angeles County\", \"middle_income_HH\": 5916, \"total\": 35802, \"Middle Income Renter Percentage\": 0.16524216524216523}]}}, {\"mode\": \"vega-lite\"});\n",
       "</script>"
      ],
      "text/plain": [
       "alt.Chart(...)"
      ]
     },
     "execution_count": 72,
     "metadata": {},
     "output_type": "execute_result"
    }
   ],
   "source": [
    "alt.Chart(la_mid_income).mark_line().encode(\n",
    "    x='year',\n",
    "    y='Middle Income Renter Percentage'\n",
    "    \n",
    ")"
   ]
  },
  {
   "cell_type": "code",
   "execution_count": 57,
   "metadata": {},
   "outputs": [
    {
     "data": {
      "text/html": [
       "<div>\n",
       "<style scoped>\n",
       "    .dataframe tbody tr th:only-of-type {\n",
       "        vertical-align: middle;\n",
       "    }\n",
       "\n",
       "    .dataframe tbody tr th {\n",
       "        vertical-align: top;\n",
       "    }\n",
       "\n",
       "    .dataframe thead th {\n",
       "        text-align: right;\n",
       "    }\n",
       "</style>\n",
       "<table border=\"1\" class=\"dataframe\">\n",
       "  <thead>\n",
       "    <tr style=\"text-align: right;\">\n",
       "      <th></th>\n",
       "      <th>year</th>\n",
       "      <th>middle_income_HH</th>\n",
       "      <th>total</th>\n",
       "      <th>Middle Income Renter Percentage</th>\n",
       "    </tr>\n",
       "  </thead>\n",
       "  <tbody>\n",
       "    <tr>\n",
       "      <th>0</th>\n",
       "      <td>2010</td>\n",
       "      <td>843</td>\n",
       "      <td>5113</td>\n",
       "      <td>0.16</td>\n",
       "    </tr>\n",
       "    <tr>\n",
       "      <th>1</th>\n",
       "      <td>2011</td>\n",
       "      <td>855</td>\n",
       "      <td>5153</td>\n",
       "      <td>0.17</td>\n",
       "    </tr>\n",
       "    <tr>\n",
       "      <th>2</th>\n",
       "      <td>2012</td>\n",
       "      <td>498</td>\n",
       "      <td>3158</td>\n",
       "      <td>0.16</td>\n",
       "    </tr>\n",
       "    <tr>\n",
       "      <th>3</th>\n",
       "      <td>2013</td>\n",
       "      <td>528</td>\n",
       "      <td>3306</td>\n",
       "      <td>0.16</td>\n",
       "    </tr>\n",
       "    <tr>\n",
       "      <th>4</th>\n",
       "      <td>2014</td>\n",
       "      <td>509</td>\n",
       "      <td>3296</td>\n",
       "      <td>0.15</td>\n",
       "    </tr>\n",
       "    <tr>\n",
       "      <th>5</th>\n",
       "      <td>2015</td>\n",
       "      <td>504</td>\n",
       "      <td>3304</td>\n",
       "      <td>0.15</td>\n",
       "    </tr>\n",
       "    <tr>\n",
       "      <th>6</th>\n",
       "      <td>2016</td>\n",
       "      <td>491</td>\n",
       "      <td>3351</td>\n",
       "      <td>0.15</td>\n",
       "    </tr>\n",
       "    <tr>\n",
       "      <th>7</th>\n",
       "      <td>2017</td>\n",
       "      <td>497</td>\n",
       "      <td>3370</td>\n",
       "      <td>0.15</td>\n",
       "    </tr>\n",
       "    <tr>\n",
       "      <th>8</th>\n",
       "      <td>2018</td>\n",
       "      <td>456</td>\n",
       "      <td>3302</td>\n",
       "      <td>0.14</td>\n",
       "    </tr>\n",
       "    <tr>\n",
       "      <th>9</th>\n",
       "      <td>2019</td>\n",
       "      <td>537</td>\n",
       "      <td>3469</td>\n",
       "      <td>0.15</td>\n",
       "    </tr>\n",
       "  </tbody>\n",
       "</table>\n",
       "</div>"
      ],
      "text/plain": [
       "   year  middle_income_HH  total  Middle Income Renter Percentage\n",
       "0  2010               843   5113                             0.16\n",
       "1  2011               855   5153                             0.17\n",
       "2  2012               498   3158                             0.16\n",
       "3  2013               528   3306                             0.16\n",
       "4  2014               509   3296                             0.15\n",
       "5  2015               504   3304                             0.15\n",
       "6  2016               491   3351                             0.15\n",
       "7  2017               497   3370                             0.15\n",
       "8  2018               456   3302                             0.14\n",
       "9  2019               537   3469                             0.15"
      ]
     },
     "execution_count": 57,
     "metadata": {},
     "output_type": "execute_result"
    }
   ],
   "source": [
    "sf_mid_income = mid_income_count_percentage[mid_income_count_percentage.County_Name == \"San Francisco County\"]\n",
    "sf_mid_income.groupby(\"year\").mean().reset_index()"
   ]
  },
  {
   "cell_type": "code",
   "execution_count": 58,
   "metadata": {},
   "outputs": [
    {
     "data": {
      "text/html": [
       "\n",
       "<div id=\"altair-viz-352d6733948d4fb0822f7b9147f3a316\"></div>\n",
       "<script type=\"text/javascript\">\n",
       "  (function(spec, embedOpt){\n",
       "    const outputDiv = document.getElementById(\"altair-viz-352d6733948d4fb0822f7b9147f3a316\");\n",
       "    const paths = {\n",
       "      \"vega\": \"https://cdn.jsdelivr.net/npm//vega@5?noext\",\n",
       "      \"vega-lib\": \"https://cdn.jsdelivr.net/npm//vega-lib?noext\",\n",
       "      \"vega-lite\": \"https://cdn.jsdelivr.net/npm//vega-lite@4.0.2?noext\",\n",
       "      \"vega-embed\": \"https://cdn.jsdelivr.net/npm//vega-embed@6?noext\",\n",
       "    };\n",
       "\n",
       "    function loadScript(lib) {\n",
       "      return new Promise(function(resolve, reject) {\n",
       "        var s = document.createElement('script');\n",
       "        s.src = paths[lib];\n",
       "        s.async = true;\n",
       "        s.onload = () => resolve(paths[lib]);\n",
       "        s.onerror = () => reject(`Error loading script: ${paths[lib]}`);\n",
       "        document.getElementsByTagName(\"head\")[0].appendChild(s);\n",
       "      });\n",
       "    }\n",
       "\n",
       "    function showError(err) {\n",
       "      outputDiv.innerHTML = `<div class=\"error\" style=\"color:red;\">${err}</div>`;\n",
       "      throw err;\n",
       "    }\n",
       "\n",
       "    function displayChart(vegaEmbed) {\n",
       "      vegaEmbed(outputDiv, spec, embedOpt)\n",
       "        .catch(err => showError(`Javascript Error: ${err.message}<br>This usually means there's a typo in your chart specification. See the javascript console for the full traceback.`));\n",
       "    }\n",
       "\n",
       "    if(typeof define === \"function\" && define.amd) {\n",
       "      requirejs.config({paths});\n",
       "      require([\"vega-embed\"], displayChart, err => showError(`Error loading script: ${err.message}`));\n",
       "    } else if (typeof vegaEmbed === \"function\") {\n",
       "      displayChart(vegaEmbed);\n",
       "    } else {\n",
       "      loadScript(\"vega\")\n",
       "        .then(() => loadScript(\"vega-lite\"))\n",
       "        .then(() => loadScript(\"vega-embed\"))\n",
       "        .catch(showError)\n",
       "        .then(() => displayChart(vegaEmbed));\n",
       "    }\n",
       "  })({\"config\": {\"view\": {\"continuousWidth\": 400, \"continuousHeight\": 300}}, \"data\": {\"name\": \"data-bc0702514848b6d7f4813cb0a870bf24\"}, \"mark\": \"line\", \"encoding\": {\"x\": {\"type\": \"nominal\", \"field\": \"year\"}, \"y\": {\"type\": \"quantitative\", \"field\": \"Middle Income Renter Percentage\"}}, \"$schema\": \"https://vega.github.io/schema/vega-lite/v4.0.2.json\", \"datasets\": {\"data-bc0702514848b6d7f4813cb0a870bf24\": [{\"year\": \"2010\", \"County_Name\": \"San Francisco County\", \"middle_income_HH\": 843, \"total\": 5113, \"Middle Income Renter Percentage\": 0.1648738509681205}, {\"year\": \"2011\", \"County_Name\": \"San Francisco County\", \"middle_income_HH\": 855, \"total\": 5153, \"Middle Income Renter Percentage\": 0.16592276343877352}, {\"year\": \"2012\", \"County_Name\": \"San Francisco County\", \"middle_income_HH\": 498, \"total\": 3158, \"Middle Income Renter Percentage\": 0.15769474350854973}, {\"year\": \"2013\", \"County_Name\": \"San Francisco County\", \"middle_income_HH\": 528, \"total\": 3306, \"Middle Income Renter Percentage\": 0.15970961887477314}, {\"year\": \"2014\", \"County_Name\": \"San Francisco County\", \"middle_income_HH\": 509, \"total\": 3296, \"Middle Income Renter Percentage\": 0.15442961165048544}, {\"year\": \"2015\", \"County_Name\": \"San Francisco County\", \"middle_income_HH\": 504, \"total\": 3304, \"Middle Income Renter Percentage\": 0.15254237288135594}, {\"year\": \"2016\", \"County_Name\": \"San Francisco County\", \"middle_income_HH\": 491, \"total\": 3351, \"Middle Income Renter Percentage\": 0.14652342584303193}, {\"year\": \"2017\", \"County_Name\": \"San Francisco County\", \"middle_income_HH\": 497, \"total\": 3370, \"Middle Income Renter Percentage\": 0.14747774480712167}, {\"year\": \"2018\", \"County_Name\": \"San Francisco County\", \"middle_income_HH\": 456, \"total\": 3302, \"Middle Income Renter Percentage\": 0.13809812235009086}, {\"year\": \"2019\", \"County_Name\": \"San Francisco County\", \"middle_income_HH\": 537, \"total\": 3469, \"Middle Income Renter Percentage\": 0.1547996540789853}]}}, {\"mode\": \"vega-lite\"});\n",
       "</script>"
      ],
      "text/plain": [
       "alt.Chart(...)"
      ]
     },
     "execution_count": 58,
     "metadata": {},
     "output_type": "execute_result"
    }
   ],
   "source": [
    "alt.Chart(sf_mid_income).mark_line().encode(\n",
    "    x='year',\n",
    "    y='Middle Income Renter Percentage'\n",
    "    \n",
    ")"
   ]
  },
  {
   "cell_type": "markdown",
   "metadata": {},
   "source": [
    "### Bay Area"
   ]
  },
  {
   "cell_type": "code",
   "execution_count": 42,
   "metadata": {},
   "outputs": [],
   "source": [
    "bay_area_counties = [\"Alameda County\",\n",
    "\"Contra Costa County\",\n",
    "\"Marin County\",\n",
    "\"Napa County\",\n",
    "\"San Francisco County\",\n",
    "\"San Mateo County\",\n",
    "\"Santa Clara County\",\n",
    "\"Solano County\",\n",
    "\"Sonoma County\"]\n",
    "bay_area = mid_income_count_percentage[mid_income_count_percentage.County_Name.isin(bay_area_counties)]\n",
    "\n",
    "#df = df[df['CSA'].isin(csa_filter)]"
   ]
  },
  {
   "cell_type": "code",
   "execution_count": 43,
   "metadata": {},
   "outputs": [
    {
     "name": "stderr",
     "output_type": "stream",
     "text": [
      "/Users/quinnunderriner/anaconda3/lib/python3.7/site-packages/ipykernel_launcher.py:1: SettingWithCopyWarning: \n",
      "A value is trying to be set on a copy of a slice from a DataFrame.\n",
      "Try using .loc[row_indexer,col_indexer] = value instead\n",
      "\n",
      "See the caveats in the documentation: https://pandas.pydata.org/pandas-docs/stable/user_guide/indexing.html#returning-a-view-versus-a-copy\n",
      "  \"\"\"Entry point for launching an IPython kernel.\n"
     ]
    }
   ],
   "source": [
    "bay_area[\"key\"] = bay_area[\"year\"].astype(str) + bay_area[\"County_Name\"]"
   ]
  },
  {
   "cell_type": "code",
   "execution_count": 44,
   "metadata": {},
   "outputs": [
    {
     "data": {
      "text/html": [
       "\n",
       "<div id=\"altair-viz-a4fbc23c2bc64fa0b0b497659561041d\"></div>\n",
       "<script type=\"text/javascript\">\n",
       "  (function(spec, embedOpt){\n",
       "    const outputDiv = document.getElementById(\"altair-viz-a4fbc23c2bc64fa0b0b497659561041d\");\n",
       "    const paths = {\n",
       "      \"vega\": \"https://cdn.jsdelivr.net/npm//vega@5?noext\",\n",
       "      \"vega-lib\": \"https://cdn.jsdelivr.net/npm//vega-lib?noext\",\n",
       "      \"vega-lite\": \"https://cdn.jsdelivr.net/npm//vega-lite@4.0.2?noext\",\n",
       "      \"vega-embed\": \"https://cdn.jsdelivr.net/npm//vega-embed@6?noext\",\n",
       "    };\n",
       "\n",
       "    function loadScript(lib) {\n",
       "      return new Promise(function(resolve, reject) {\n",
       "        var s = document.createElement('script');\n",
       "        s.src = paths[lib];\n",
       "        s.async = true;\n",
       "        s.onload = () => resolve(paths[lib]);\n",
       "        s.onerror = () => reject(`Error loading script: ${paths[lib]}`);\n",
       "        document.getElementsByTagName(\"head\")[0].appendChild(s);\n",
       "      });\n",
       "    }\n",
       "\n",
       "    function showError(err) {\n",
       "      outputDiv.innerHTML = `<div class=\"error\" style=\"color:red;\">${err}</div>`;\n",
       "      throw err;\n",
       "    }\n",
       "\n",
       "    function displayChart(vegaEmbed) {\n",
       "      vegaEmbed(outputDiv, spec, embedOpt)\n",
       "        .catch(err => showError(`Javascript Error: ${err.message}<br>This usually means there's a typo in your chart specification. See the javascript console for the full traceback.`));\n",
       "    }\n",
       "\n",
       "    if(typeof define === \"function\" && define.amd) {\n",
       "      requirejs.config({paths});\n",
       "      require([\"vega-embed\"], displayChart, err => showError(`Error loading script: ${err.message}`));\n",
       "    } else if (typeof vegaEmbed === \"function\") {\n",
       "      displayChart(vegaEmbed);\n",
       "    } else {\n",
       "      loadScript(\"vega\")\n",
       "        .then(() => loadScript(\"vega-lite\"))\n",
       "        .then(() => loadScript(\"vega-embed\"))\n",
       "        .catch(showError)\n",
       "        .then(() => displayChart(vegaEmbed));\n",
       "    }\n",
       "  })({\"config\": {\"view\": {\"continuousWidth\": 400, \"continuousHeight\": 300}}, \"data\": {\"name\": \"data-ff0b80a964ca11f47613b3fe672cfd0e\"}, \"mark\": \"line\", \"encoding\": {\"color\": {\"type\": \"nominal\", \"field\": \"County_Name\"}, \"x\": {\"type\": \"nominal\", \"field\": \"year\"}, \"y\": {\"type\": \"quantitative\", \"field\": \"Middle Income Renter Percentage\"}}, \"$schema\": \"https://vega.github.io/schema/vega-lite/v4.0.2.json\", \"datasets\": {\"data-ff0b80a964ca11f47613b3fe672cfd0e\": [{\"year\": \"2010\", \"County_Name\": \"Alameda County\", \"middle_income_HH\": 2140, \"total\": 11893, \"Middle Income Renter Percentage\": 0.1799377785251829, \"key\": \"2010Alameda County\"}, {\"year\": \"2010\", \"County_Name\": \"Contra Costa County\", \"middle_income_HH\": 2512, \"total\": 12623, \"Middle Income Renter Percentage\": 0.1990018220708231, \"key\": \"2010Contra Costa County\"}, {\"year\": \"2010\", \"County_Name\": \"Marin County\", \"middle_income_HH\": 296, \"total\": 2120, \"Middle Income Renter Percentage\": 0.13962264150943396, \"key\": \"2010Marin County\"}, {\"year\": \"2010\", \"County_Name\": \"Napa County\", \"middle_income_HH\": 142, \"total\": 866, \"Middle Income Renter Percentage\": 0.16397228637413394, \"key\": \"2010Napa County\"}, {\"year\": \"2010\", \"County_Name\": \"San Francisco County\", \"middle_income_HH\": 843, \"total\": 5113, \"Middle Income Renter Percentage\": 0.1648738509681205, \"key\": \"2010San Francisco County\"}, {\"year\": \"2010\", \"County_Name\": \"San Mateo County\", \"middle_income_HH\": 2023, \"total\": 10313, \"Middle Income Renter Percentage\": 0.19616018617279163, \"key\": \"2010San Mateo County\"}, {\"year\": \"2010\", \"County_Name\": \"Santa Clara County\", \"middle_income_HH\": 3005, \"total\": 16343, \"Middle Income Renter Percentage\": 0.18387077036039895, \"key\": \"2010Santa Clara County\"}, {\"year\": \"2010\", \"County_Name\": \"Solano County\", \"middle_income_HH\": 341, \"total\": 1437, \"Middle Income Renter Percentage\": 0.2372999304105776, \"key\": \"2010Solano County\"}, {\"year\": \"2010\", \"County_Name\": \"Sonoma County\", \"middle_income_HH\": 400, \"total\": 1966, \"Middle Income Renter Percentage\": 0.2034587995930824, \"key\": \"2010Sonoma County\"}, {\"year\": \"2011\", \"County_Name\": \"Alameda County\", \"middle_income_HH\": 2147, \"total\": 11996, \"Middle Income Renter Percentage\": 0.17897632544181394, \"key\": \"2011Alameda County\"}, {\"year\": \"2011\", \"County_Name\": \"Contra Costa County\", \"middle_income_HH\": 2202, \"total\": 11787, \"Middle Income Renter Percentage\": 0.1868159837108679, \"key\": \"2011Contra Costa County\"}, {\"year\": \"2011\", \"County_Name\": \"Marin County\", \"middle_income_HH\": 312, \"total\": 1932, \"Middle Income Renter Percentage\": 0.16149068322981366, \"key\": \"2011Marin County\"}, {\"year\": \"2011\", \"County_Name\": \"Napa County\", \"middle_income_HH\": 162, \"total\": 888, \"Middle Income Renter Percentage\": 0.18243243243243243, \"key\": \"2011Napa County\"}, {\"year\": \"2011\", \"County_Name\": \"San Francisco County\", \"middle_income_HH\": 855, \"total\": 5153, \"Middle Income Renter Percentage\": 0.16592276343877352, \"key\": \"2011San Francisco County\"}, {\"year\": \"2011\", \"County_Name\": \"San Mateo County\", \"middle_income_HH\": 1993, \"total\": 10866, \"Middle Income Renter Percentage\": 0.18341616050064422, \"key\": \"2011San Mateo County\"}, {\"year\": \"2011\", \"County_Name\": \"Santa Clara County\", \"middle_income_HH\": 3042, \"total\": 16425, \"Middle Income Renter Percentage\": 0.1852054794520548, \"key\": \"2011Santa Clara County\"}, {\"year\": \"2011\", \"County_Name\": \"Solano County\", \"middle_income_HH\": 283, \"total\": 1373, \"Middle Income Renter Percentage\": 0.20611798980335033, \"key\": \"2011Solano County\"}, {\"year\": \"2011\", \"County_Name\": \"Sonoma County\", \"middle_income_HH\": 352, \"total\": 1849, \"Middle Income Renter Percentage\": 0.1903731746890211, \"key\": \"2011Sonoma County\"}, {\"year\": \"2012\", \"County_Name\": \"Alameda County\", \"middle_income_HH\": 1000, \"total\": 5825, \"Middle Income Renter Percentage\": 0.17167381974248927, \"key\": \"2012Alameda County\"}, {\"year\": \"2012\", \"County_Name\": \"Contra Costa County\", \"middle_income_HH\": 623, \"total\": 3532, \"Middle Income Renter Percentage\": 0.1763873159682899, \"key\": \"2012Contra Costa County\"}, {\"year\": \"2012\", \"County_Name\": \"Marin County\", \"middle_income_HH\": 151, \"total\": 953, \"Middle Income Renter Percentage\": 0.1584470094438615, \"key\": \"2012Marin County\"}, {\"year\": \"2012\", \"County_Name\": \"Napa County\", \"middle_income_HH\": 140, \"total\": 658, \"Middle Income Renter Percentage\": 0.2127659574468085, \"key\": \"2012Napa County\"}, {\"year\": \"2012\", \"County_Name\": \"San Francisco County\", \"middle_income_HH\": 498, \"total\": 3158, \"Middle Income Renter Percentage\": 0.15769474350854973, \"key\": \"2012San Francisco County\"}, {\"year\": \"2012\", \"County_Name\": \"San Mateo County\", \"middle_income_HH\": 522, \"total\": 2688, \"Middle Income Renter Percentage\": 0.19419642857142858, \"key\": \"2012San Mateo County\"}, {\"year\": \"2012\", \"County_Name\": \"Santa Clara County\", \"middle_income_HH\": 1153, \"total\": 6318, \"Middle Income Renter Percentage\": 0.18249446027223806, \"key\": \"2012Santa Clara County\"}, {\"year\": \"2012\", \"County_Name\": \"Solano County\", \"middle_income_HH\": 297, \"total\": 1449, \"Middle Income Renter Percentage\": 0.20496894409937888, \"key\": \"2012Solano County\"}, {\"year\": \"2012\", \"County_Name\": \"Sonoma County\", \"middle_income_HH\": 372, \"total\": 1908, \"Middle Income Renter Percentage\": 0.1949685534591195, \"key\": \"2012Sonoma County\"}, {\"year\": \"2013\", \"County_Name\": \"Alameda County\", \"middle_income_HH\": 1055, \"total\": 6032, \"Middle Income Renter Percentage\": 0.17490053050397877, \"key\": \"2013Alameda County\"}, {\"year\": \"2013\", \"County_Name\": \"Contra Costa County\", \"middle_income_HH\": 629, \"total\": 3643, \"Middle Income Renter Percentage\": 0.17265989569036508, \"key\": \"2013Contra Costa County\"}, {\"year\": \"2013\", \"County_Name\": \"Marin County\", \"middle_income_HH\": 170, \"total\": 975, \"Middle Income Renter Percentage\": 0.17435897435897435, \"key\": \"2013Marin County\"}, {\"year\": \"2013\", \"County_Name\": \"Napa County\", \"middle_income_HH\": 138, \"total\": 659, \"Middle Income Renter Percentage\": 0.2094081942336874, \"key\": \"2013Napa County\"}, {\"year\": \"2013\", \"County_Name\": \"San Francisco County\", \"middle_income_HH\": 528, \"total\": 3306, \"Middle Income Renter Percentage\": 0.15970961887477314, \"key\": \"2013San Francisco County\"}, {\"year\": \"2013\", \"County_Name\": \"San Mateo County\", \"middle_income_HH\": 494, \"total\": 2729, \"Middle Income Renter Percentage\": 0.1810186881641627, \"key\": \"2013San Mateo County\"}, {\"year\": \"2013\", \"County_Name\": \"Santa Clara County\", \"middle_income_HH\": 1132, \"total\": 6567, \"Middle Income Renter Percentage\": 0.17237703669864474, \"key\": \"2013Santa Clara County\"}, {\"year\": \"2013\", \"County_Name\": \"Solano County\", \"middle_income_HH\": 309, \"total\": 1505, \"Middle Income Renter Percentage\": 0.2053156146179402, \"key\": \"2013Solano County\"}, {\"year\": \"2013\", \"County_Name\": \"Sonoma County\", \"middle_income_HH\": 384, \"total\": 1912, \"Middle Income Renter Percentage\": 0.200836820083682, \"key\": \"2013Sonoma County\"}, {\"year\": \"2014\", \"County_Name\": \"Alameda County\", \"middle_income_HH\": 1075, \"total\": 6056, \"Middle Income Renter Percentage\": 0.1775099075297226, \"key\": \"2014Alameda County\"}, {\"year\": \"2014\", \"County_Name\": \"Contra Costa County\", \"middle_income_HH\": 670, \"total\": 3633, \"Middle Income Renter Percentage\": 0.1844205890448665, \"key\": \"2014Contra Costa County\"}, {\"year\": \"2014\", \"County_Name\": \"Marin County\", \"middle_income_HH\": 162, \"total\": 975, \"Middle Income Renter Percentage\": 0.16615384615384615, \"key\": \"2014Marin County\"}, {\"year\": \"2014\", \"County_Name\": \"Napa County\", \"middle_income_HH\": 112, \"total\": 658, \"Middle Income Renter Percentage\": 0.1702127659574468, \"key\": \"2014Napa County\"}, {\"year\": \"2014\", \"County_Name\": \"San Francisco County\", \"middle_income_HH\": 509, \"total\": 3296, \"Middle Income Renter Percentage\": 0.15442961165048544, \"key\": \"2014San Francisco County\"}, {\"year\": \"2014\", \"County_Name\": \"San Mateo County\", \"middle_income_HH\": 425, \"total\": 2697, \"Middle Income Renter Percentage\": 0.1575824990730441, \"key\": \"2014San Mateo County\"}, {\"year\": \"2014\", \"County_Name\": \"Santa Clara County\", \"middle_income_HH\": 1156, \"total\": 6512, \"Middle Income Renter Percentage\": 0.17751842751842753, \"key\": \"2014Santa Clara County\"}, {\"year\": \"2014\", \"County_Name\": \"Solano County\", \"middle_income_HH\": 320, \"total\": 1499, \"Middle Income Renter Percentage\": 0.2134756504336224, \"key\": \"2014Solano County\"}, {\"year\": \"2014\", \"County_Name\": \"Sonoma County\", \"middle_income_HH\": 347, \"total\": 1916, \"Middle Income Renter Percentage\": 0.18110647181628392, \"key\": \"2014Sonoma County\"}, {\"year\": \"2015\", \"County_Name\": \"Alameda County\", \"middle_income_HH\": 1053, \"total\": 6198, \"Middle Income Renter Percentage\": 0.16989351403678607, \"key\": \"2015Alameda County\"}, {\"year\": \"2015\", \"County_Name\": \"Contra Costa County\", \"middle_income_HH\": 679, \"total\": 3623, \"Middle Income Renter Percentage\": 0.18741374551476678, \"key\": \"2015Contra Costa County\"}, {\"year\": \"2015\", \"County_Name\": \"Marin County\", \"middle_income_HH\": 158, \"total\": 983, \"Middle Income Renter Percentage\": 0.1607324516785351, \"key\": \"2015Marin County\"}, {\"year\": \"2015\", \"County_Name\": \"Napa County\", \"middle_income_HH\": 121, \"total\": 675, \"Middle Income Renter Percentage\": 0.17925925925925926, \"key\": \"2015Napa County\"}, {\"year\": \"2015\", \"County_Name\": \"San Francisco County\", \"middle_income_HH\": 504, \"total\": 3304, \"Middle Income Renter Percentage\": 0.15254237288135594, \"key\": \"2015San Francisco County\"}, {\"year\": \"2015\", \"County_Name\": \"San Mateo County\", \"middle_income_HH\": 489, \"total\": 2783, \"Middle Income Renter Percentage\": 0.1757096658282429, \"key\": \"2015San Mateo County\"}, {\"year\": \"2015\", \"County_Name\": \"Santa Clara County\", \"middle_income_HH\": 1099, \"total\": 6550, \"Middle Income Renter Percentage\": 0.16778625954198473, \"key\": \"2015Santa Clara County\"}, {\"year\": \"2015\", \"County_Name\": \"Solano County\", \"middle_income_HH\": 283, \"total\": 1517, \"Middle Income Renter Percentage\": 0.1865524060646012, \"key\": \"2015Solano County\"}, {\"year\": \"2015\", \"County_Name\": \"Sonoma County\", \"middle_income_HH\": 384, \"total\": 1944, \"Middle Income Renter Percentage\": 0.19753086419753085, \"key\": \"2015Sonoma County\"}, {\"year\": \"2016\", \"County_Name\": \"Alameda County\", \"middle_income_HH\": 1045, \"total\": 6191, \"Middle Income Renter Percentage\": 0.16879340978840252, \"key\": \"2016Alameda County\"}, {\"year\": \"2016\", \"County_Name\": \"Contra Costa County\", \"middle_income_HH\": 667, \"total\": 3659, \"Middle Income Renter Percentage\": 0.1822902432358568, \"key\": \"2016Contra Costa County\"}, {\"year\": \"2016\", \"County_Name\": \"Marin County\", \"middle_income_HH\": 148, \"total\": 982, \"Middle Income Renter Percentage\": 0.15071283095723015, \"key\": \"2016Marin County\"}, {\"year\": \"2016\", \"County_Name\": \"Napa County\", \"middle_income_HH\": 112, \"total\": 656, \"Middle Income Renter Percentage\": 0.17073170731707318, \"key\": \"2016Napa County\"}, {\"year\": \"2016\", \"County_Name\": \"San Francisco County\", \"middle_income_HH\": 491, \"total\": 3351, \"Middle Income Renter Percentage\": 0.14652342584303193, \"key\": \"2016San Francisco County\"}, {\"year\": \"2016\", \"County_Name\": \"San Mateo County\", \"middle_income_HH\": 458, \"total\": 2801, \"Middle Income Renter Percentage\": 0.1635130310603356, \"key\": \"2016San Mateo County\"}, {\"year\": \"2016\", \"County_Name\": \"Santa Clara County\", \"middle_income_HH\": 1118, \"total\": 6650, \"Middle Income Renter Percentage\": 0.1681203007518797, \"key\": \"2016Santa Clara County\"}, {\"year\": \"2016\", \"County_Name\": \"Solano County\", \"middle_income_HH\": 282, \"total\": 1509, \"Middle Income Renter Percentage\": 0.18687872763419483, \"key\": \"2016Solano County\"}, {\"year\": \"2016\", \"County_Name\": \"Sonoma County\", \"middle_income_HH\": 359, \"total\": 1938, \"Middle Income Renter Percentage\": 0.18524251805985553, \"key\": \"2016Sonoma County\"}, {\"year\": \"2017\", \"County_Name\": \"Alameda County\", \"middle_income_HH\": 1054, \"total\": 6253, \"Middle Income Renter Percentage\": 0.1685590916360147, \"key\": \"2017Alameda County\"}, {\"year\": \"2017\", \"County_Name\": \"Contra Costa County\", \"middle_income_HH\": 663, \"total\": 3691, \"Middle Income Renter Percentage\": 0.17962611758331076, \"key\": \"2017Contra Costa County\"}, {\"year\": \"2017\", \"County_Name\": \"Marin County\", \"middle_income_HH\": 142, \"total\": 977, \"Middle Income Renter Percentage\": 0.14534288638689866, \"key\": \"2017Marin County\"}, {\"year\": \"2017\", \"County_Name\": \"Napa County\", \"middle_income_HH\": 124, \"total\": 655, \"Middle Income Renter Percentage\": 0.18931297709923664, \"key\": \"2017Napa County\"}, {\"year\": \"2017\", \"County_Name\": \"San Francisco County\", \"middle_income_HH\": 497, \"total\": 3370, \"Middle Income Renter Percentage\": 0.14747774480712167, \"key\": \"2017San Francisco County\"}, {\"year\": \"2017\", \"County_Name\": \"San Mateo County\", \"middle_income_HH\": 502, \"total\": 2820, \"Middle Income Renter Percentage\": 0.17801418439716313, \"key\": \"2017San Mateo County\"}, {\"year\": \"2017\", \"County_Name\": \"Santa Clara County\", \"middle_income_HH\": 1097, \"total\": 6753, \"Middle Income Renter Percentage\": 0.16244632015400562, \"key\": \"2017Santa Clara County\"}, {\"year\": \"2017\", \"County_Name\": \"Solano County\", \"middle_income_HH\": 294, \"total\": 1524, \"Middle Income Renter Percentage\": 0.19291338582677164, \"key\": \"2017Solano County\"}, {\"year\": \"2017\", \"County_Name\": \"Sonoma County\", \"middle_income_HH\": 351, \"total\": 1905, \"Middle Income Renter Percentage\": 0.18425196850393702, \"key\": \"2017Sonoma County\"}, {\"year\": \"2018\", \"County_Name\": \"Alameda County\", \"middle_income_HH\": 1051, \"total\": 6221, \"Middle Income Renter Percentage\": 0.16894389969458287, \"key\": \"2018Alameda County\"}, {\"year\": \"2018\", \"County_Name\": \"Contra Costa County\", \"middle_income_HH\": 657, \"total\": 3690, \"Middle Income Renter Percentage\": 0.17804878048780487, \"key\": \"2018Contra Costa County\"}, {\"year\": \"2018\", \"County_Name\": \"Marin County\", \"middle_income_HH\": 151, \"total\": 950, \"Middle Income Renter Percentage\": 0.15894736842105264, \"key\": \"2018Marin County\"}, {\"year\": \"2018\", \"County_Name\": \"Napa County\", \"middle_income_HH\": 116, \"total\": 655, \"Middle Income Renter Percentage\": 0.17709923664122137, \"key\": \"2018Napa County\"}, {\"year\": \"2018\", \"County_Name\": \"San Francisco County\", \"middle_income_HH\": 456, \"total\": 3302, \"Middle Income Renter Percentage\": 0.13809812235009086, \"key\": \"2018San Francisco County\"}, {\"year\": \"2018\", \"County_Name\": \"San Mateo County\", \"middle_income_HH\": 495, \"total\": 2789, \"Middle Income Renter Percentage\": 0.17748296880602366, \"key\": \"2018San Mateo County\"}, {\"year\": \"2018\", \"County_Name\": \"Santa Clara County\", \"middle_income_HH\": 1153, \"total\": 6796, \"Middle Income Renter Percentage\": 0.16965862271924662, \"key\": \"2018Santa Clara County\"}, {\"year\": \"2018\", \"County_Name\": \"Solano County\", \"middle_income_HH\": 314, \"total\": 1582, \"Middle Income Renter Percentage\": 0.19848293299620734, \"key\": \"2018Solano County\"}, {\"year\": \"2018\", \"County_Name\": \"Sonoma County\", \"middle_income_HH\": 335, \"total\": 1895, \"Middle Income Renter Percentage\": 0.17678100263852242, \"key\": \"2018Sonoma County\"}, {\"year\": \"2019\", \"County_Name\": \"Alameda County\", \"middle_income_HH\": 1064, \"total\": 6490, \"Middle Income Renter Percentage\": 0.16394453004622497, \"key\": \"2019Alameda County\"}, {\"year\": \"2019\", \"County_Name\": \"Contra Costa County\", \"middle_income_HH\": 677, \"total\": 3730, \"Middle Income Renter Percentage\": 0.18150134048257371, \"key\": \"2019Contra Costa County\"}, {\"year\": \"2019\", \"County_Name\": \"Marin County\", \"middle_income_HH\": 171, \"total\": 1016, \"Middle Income Renter Percentage\": 0.16830708661417323, \"key\": \"2019Marin County\"}, {\"year\": \"2019\", \"County_Name\": \"Napa County\", \"middle_income_HH\": 131, \"total\": 681, \"Middle Income Renter Percentage\": 0.19236417033773862, \"key\": \"2019Napa County\"}, {\"year\": \"2019\", \"County_Name\": \"San Francisco County\", \"middle_income_HH\": 537, \"total\": 3469, \"Middle Income Renter Percentage\": 0.1547996540789853, \"key\": \"2019San Francisco County\"}, {\"year\": \"2019\", \"County_Name\": \"San Mateo County\", \"middle_income_HH\": 482, \"total\": 2910, \"Middle Income Renter Percentage\": 0.16563573883161511, \"key\": \"2019San Mateo County\"}, {\"year\": \"2019\", \"County_Name\": \"Santa Clara County\", \"middle_income_HH\": 1161, \"total\": 7033, \"Middle Income Renter Percentage\": 0.16507891369259206, \"key\": \"2019Santa Clara County\"}, {\"year\": \"2019\", \"County_Name\": \"Solano County\", \"middle_income_HH\": 263, \"total\": 1522, \"Middle Income Renter Percentage\": 0.1727989487516426, \"key\": \"2019Solano County\"}, {\"year\": \"2019\", \"County_Name\": \"Sonoma County\", \"middle_income_HH\": 382, \"total\": 1947, \"Middle Income Renter Percentage\": 0.19619928094504366, \"key\": \"2019Sonoma County\"}]}}, {\"mode\": \"vega-lite\"});\n",
       "</script>"
      ],
      "text/plain": [
       "alt.Chart(...)"
      ]
     },
     "execution_count": 44,
     "metadata": {},
     "output_type": "execute_result"
    }
   ],
   "source": [
    "alt.Chart(bay_area).mark_line().encode(\n",
    "    x='year',\n",
    "    y='Middle Income Renter Percentage',\n",
    "    color=\"County_Name\"\n",
    ")"
   ]
  },
  {
   "cell_type": "code",
   "execution_count": null,
   "metadata": {},
   "outputs": [],
   "source": [
    "### All counties "
   ]
  },
  {
   "cell_type": "code",
   "execution_count": 62,
   "metadata": {},
   "outputs": [
    {
     "data": {
      "text/html": [
       "\n",
       "<div id=\"altair-viz-44e9357c9cc341b9a2bf6793d8c867a7\"></div>\n",
       "<script type=\"text/javascript\">\n",
       "  (function(spec, embedOpt){\n",
       "    const outputDiv = document.getElementById(\"altair-viz-44e9357c9cc341b9a2bf6793d8c867a7\");\n",
       "    const paths = {\n",
       "      \"vega\": \"https://cdn.jsdelivr.net/npm//vega@5?noext\",\n",
       "      \"vega-lib\": \"https://cdn.jsdelivr.net/npm//vega-lib?noext\",\n",
       "      \"vega-lite\": \"https://cdn.jsdelivr.net/npm//vega-lite@4.0.2?noext\",\n",
       "      \"vega-embed\": \"https://cdn.jsdelivr.net/npm//vega-embed@6?noext\",\n",
       "    };\n",
       "\n",
       "    function loadScript(lib) {\n",
       "      return new Promise(function(resolve, reject) {\n",
       "        var s = document.createElement('script');\n",
       "        s.src = paths[lib];\n",
       "        s.async = true;\n",
       "        s.onload = () => resolve(paths[lib]);\n",
       "        s.onerror = () => reject(`Error loading script: ${paths[lib]}`);\n",
       "        document.getElementsByTagName(\"head\")[0].appendChild(s);\n",
       "      });\n",
       "    }\n",
       "\n",
       "    function showError(err) {\n",
       "      outputDiv.innerHTML = `<div class=\"error\" style=\"color:red;\">${err}</div>`;\n",
       "      throw err;\n",
       "    }\n",
       "\n",
       "    function displayChart(vegaEmbed) {\n",
       "      vegaEmbed(outputDiv, spec, embedOpt)\n",
       "        .catch(err => showError(`Javascript Error: ${err.message}<br>This usually means there's a typo in your chart specification. See the javascript console for the full traceback.`));\n",
       "    }\n",
       "\n",
       "    if(typeof define === \"function\" && define.amd) {\n",
       "      requirejs.config({paths});\n",
       "      require([\"vega-embed\"], displayChart, err => showError(`Error loading script: ${err.message}`));\n",
       "    } else if (typeof vegaEmbed === \"function\") {\n",
       "      displayChart(vegaEmbed);\n",
       "    } else {\n",
       "      loadScript(\"vega\")\n",
       "        .then(() => loadScript(\"vega-lite\"))\n",
       "        .then(() => loadScript(\"vega-embed\"))\n",
       "        .catch(showError)\n",
       "        .then(() => displayChart(vegaEmbed));\n",
       "    }\n",
       "  })({\"config\": {\"view\": {\"continuousWidth\": 400, \"continuousHeight\": 300}}, \"data\": {\"name\": \"data-3553b68f3c68e08c4b6c6793e06f678d\"}, \"mark\": \"line\", \"encoding\": {\"color\": {\"type\": \"nominal\", \"field\": \"County_Name\"}, \"x\": {\"type\": \"nominal\", \"field\": \"year\"}, \"y\": {\"type\": \"quantitative\", \"field\": \"Middle Income Renter Percentage\"}}, \"$schema\": \"https://vega.github.io/schema/vega-lite/v4.0.2.json\", \"datasets\": {\"data-3553b68f3c68e08c4b6c6793e06f678d\": [{\"year\": \"2010\", \"County_Name\": \"Alameda County\", \"middle_income_HH\": 2140, \"total\": 11893, \"Middle Income Renter Percentage\": 0.1799377785251829}, {\"year\": \"2010\", \"County_Name\": \"Butte County\", \"middle_income_HH\": 690, \"total\": 3670, \"Middle Income Renter Percentage\": 0.1880108991825613}, {\"year\": \"2010\", \"County_Name\": \"Contra Costa County\", \"middle_income_HH\": 2512, \"total\": 12623, \"Middle Income Renter Percentage\": 0.1990018220708231}, {\"year\": \"2010\", \"County_Name\": \"El Dorado County\", \"middle_income_HH\": 529, \"total\": 2702, \"Middle Income Renter Percentage\": 0.19578090303478904}, {\"year\": \"2010\", \"County_Name\": \"Fresno County\", \"middle_income_HH\": 2580, \"total\": 14928, \"Middle Income Renter Percentage\": 0.17282958199356913}, {\"year\": \"2010\", \"County_Name\": \"Humboldt County\", \"middle_income_HH\": 135, \"total\": 682, \"Middle Income Renter Percentage\": 0.19794721407624633}, {\"year\": \"2010\", \"County_Name\": \"Imperial County\", \"middle_income_HH\": 221, \"total\": 1230, \"Middle Income Renter Percentage\": 0.1796747967479675}, {\"year\": \"2010\", \"County_Name\": \"Kern County\", \"middle_income_HH\": 1799, \"total\": 10805, \"Middle Income Renter Percentage\": 0.16649699213327163}, {\"year\": \"2010\", \"County_Name\": \"Kings County\", \"middle_income_HH\": 234, \"total\": 1264, \"Middle Income Renter Percentage\": 0.185126582278481}, {\"year\": \"2010\", \"County_Name\": \"Los Angeles County\", \"middle_income_HH\": 27966, \"total\": 169280, \"Middle Income Renter Percentage\": 0.16520557655954632}, {\"year\": \"2010\", \"County_Name\": \"Madera County\", \"middle_income_HH\": 75, \"total\": 410, \"Middle Income Renter Percentage\": 0.18292682926829268}, {\"year\": \"2010\", \"County_Name\": \"Marin County\", \"middle_income_HH\": 296, \"total\": 2120, \"Middle Income Renter Percentage\": 0.13962264150943396}, {\"year\": \"2010\", \"County_Name\": \"Merced County\", \"middle_income_HH\": 583, \"total\": 3273, \"Middle Income Renter Percentage\": 0.178124045218454}, {\"year\": \"2010\", \"County_Name\": \"Monterey County\", \"middle_income_HH\": 503, \"total\": 2722, \"Middle Income Renter Percentage\": 0.18479059515062454}, {\"year\": \"2010\", \"County_Name\": \"Multiple County\", \"middle_income_HH\": 65291, \"total\": 359743, \"Middle Income Renter Percentage\": 0.18149345504985503}, {\"year\": \"2010\", \"County_Name\": \"Napa County\", \"middle_income_HH\": 142, \"total\": 866, \"Middle Income Renter Percentage\": 0.16397228637413394}, {\"year\": \"2010\", \"County_Name\": \"Orange County\", \"middle_income_HH\": 8962, \"total\": 46561, \"Middle Income Renter Percentage\": 0.1924786838770645}, {\"year\": \"2010\", \"County_Name\": \"Placer County\", \"middle_income_HH\": 1114, \"total\": 6065, \"Middle Income Renter Percentage\": 0.18367683429513604}, {\"year\": \"2010\", \"County_Name\": \"Riverside County\", \"middle_income_HH\": 6847, \"total\": 37592, \"Middle Income Renter Percentage\": 0.18213981698233667}, {\"year\": \"2010\", \"County_Name\": \"Sacramento County\", \"middle_income_HH\": 4591, \"total\": 24135, \"Middle Income Renter Percentage\": 0.19022166977418686}, {\"year\": \"2010\", \"County_Name\": \"San Bernardino County\", \"middle_income_HH\": 5112, \"total\": 26086, \"Middle Income Renter Percentage\": 0.195967185463467}, {\"year\": \"2010\", \"County_Name\": \"San Diego County\", \"middle_income_HH\": 8681, \"total\": 47812, \"Middle Income Renter Percentage\": 0.18156529741487493}, {\"year\": \"2010\", \"County_Name\": \"San Francisco County\", \"middle_income_HH\": 843, \"total\": 5113, \"Middle Income Renter Percentage\": 0.1648738509681205}, {\"year\": \"2010\", \"County_Name\": \"San Joaquin County\", \"middle_income_HH\": 1190, \"total\": 6281, \"Middle Income Renter Percentage\": 0.18946027702595128}, {\"year\": \"2010\", \"County_Name\": \"San Luis Obispo County\", \"middle_income_HH\": 562, \"total\": 2830, \"Middle Income Renter Percentage\": 0.19858657243816255}, {\"year\": \"2010\", \"County_Name\": \"San Mateo County\", \"middle_income_HH\": 2023, \"total\": 10313, \"Middle Income Renter Percentage\": 0.19616018617279163}, {\"year\": \"2010\", \"County_Name\": \"Santa Barbara County\", \"middle_income_HH\": 754, \"total\": 4075, \"Middle Income Renter Percentage\": 0.18503067484662578}, {\"year\": \"2010\", \"County_Name\": \"Santa Clara County\", \"middle_income_HH\": 3005, \"total\": 16343, \"Middle Income Renter Percentage\": 0.18387077036039895}, {\"year\": \"2010\", \"County_Name\": \"Santa Cruz County\", \"middle_income_HH\": 380, \"total\": 2534, \"Middle Income Renter Percentage\": 0.1499605367008682}, {\"year\": \"2010\", \"County_Name\": \"Shasta County\", \"middle_income_HH\": 375, \"total\": 2079, \"Middle Income Renter Percentage\": 0.18037518037518038}, {\"year\": \"2010\", \"County_Name\": \"Solano County\", \"middle_income_HH\": 341, \"total\": 1437, \"Middle Income Renter Percentage\": 0.2372999304105776}, {\"year\": \"2010\", \"County_Name\": \"Sonoma County\", \"middle_income_HH\": 400, \"total\": 1966, \"Middle Income Renter Percentage\": 0.2034587995930824}, {\"year\": \"2010\", \"County_Name\": \"Stanislaus County\", \"middle_income_HH\": 1317, \"total\": 7235, \"Middle Income Renter Percentage\": 0.18203178991015895}, {\"year\": \"2010\", \"County_Name\": \"Tulare County\", \"middle_income_HH\": 687, \"total\": 3983, \"Middle Income Renter Percentage\": 0.17248305297514435}, {\"year\": \"2010\", \"County_Name\": \"Ventura County\", \"middle_income_HH\": 2346, \"total\": 12506, \"Middle Income Renter Percentage\": 0.18758995682072604}, {\"year\": \"2010\", \"County_Name\": \"Yolo County\", \"middle_income_HH\": 357, \"total\": 1927, \"Middle Income Renter Percentage\": 0.1852620653866113}, {\"year\": \"2011\", \"County_Name\": \"Alameda County\", \"middle_income_HH\": 2147, \"total\": 11996, \"Middle Income Renter Percentage\": 0.17897632544181394}, {\"year\": \"2011\", \"County_Name\": \"Butte County\", \"middle_income_HH\": 617, \"total\": 3499, \"Middle Income Renter Percentage\": 0.1763360960274364}, {\"year\": \"2011\", \"County_Name\": \"Contra Costa County\", \"middle_income_HH\": 2202, \"total\": 11787, \"Middle Income Renter Percentage\": 0.1868159837108679}, {\"year\": \"2011\", \"County_Name\": \"El Dorado County\", \"middle_income_HH\": 455, \"total\": 2587, \"Middle Income Renter Percentage\": 0.17587939698492464}, {\"year\": \"2011\", \"County_Name\": \"Fresno County\", \"middle_income_HH\": 2598, \"total\": 15197, \"Middle Income Renter Percentage\": 0.17095479370928474}, {\"year\": \"2011\", \"County_Name\": \"Humboldt County\", \"middle_income_HH\": 136, \"total\": 687, \"Middle Income Renter Percentage\": 0.19796215429403202}, {\"year\": \"2011\", \"County_Name\": \"Imperial County\", \"middle_income_HH\": 178, \"total\": 1203, \"Middle Income Renter Percentage\": 0.1479634247714048}, {\"year\": \"2011\", \"County_Name\": \"Kern County\", \"middle_income_HH\": 1691, \"total\": 10535, \"Middle Income Renter Percentage\": 0.16051257712387282}, {\"year\": \"2011\", \"County_Name\": \"Kings County\", \"middle_income_HH\": 234, \"total\": 1307, \"Middle Income Renter Percentage\": 0.17903596021423107}, {\"year\": \"2011\", \"County_Name\": \"Los Angeles County\", \"middle_income_HH\": 29487, \"total\": 177118, \"Middle Income Renter Percentage\": 0.16648223218419358}, {\"year\": \"2011\", \"County_Name\": \"Madera County\", \"middle_income_HH\": 86, \"total\": 378, \"Middle Income Renter Percentage\": 0.2275132275132275}, {\"year\": \"2011\", \"County_Name\": \"Marin County\", \"middle_income_HH\": 312, \"total\": 1932, \"Middle Income Renter Percentage\": 0.16149068322981366}, {\"year\": \"2011\", \"County_Name\": \"Merced County\", \"middle_income_HH\": 614, \"total\": 3344, \"Middle Income Renter Percentage\": 0.18361244019138756}, {\"year\": \"2011\", \"County_Name\": \"Monterey County\", \"middle_income_HH\": 566, \"total\": 2830, \"Middle Income Renter Percentage\": 0.2}, {\"year\": \"2011\", \"County_Name\": \"Multiple County\", \"middle_income_HH\": 60229, \"total\": 345782, \"Middle Income Renter Percentage\": 0.17418199906299345}, {\"year\": \"2011\", \"County_Name\": \"Napa County\", \"middle_income_HH\": 162, \"total\": 888, \"Middle Income Renter Percentage\": 0.18243243243243243}, {\"year\": \"2011\", \"County_Name\": \"Orange County\", \"middle_income_HH\": 8901, \"total\": 47727, \"Middle Income Renter Percentage\": 0.1864982085611918}, {\"year\": \"2011\", \"County_Name\": \"Placer County\", \"middle_income_HH\": 1058, \"total\": 5587, \"Middle Income Renter Percentage\": 0.18936817612314302}, {\"year\": \"2011\", \"County_Name\": \"Riverside County\", \"middle_income_HH\": 6859, \"total\": 36807, \"Middle Income Renter Percentage\": 0.18635042247398592}, {\"year\": \"2011\", \"County_Name\": \"Sacramento County\", \"middle_income_HH\": 4374, \"total\": 23687, \"Middle Income Renter Percentage\": 0.18465825136150632}, {\"year\": \"2011\", \"County_Name\": \"San Bernardino County\", \"middle_income_HH\": 4164, \"total\": 22365, \"Middle Income Renter Percentage\": 0.18618376928236083}, {\"year\": \"2011\", \"County_Name\": \"San Diego County\", \"middle_income_HH\": 8695, \"total\": 48268, \"Middle Income Renter Percentage\": 0.18014005137979613}, {\"year\": \"2011\", \"County_Name\": \"San Francisco County\", \"middle_income_HH\": 855, \"total\": 5153, \"Middle Income Renter Percentage\": 0.16592276343877352}, {\"year\": \"2011\", \"County_Name\": \"San Joaquin County\", \"middle_income_HH\": 1106, \"total\": 6095, \"Middle Income Renter Percentage\": 0.18146021328958162}, {\"year\": \"2011\", \"County_Name\": \"San Luis Obispo County\", \"middle_income_HH\": 506, \"total\": 2681, \"Middle Income Renter Percentage\": 0.1887355464378963}, {\"year\": \"2011\", \"County_Name\": \"San Mateo County\", \"middle_income_HH\": 1993, \"total\": 10866, \"Middle Income Renter Percentage\": 0.18341616050064422}, {\"year\": \"2011\", \"County_Name\": \"Santa Barbara County\", \"middle_income_HH\": 693, \"total\": 4142, \"Middle Income Renter Percentage\": 0.16731047802993723}, {\"year\": \"2011\", \"County_Name\": \"Santa Clara County\", \"middle_income_HH\": 3042, \"total\": 16425, \"Middle Income Renter Percentage\": 0.1852054794520548}, {\"year\": \"2011\", \"County_Name\": \"Santa Cruz County\", \"middle_income_HH\": 403, \"total\": 2532, \"Middle Income Renter Percentage\": 0.15916271721958924}, {\"year\": \"2011\", \"County_Name\": \"Shasta County\", \"middle_income_HH\": 392, \"total\": 2059, \"Middle Income Renter Percentage\": 0.19038368139873726}, {\"year\": \"2011\", \"County_Name\": \"Solano County\", \"middle_income_HH\": 283, \"total\": 1373, \"Middle Income Renter Percentage\": 0.20611798980335033}, {\"year\": \"2011\", \"County_Name\": \"Sonoma County\", \"middle_income_HH\": 352, \"total\": 1849, \"Middle Income Renter Percentage\": 0.1903731746890211}, {\"year\": \"2011\", \"County_Name\": \"Stanislaus County\", \"middle_income_HH\": 1121, \"total\": 6925, \"Middle Income Renter Percentage\": 0.16187725631768954}, {\"year\": \"2011\", \"County_Name\": \"Tulare County\", \"middle_income_HH\": 674, \"total\": 4031, \"Middle Income Renter Percentage\": 0.1672041677003225}, {\"year\": \"2011\", \"County_Name\": \"Ventura County\", \"middle_income_HH\": 2426, \"total\": 13153, \"Middle Income Renter Percentage\": 0.18444461339618337}, {\"year\": \"2011\", \"County_Name\": \"Yolo County\", \"middle_income_HH\": 288, \"total\": 1902, \"Middle Income Renter Percentage\": 0.15141955835962145}, {\"year\": \"2012\", \"County_Name\": \"Alameda County\", \"middle_income_HH\": 1000, \"total\": 5825, \"Middle Income Renter Percentage\": 0.17167381974248927}, {\"year\": \"2012\", \"County_Name\": \"Butte County\", \"middle_income_HH\": 179, \"total\": 947, \"Middle Income Renter Percentage\": 0.1890179514255544}, {\"year\": \"2012\", \"County_Name\": \"Contra Costa County\", \"middle_income_HH\": 623, \"total\": 3532, \"Middle Income Renter Percentage\": 0.1763873159682899}, {\"year\": \"2012\", \"County_Name\": \"El Dorado County\", \"middle_income_HH\": 124, \"total\": 659, \"Middle Income Renter Percentage\": 0.18816388467374812}, {\"year\": \"2012\", \"County_Name\": \"Fresno County\", \"middle_income_HH\": 468, \"total\": 2958, \"Middle Income Renter Percentage\": 0.15821501014198783}, {\"year\": \"2012\", \"County_Name\": \"Humboldt County\", \"middle_income_HH\": 112, \"total\": 635, \"Middle Income Renter Percentage\": 0.1763779527559055}, {\"year\": \"2012\", \"County_Name\": \"Imperial County\", \"middle_income_HH\": 76, \"total\": 447, \"Middle Income Renter Percentage\": 0.17002237136465326}, {\"year\": \"2012\", \"County_Name\": \"Kern County\", \"middle_income_HH\": 371, \"total\": 2357, \"Middle Income Renter Percentage\": 0.1574034789987272}, {\"year\": \"2012\", \"County_Name\": \"Kings County\", \"middle_income_HH\": 77, \"total\": 437, \"Middle Income Renter Percentage\": 0.17620137299771166}, {\"year\": \"2012\", \"County_Name\": \"Los Angeles County\", \"middle_income_HH\": 5738, \"total\": 34895, \"Middle Income Renter Percentage\": 0.16443616563977648}, {\"year\": \"2012\", \"County_Name\": \"Madera County\", \"middle_income_HH\": 66, \"total\": 385, \"Middle Income Renter Percentage\": 0.17142857142857143}, {\"year\": \"2012\", \"County_Name\": \"Marin County\", \"middle_income_HH\": 151, \"total\": 953, \"Middle Income Renter Percentage\": 0.1584470094438615}, {\"year\": \"2012\", \"County_Name\": \"Merced County\", \"middle_income_HH\": 140, \"total\": 781, \"Middle Income Renter Percentage\": 0.1792573623559539}, {\"year\": \"2012\", \"County_Name\": \"Monterey County\", \"middle_income_HH\": 225, \"total\": 1192, \"Middle Income Renter Percentage\": 0.18875838926174496}, {\"year\": \"2012\", \"County_Name\": \"Multiple County\", \"middle_income_HH\": 18412, \"total\": 96945, \"Middle Income Renter Percentage\": 0.18992212079013873}, {\"year\": \"2012\", \"County_Name\": \"Napa County\", \"middle_income_HH\": 140, \"total\": 658, \"Middle Income Renter Percentage\": 0.2127659574468085}, {\"year\": \"2012\", \"County_Name\": \"Orange County\", \"middle_income_HH\": 1868, \"total\": 9804, \"Middle Income Renter Percentage\": 0.1905344757241942}, {\"year\": \"2012\", \"County_Name\": \"Placer County\", \"middle_income_HH\": 271, \"total\": 1410, \"Middle Income Renter Percentage\": 0.1921985815602837}, {\"year\": \"2012\", \"County_Name\": \"Riverside County\", \"middle_income_HH\": 1337, \"total\": 7488, \"Middle Income Renter Percentage\": 0.17855235042735043}, {\"year\": \"2012\", \"County_Name\": \"Sacramento County\", \"middle_income_HH\": 959, \"total\": 5253, \"Middle Income Renter Percentage\": 0.1825623453264801}, {\"year\": \"2012\", \"County_Name\": \"San Bernardino County\", \"middle_income_HH\": 1066, \"total\": 5569, \"Middle Income Renter Percentage\": 0.19141677141318011}, {\"year\": \"2012\", \"County_Name\": \"San Diego County\", \"middle_income_HH\": 1929, \"total\": 10293, \"Middle Income Renter Percentage\": 0.18740891868259982}, {\"year\": \"2012\", \"County_Name\": \"San Francisco County\", \"middle_income_HH\": 498, \"total\": 3158, \"Middle Income Renter Percentage\": 0.15769474350854973}, {\"year\": \"2012\", \"County_Name\": \"San Joaquin County\", \"middle_income_HH\": 410, \"total\": 2227, \"Middle Income Renter Percentage\": 0.18410417602155366}, {\"year\": \"2012\", \"County_Name\": \"San Luis Obispo County\", \"middle_income_HH\": 164, \"total\": 938, \"Middle Income Renter Percentage\": 0.17484008528784648}, {\"year\": \"2012\", \"County_Name\": \"San Mateo County\", \"middle_income_HH\": 522, \"total\": 2688, \"Middle Income Renter Percentage\": 0.19419642857142858}, {\"year\": \"2012\", \"County_Name\": \"Santa Barbara County\", \"middle_income_HH\": 260, \"total\": 1465, \"Middle Income Renter Percentage\": 0.17747440273037543}, {\"year\": \"2012\", \"County_Name\": \"Santa Clara County\", \"middle_income_HH\": 1153, \"total\": 6318, \"Middle Income Renter Percentage\": 0.18249446027223806}, {\"year\": \"2012\", \"County_Name\": \"Santa Cruz County\", \"middle_income_HH\": 156, \"total\": 923, \"Middle Income Renter Percentage\": 0.16901408450704225}, {\"year\": \"2012\", \"County_Name\": \"Shasta County\", \"middle_income_HH\": 171, \"total\": 839, \"Middle Income Renter Percentage\": 0.20381406436233612}, {\"year\": \"2012\", \"County_Name\": \"Solano County\", \"middle_income_HH\": 297, \"total\": 1449, \"Middle Income Renter Percentage\": 0.20496894409937888}, {\"year\": \"2012\", \"County_Name\": \"Sonoma County\", \"middle_income_HH\": 372, \"total\": 1908, \"Middle Income Renter Percentage\": 0.1949685534591195}, {\"year\": \"2012\", \"County_Name\": \"Stanislaus County\", \"middle_income_HH\": 292, \"total\": 1610, \"Middle Income Renter Percentage\": 0.1813664596273292}, {\"year\": \"2012\", \"County_Name\": \"Tulare County\", \"middle_income_HH\": 248, \"total\": 1467, \"Middle Income Renter Percentage\": 0.169052488070893}, {\"year\": \"2012\", \"County_Name\": \"Ventura County\", \"middle_income_HH\": 572, \"total\": 2840, \"Middle Income Renter Percentage\": 0.20140845070422536}, {\"year\": \"2012\", \"County_Name\": \"Yolo County\", \"middle_income_HH\": 104, \"total\": 674, \"Middle Income Renter Percentage\": 0.1543026706231454}, {\"year\": \"2013\", \"County_Name\": \"Alameda County\", \"middle_income_HH\": 1055, \"total\": 6032, \"Middle Income Renter Percentage\": 0.17490053050397877}, {\"year\": \"2013\", \"County_Name\": \"Butte County\", \"middle_income_HH\": 173, \"total\": 954, \"Middle Income Renter Percentage\": 0.18134171907756813}, {\"year\": \"2013\", \"County_Name\": \"Contra Costa County\", \"middle_income_HH\": 629, \"total\": 3643, \"Middle Income Renter Percentage\": 0.17265989569036508}, {\"year\": \"2013\", \"County_Name\": \"El Dorado County\", \"middle_income_HH\": 115, \"total\": 631, \"Middle Income Renter Percentage\": 0.18225039619651348}, {\"year\": \"2013\", \"County_Name\": \"Fresno County\", \"middle_income_HH\": 497, \"total\": 2946, \"Middle Income Renter Percentage\": 0.16870332654446707}, {\"year\": \"2013\", \"County_Name\": \"Humboldt County\", \"middle_income_HH\": 110, \"total\": 623, \"Middle Income Renter Percentage\": 0.17656500802568217}, {\"year\": \"2013\", \"County_Name\": \"Imperial County\", \"middle_income_HH\": 63, \"total\": 440, \"Middle Income Renter Percentage\": 0.1431818181818182}, {\"year\": \"2013\", \"County_Name\": \"Kern County\", \"middle_income_HH\": 386, \"total\": 2316, \"Middle Income Renter Percentage\": 0.16666666666666666}, {\"year\": \"2013\", \"County_Name\": \"Kings County\", \"middle_income_HH\": 83, \"total\": 417, \"Middle Income Renter Percentage\": 0.19904076738609114}, {\"year\": \"2013\", \"County_Name\": \"Los Angeles County\", \"middle_income_HH\": 5714, \"total\": 35052, \"Middle Income Renter Percentage\": 0.16301494921830423}, {\"year\": \"2013\", \"County_Name\": \"Madera County\", \"middle_income_HH\": 54, \"total\": 394, \"Middle Income Renter Percentage\": 0.13705583756345177}, {\"year\": \"2013\", \"County_Name\": \"Marin County\", \"middle_income_HH\": 170, \"total\": 975, \"Middle Income Renter Percentage\": 0.17435897435897435}, {\"year\": \"2013\", \"County_Name\": \"Merced County\", \"middle_income_HH\": 148, \"total\": 763, \"Middle Income Renter Percentage\": 0.19397116644823068}, {\"year\": \"2013\", \"County_Name\": \"Monterey County\", \"middle_income_HH\": 196, \"total\": 1151, \"Middle Income Renter Percentage\": 0.17028670721112077}, {\"year\": \"2013\", \"County_Name\": \"Multiple County\", \"middle_income_HH\": 16664, \"total\": 93679, \"Middle Income Renter Percentage\": 0.1778840508545138}, {\"year\": \"2013\", \"County_Name\": \"Napa County\", \"middle_income_HH\": 138, \"total\": 659, \"Middle Income Renter Percentage\": 0.2094081942336874}, {\"year\": \"2013\", \"County_Name\": \"Orange County\", \"middle_income_HH\": 1840, \"total\": 9883, \"Middle Income Renter Percentage\": 0.1861782859455631}, {\"year\": \"2013\", \"County_Name\": \"Placer County\", \"middle_income_HH\": 268, \"total\": 1435, \"Middle Income Renter Percentage\": 0.1867595818815331}, {\"year\": \"2013\", \"County_Name\": \"Riverside County\", \"middle_income_HH\": 1349, \"total\": 7537, \"Middle Income Renter Percentage\": 0.17898368050948654}, {\"year\": \"2013\", \"County_Name\": \"Sacramento County\", \"middle_income_HH\": 992, \"total\": 5246, \"Middle Income Renter Percentage\": 0.1890964544414792}, {\"year\": \"2013\", \"County_Name\": \"San Bernardino County\", \"middle_income_HH\": 1058, \"total\": 5576, \"Middle Income Renter Percentage\": 0.18974175035868004}, {\"year\": \"2013\", \"County_Name\": \"San Diego County\", \"middle_income_HH\": 1817, \"total\": 10480, \"Middle Income Renter Percentage\": 0.17337786259541985}, {\"year\": \"2013\", \"County_Name\": \"San Francisco County\", \"middle_income_HH\": 528, \"total\": 3306, \"Middle Income Renter Percentage\": 0.15970961887477314}, {\"year\": \"2013\", \"County_Name\": \"San Joaquin County\", \"middle_income_HH\": 397, \"total\": 2202, \"Middle Income Renter Percentage\": 0.18029064486830154}, {\"year\": \"2013\", \"County_Name\": \"San Luis Obispo County\", \"middle_income_HH\": 169, \"total\": 946, \"Middle Income Renter Percentage\": 0.17864693446088795}, {\"year\": \"2013\", \"County_Name\": \"San Mateo County\", \"middle_income_HH\": 494, \"total\": 2729, \"Middle Income Renter Percentage\": 0.1810186881641627}, {\"year\": \"2013\", \"County_Name\": \"Santa Barbara County\", \"middle_income_HH\": 252, \"total\": 1464, \"Middle Income Renter Percentage\": 0.1721311475409836}, {\"year\": \"2013\", \"County_Name\": \"Santa Clara County\", \"middle_income_HH\": 1132, \"total\": 6567, \"Middle Income Renter Percentage\": 0.17237703669864474}, {\"year\": \"2013\", \"County_Name\": \"Santa Cruz County\", \"middle_income_HH\": 144, \"total\": 918, \"Middle Income Renter Percentage\": 0.1568627450980392}, {\"year\": \"2013\", \"County_Name\": \"Shasta County\", \"middle_income_HH\": 150, \"total\": 830, \"Middle Income Renter Percentage\": 0.18072289156626506}, {\"year\": \"2013\", \"County_Name\": \"Solano County\", \"middle_income_HH\": 309, \"total\": 1505, \"Middle Income Renter Percentage\": 0.2053156146179402}, {\"year\": \"2013\", \"County_Name\": \"Sonoma County\", \"middle_income_HH\": 384, \"total\": 1912, \"Middle Income Renter Percentage\": 0.200836820083682}, {\"year\": \"2013\", \"County_Name\": \"Stanislaus County\", \"middle_income_HH\": 287, \"total\": 1572, \"Middle Income Renter Percentage\": 0.1825699745547074}, {\"year\": \"2013\", \"County_Name\": \"Tulare County\", \"middle_income_HH\": 233, \"total\": 1376, \"Middle Income Renter Percentage\": 0.1693313953488372}, {\"year\": \"2013\", \"County_Name\": \"Ventura County\", \"middle_income_HH\": 521, \"total\": 2833, \"Middle Income Renter Percentage\": 0.1839039887045535}, {\"year\": \"2013\", \"County_Name\": \"Yolo County\", \"middle_income_HH\": 125, \"total\": 692, \"Middle Income Renter Percentage\": 0.18063583815028902}, {\"year\": \"2014\", \"County_Name\": \"Alameda County\", \"middle_income_HH\": 1075, \"total\": 6056, \"Middle Income Renter Percentage\": 0.1775099075297226}, {\"year\": \"2014\", \"County_Name\": \"Butte County\", \"middle_income_HH\": 142, \"total\": 916, \"Middle Income Renter Percentage\": 0.15502183406113537}, {\"year\": \"2014\", \"County_Name\": \"Contra Costa County\", \"middle_income_HH\": 670, \"total\": 3633, \"Middle Income Renter Percentage\": 0.1844205890448665}, {\"year\": \"2014\", \"County_Name\": \"El Dorado County\", \"middle_income_HH\": 115, \"total\": 678, \"Middle Income Renter Percentage\": 0.1696165191740413}, {\"year\": \"2014\", \"County_Name\": \"Fresno County\", \"middle_income_HH\": 467, \"total\": 2975, \"Middle Income Renter Percentage\": 0.1569747899159664}, {\"year\": \"2014\", \"County_Name\": \"Humboldt County\", \"middle_income_HH\": 106, \"total\": 654, \"Middle Income Renter Percentage\": 0.1620795107033639}, {\"year\": \"2014\", \"County_Name\": \"Imperial County\", \"middle_income_HH\": 64, \"total\": 401, \"Middle Income Renter Percentage\": 0.1596009975062344}, {\"year\": \"2014\", \"County_Name\": \"Kern County\", \"middle_income_HH\": 396, \"total\": 2341, \"Middle Income Renter Percentage\": 0.16915847928235797}, {\"year\": \"2014\", \"County_Name\": \"Kings County\", \"middle_income_HH\": 79, \"total\": 403, \"Middle Income Renter Percentage\": 0.19602977667493796}, {\"year\": \"2014\", \"County_Name\": \"Los Angeles County\", \"middle_income_HH\": 5751, \"total\": 35332, \"Middle Income Renter Percentage\": 0.16277029321861203}, {\"year\": \"2014\", \"County_Name\": \"Madera County\", \"middle_income_HH\": 78, \"total\": 375, \"Middle Income Renter Percentage\": 0.208}, {\"year\": \"2014\", \"County_Name\": \"Marin County\", \"middle_income_HH\": 162, \"total\": 975, \"Middle Income Renter Percentage\": 0.16615384615384615}, {\"year\": \"2014\", \"County_Name\": \"Merced County\", \"middle_income_HH\": 143, \"total\": 779, \"Middle Income Renter Percentage\": 0.18356867779204109}, {\"year\": \"2014\", \"County_Name\": \"Monterey County\", \"middle_income_HH\": 200, \"total\": 1155, \"Middle Income Renter Percentage\": 0.17316017316017315}, {\"year\": \"2014\", \"County_Name\": \"Multiple County\", \"middle_income_HH\": 17289, \"total\": 97589, \"Middle Income Renter Percentage\": 0.1771613603992253}, {\"year\": \"2014\", \"County_Name\": \"Napa County\", \"middle_income_HH\": 112, \"total\": 658, \"Middle Income Renter Percentage\": 0.1702127659574468}, {\"year\": \"2014\", \"County_Name\": \"Orange County\", \"middle_income_HH\": 1773, \"total\": 9910, \"Middle Income Renter Percentage\": 0.17891019172552977}, {\"year\": \"2014\", \"County_Name\": \"Placer County\", \"middle_income_HH\": 227, \"total\": 1495, \"Middle Income Renter Percentage\": 0.15183946488294314}, {\"year\": \"2014\", \"County_Name\": \"Riverside County\", \"middle_income_HH\": 1402, \"total\": 7611, \"Middle Income Renter Percentage\": 0.18420706871633163}, {\"year\": \"2014\", \"County_Name\": \"Sacramento County\", \"middle_income_HH\": 946, \"total\": 5347, \"Middle Income Renter Percentage\": 0.1769216383018515}, {\"year\": \"2014\", \"County_Name\": \"San Bernardino County\", \"middle_income_HH\": 1067, \"total\": 5679, \"Middle Income Renter Percentage\": 0.18788519105476317}, {\"year\": \"2014\", \"County_Name\": \"San Diego County\", \"middle_income_HH\": 1825, \"total\": 10534, \"Middle Income Renter Percentage\": 0.1732485285741409}, {\"year\": \"2014\", \"County_Name\": \"San Francisco County\", \"middle_income_HH\": 509, \"total\": 3296, \"Middle Income Renter Percentage\": 0.15442961165048544}, {\"year\": \"2014\", \"County_Name\": \"San Joaquin County\", \"middle_income_HH\": 392, \"total\": 2292, \"Middle Income Renter Percentage\": 0.17102966841186737}, {\"year\": \"2014\", \"County_Name\": \"San Luis Obispo County\", \"middle_income_HH\": 177, \"total\": 956, \"Middle Income Renter Percentage\": 0.18514644351464435}, {\"year\": \"2014\", \"County_Name\": \"San Mateo County\", \"middle_income_HH\": 425, \"total\": 2697, \"Middle Income Renter Percentage\": 0.1575824990730441}, {\"year\": \"2014\", \"County_Name\": \"Santa Barbara County\", \"middle_income_HH\": 240, \"total\": 1446, \"Middle Income Renter Percentage\": 0.16597510373443983}, {\"year\": \"2014\", \"County_Name\": \"Santa Clara County\", \"middle_income_HH\": 1156, \"total\": 6512, \"Middle Income Renter Percentage\": 0.17751842751842753}, {\"year\": \"2014\", \"County_Name\": \"Santa Cruz County\", \"middle_income_HH\": 161, \"total\": 908, \"Middle Income Renter Percentage\": 0.17731277533039647}, {\"year\": \"2014\", \"County_Name\": \"Shasta County\", \"middle_income_HH\": 147, \"total\": 857, \"Middle Income Renter Percentage\": 0.17152858809801633}, {\"year\": \"2014\", \"County_Name\": \"Solano County\", \"middle_income_HH\": 320, \"total\": 1499, \"Middle Income Renter Percentage\": 0.2134756504336224}, {\"year\": \"2014\", \"County_Name\": \"Sonoma County\", \"middle_income_HH\": 347, \"total\": 1916, \"Middle Income Renter Percentage\": 0.18110647181628392}, {\"year\": \"2014\", \"County_Name\": \"Stanislaus County\", \"middle_income_HH\": 262, \"total\": 1605, \"Middle Income Renter Percentage\": 0.1632398753894081}, {\"year\": \"2014\", \"County_Name\": \"Tulare County\", \"middle_income_HH\": 237, \"total\": 1393, \"Middle Income Renter Percentage\": 0.17013639626704954}, {\"year\": \"2014\", \"County_Name\": \"Ventura County\", \"middle_income_HH\": 547, \"total\": 2817, \"Middle Income Renter Percentage\": 0.1941782037628683}, {\"year\": \"2014\", \"County_Name\": \"Yolo County\", \"middle_income_HH\": 121, \"total\": 716, \"Middle Income Renter Percentage\": 0.16899441340782123}, {\"year\": \"2015\", \"County_Name\": \"Alameda County\", \"middle_income_HH\": 1053, \"total\": 6198, \"Middle Income Renter Percentage\": 0.16989351403678607}, {\"year\": \"2015\", \"County_Name\": \"Butte County\", \"middle_income_HH\": 174, \"total\": 948, \"Middle Income Renter Percentage\": 0.18354430379746836}, {\"year\": \"2015\", \"County_Name\": \"Contra Costa County\", \"middle_income_HH\": 679, \"total\": 3623, \"Middle Income Renter Percentage\": 0.18741374551476678}, {\"year\": \"2015\", \"County_Name\": \"El Dorado County\", \"middle_income_HH\": 88, \"total\": 672, \"Middle Income Renter Percentage\": 0.13095238095238096}, {\"year\": \"2015\", \"County_Name\": \"Fresno County\", \"middle_income_HH\": 473, \"total\": 2979, \"Middle Income Renter Percentage\": 0.1587781134608929}, {\"year\": \"2015\", \"County_Name\": \"Humboldt County\", \"middle_income_HH\": 121, \"total\": 627, \"Middle Income Renter Percentage\": 0.19298245614035087}, {\"year\": \"2015\", \"County_Name\": \"Imperial County\", \"middle_income_HH\": 62, \"total\": 437, \"Middle Income Renter Percentage\": 0.14187643020594964}, {\"year\": \"2015\", \"County_Name\": \"Kern County\", \"middle_income_HH\": 339, \"total\": 2280, \"Middle Income Renter Percentage\": 0.14868421052631578}, {\"year\": \"2015\", \"County_Name\": \"Kings County\", \"middle_income_HH\": 67, \"total\": 418, \"Middle Income Renter Percentage\": 0.16028708133971292}, {\"year\": \"2015\", \"County_Name\": \"Los Angeles County\", \"middle_income_HH\": 5613, \"total\": 35471, \"Middle Income Renter Percentage\": 0.1582419441233684}, {\"year\": \"2015\", \"County_Name\": \"Madera County\", \"middle_income_HH\": 69, \"total\": 396, \"Middle Income Renter Percentage\": 0.17424242424242425}, {\"year\": \"2015\", \"County_Name\": \"Marin County\", \"middle_income_HH\": 158, \"total\": 983, \"Middle Income Renter Percentage\": 0.1607324516785351}, {\"year\": \"2015\", \"County_Name\": \"Merced County\", \"middle_income_HH\": 139, \"total\": 775, \"Middle Income Renter Percentage\": 0.17935483870967742}, {\"year\": \"2015\", \"County_Name\": \"Monterey County\", \"middle_income_HH\": 215, \"total\": 1190, \"Middle Income Renter Percentage\": 0.18067226890756302}, {\"year\": \"2015\", \"County_Name\": \"Multiple County\", \"middle_income_HH\": 17404, \"total\": 95703, \"Middle Income Renter Percentage\": 0.18185427834028192}, {\"year\": \"2015\", \"County_Name\": \"Napa County\", \"middle_income_HH\": 121, \"total\": 675, \"Middle Income Renter Percentage\": 0.17925925925925926}, {\"year\": \"2015\", \"County_Name\": \"Orange County\", \"middle_income_HH\": 1817, \"total\": 10034, \"Middle Income Renter Percentage\": 0.18108431333466216}, {\"year\": \"2015\", \"County_Name\": \"Placer County\", \"middle_income_HH\": 254, \"total\": 1485, \"Middle Income Renter Percentage\": 0.17104377104377105}, {\"year\": \"2015\", \"County_Name\": \"Riverside County\", \"middle_income_HH\": 1409, \"total\": 7778, \"Middle Income Renter Percentage\": 0.18115196708665468}, {\"year\": \"2015\", \"County_Name\": \"Sacramento County\", \"middle_income_HH\": 990, \"total\": 5472, \"Middle Income Renter Percentage\": 0.18092105263157895}, {\"year\": \"2015\", \"County_Name\": \"San Bernardino County\", \"middle_income_HH\": 1007, \"total\": 5733, \"Middle Income Renter Percentage\": 0.1756497470783185}, {\"year\": \"2015\", \"County_Name\": \"San Diego County\", \"middle_income_HH\": 1855, \"total\": 10614, \"Middle Income Renter Percentage\": 0.17476917279065385}, {\"year\": \"2015\", \"County_Name\": \"San Francisco County\", \"middle_income_HH\": 504, \"total\": 3304, \"Middle Income Renter Percentage\": 0.15254237288135594}, {\"year\": \"2015\", \"County_Name\": \"San Joaquin County\", \"middle_income_HH\": 429, \"total\": 2289, \"Middle Income Renter Percentage\": 0.1874180865006553}, {\"year\": \"2015\", \"County_Name\": \"San Luis Obispo County\", \"middle_income_HH\": 161, \"total\": 966, \"Middle Income Renter Percentage\": 0.16666666666666666}, {\"year\": \"2015\", \"County_Name\": \"San Mateo County\", \"middle_income_HH\": 489, \"total\": 2783, \"Middle Income Renter Percentage\": 0.1757096658282429}, {\"year\": \"2015\", \"County_Name\": \"Santa Barbara County\", \"middle_income_HH\": 229, \"total\": 1494, \"Middle Income Renter Percentage\": 0.15327978580990628}, {\"year\": \"2015\", \"County_Name\": \"Santa Clara County\", \"middle_income_HH\": 1099, \"total\": 6550, \"Middle Income Renter Percentage\": 0.16778625954198473}, {\"year\": \"2015\", \"County_Name\": \"Santa Cruz County\", \"middle_income_HH\": 165, \"total\": 896, \"Middle Income Renter Percentage\": 0.18415178571428573}, {\"year\": \"2015\", \"County_Name\": \"Shasta County\", \"middle_income_HH\": 148, \"total\": 860, \"Middle Income Renter Percentage\": 0.17209302325581396}, {\"year\": \"2015\", \"County_Name\": \"Solano County\", \"middle_income_HH\": 283, \"total\": 1517, \"Middle Income Renter Percentage\": 0.1865524060646012}, {\"year\": \"2015\", \"County_Name\": \"Sonoma County\", \"middle_income_HH\": 384, \"total\": 1944, \"Middle Income Renter Percentage\": 0.19753086419753085}, {\"year\": \"2015\", \"County_Name\": \"Stanislaus County\", \"middle_income_HH\": 278, \"total\": 1640, \"Middle Income Renter Percentage\": 0.16951219512195123}, {\"year\": \"2015\", \"County_Name\": \"Tulare County\", \"middle_income_HH\": 252, \"total\": 1390, \"Middle Income Renter Percentage\": 0.18129496402877698}, {\"year\": \"2015\", \"County_Name\": \"Ventura County\", \"middle_income_HH\": 542, \"total\": 2850, \"Middle Income Renter Percentage\": 0.19017543859649122}, {\"year\": \"2015\", \"County_Name\": \"Yolo County\", \"middle_income_HH\": 116, \"total\": 708, \"Middle Income Renter Percentage\": 0.1638418079096045}, {\"year\": \"2016\", \"County_Name\": \"Alameda County\", \"middle_income_HH\": 1045, \"total\": 6191, \"Middle Income Renter Percentage\": 0.16879340978840252}, {\"year\": \"2016\", \"County_Name\": \"Butte County\", \"middle_income_HH\": 156, \"total\": 914, \"Middle Income Renter Percentage\": 0.17067833698030635}, {\"year\": \"2016\", \"County_Name\": \"Contra Costa County\", \"middle_income_HH\": 667, \"total\": 3659, \"Middle Income Renter Percentage\": 0.1822902432358568}, {\"year\": \"2016\", \"County_Name\": \"El Dorado County\", \"middle_income_HH\": 107, \"total\": 697, \"Middle Income Renter Percentage\": 0.15351506456241032}, {\"year\": \"2016\", \"County_Name\": \"Fresno County\", \"middle_income_HH\": 464, \"total\": 2971, \"Middle Income Renter Percentage\": 0.15617637159205655}, {\"year\": \"2016\", \"County_Name\": \"Humboldt County\", \"middle_income_HH\": 102, \"total\": 610, \"Middle Income Renter Percentage\": 0.16721311475409836}, {\"year\": \"2016\", \"County_Name\": \"Imperial County\", \"middle_income_HH\": 59, \"total\": 433, \"Middle Income Renter Percentage\": 0.13625866050808313}, {\"year\": \"2016\", \"County_Name\": \"Kern County\", \"middle_income_HH\": 375, \"total\": 2306, \"Middle Income Renter Percentage\": 0.16261925411968778}, {\"year\": \"2016\", \"County_Name\": \"Kings County\", \"middle_income_HH\": 75, \"total\": 419, \"Middle Income Renter Percentage\": 0.17899761336515513}, {\"year\": \"2016\", \"County_Name\": \"Los Angeles County\", \"middle_income_HH\": 5704, \"total\": 35641, \"Middle Income Renter Percentage\": 0.1600404029067647}, {\"year\": \"2016\", \"County_Name\": \"Madera County\", \"middle_income_HH\": 68, \"total\": 383, \"Middle Income Renter Percentage\": 0.17754569190600522}, {\"year\": \"2016\", \"County_Name\": \"Marin County\", \"middle_income_HH\": 148, \"total\": 982, \"Middle Income Renter Percentage\": 0.15071283095723015}, {\"year\": \"2016\", \"County_Name\": \"Merced County\", \"middle_income_HH\": 134, \"total\": 748, \"Middle Income Renter Percentage\": 0.17914438502673796}, {\"year\": \"2016\", \"County_Name\": \"Monterey County\", \"middle_income_HH\": 213, \"total\": 1191, \"Middle Income Renter Percentage\": 0.17884130982367757}, {\"year\": \"2016\", \"County_Name\": \"Multiple County\", \"middle_income_HH\": 16875, \"total\": 95956, \"Middle Income Renter Percentage\": 0.17586185334945184}, {\"year\": \"2016\", \"County_Name\": \"Napa County\", \"middle_income_HH\": 112, \"total\": 656, \"Middle Income Renter Percentage\": 0.17073170731707318}, {\"year\": \"2016\", \"County_Name\": \"Orange County\", \"middle_income_HH\": 1853, \"total\": 10188, \"Middle Income Renter Percentage\": 0.18188064389477818}, {\"year\": \"2016\", \"County_Name\": \"Placer County\", \"middle_income_HH\": 248, \"total\": 1522, \"Middle Income Renter Percentage\": 0.16294349540078842}, {\"year\": \"2016\", \"County_Name\": \"Riverside County\", \"middle_income_HH\": 1381, \"total\": 7771, \"Middle Income Renter Percentage\": 0.1777120061768112}, {\"year\": \"2016\", \"County_Name\": \"Sacramento County\", \"middle_income_HH\": 970, \"total\": 5484, \"Middle Income Renter Percentage\": 0.17687819110138586}, {\"year\": \"2016\", \"County_Name\": \"San Bernardino County\", \"middle_income_HH\": 1073, \"total\": 5754, \"Middle Income Renter Percentage\": 0.186478971150504}, {\"year\": \"2016\", \"County_Name\": \"San Diego County\", \"middle_income_HH\": 1806, \"total\": 10609, \"Middle Income Renter Percentage\": 0.17023282118955604}, {\"year\": \"2016\", \"County_Name\": \"San Francisco County\", \"middle_income_HH\": 491, \"total\": 3351, \"Middle Income Renter Percentage\": 0.14652342584303193}, {\"year\": \"2016\", \"County_Name\": \"San Joaquin County\", \"middle_income_HH\": 408, \"total\": 2321, \"Middle Income Renter Percentage\": 0.17578629900904783}, {\"year\": \"2016\", \"County_Name\": \"San Luis Obispo County\", \"middle_income_HH\": 207, \"total\": 973, \"Middle Income Renter Percentage\": 0.21274409044193218}, {\"year\": \"2016\", \"County_Name\": \"San Mateo County\", \"middle_income_HH\": 458, \"total\": 2801, \"Middle Income Renter Percentage\": 0.1635130310603356}, {\"year\": \"2016\", \"County_Name\": \"Santa Barbara County\", \"middle_income_HH\": 252, \"total\": 1449, \"Middle Income Renter Percentage\": 0.17391304347826086}, {\"year\": \"2016\", \"County_Name\": \"Santa Clara County\", \"middle_income_HH\": 1118, \"total\": 6650, \"Middle Income Renter Percentage\": 0.1681203007518797}, {\"year\": \"2016\", \"County_Name\": \"Santa Cruz County\", \"middle_income_HH\": 161, \"total\": 934, \"Middle Income Renter Percentage\": 0.17237687366167023}, {\"year\": \"2016\", \"County_Name\": \"Shasta County\", \"middle_income_HH\": 141, \"total\": 889, \"Middle Income Renter Percentage\": 0.15860517435320584}, {\"year\": \"2016\", \"County_Name\": \"Solano County\", \"middle_income_HH\": 282, \"total\": 1509, \"Middle Income Renter Percentage\": 0.18687872763419483}, {\"year\": \"2016\", \"County_Name\": \"Sonoma County\", \"middle_income_HH\": 359, \"total\": 1938, \"Middle Income Renter Percentage\": 0.18524251805985553}, {\"year\": \"2016\", \"County_Name\": \"Stanislaus County\", \"middle_income_HH\": 288, \"total\": 1630, \"Middle Income Renter Percentage\": 0.17668711656441718}, {\"year\": \"2016\", \"County_Name\": \"Tulare County\", \"middle_income_HH\": 233, \"total\": 1369, \"Middle Income Renter Percentage\": 0.1701972242512783}, {\"year\": \"2016\", \"County_Name\": \"Ventura County\", \"middle_income_HH\": 538, \"total\": 2911, \"Middle Income Renter Percentage\": 0.18481621435932669}, {\"year\": \"2016\", \"County_Name\": \"Yolo County\", \"middle_income_HH\": 130, \"total\": 728, \"Middle Income Renter Percentage\": 0.17857142857142858}, {\"year\": \"2017\", \"County_Name\": \"Alameda County\", \"middle_income_HH\": 1054, \"total\": 6253, \"Middle Income Renter Percentage\": 0.1685590916360147}, {\"year\": \"2017\", \"County_Name\": \"Butte County\", \"middle_income_HH\": 175, \"total\": 941, \"Middle Income Renter Percentage\": 0.18597236981934112}, {\"year\": \"2017\", \"County_Name\": \"Contra Costa County\", \"middle_income_HH\": 663, \"total\": 3691, \"Middle Income Renter Percentage\": 0.17962611758331076}, {\"year\": \"2017\", \"County_Name\": \"El Dorado County\", \"middle_income_HH\": 115, \"total\": 677, \"Middle Income Renter Percentage\": 0.16986706056129985}, {\"year\": \"2017\", \"County_Name\": \"Fresno County\", \"middle_income_HH\": 502, \"total\": 3041, \"Middle Income Renter Percentage\": 0.1650772772114436}, {\"year\": \"2017\", \"County_Name\": \"Humboldt County\", \"middle_income_HH\": 91, \"total\": 577, \"Middle Income Renter Percentage\": 0.15771230502599654}, {\"year\": \"2017\", \"County_Name\": \"Imperial County\", \"middle_income_HH\": 59, \"total\": 413, \"Middle Income Renter Percentage\": 0.14285714285714285}, {\"year\": \"2017\", \"County_Name\": \"Kern County\", \"middle_income_HH\": 413, \"total\": 2309, \"Middle Income Renter Percentage\": 0.17886530965786054}, {\"year\": \"2017\", \"County_Name\": \"Kings County\", \"middle_income_HH\": 76, \"total\": 422, \"Middle Income Renter Percentage\": 0.18009478672985782}, {\"year\": \"2017\", \"County_Name\": \"Los Angeles County\", \"middle_income_HH\": 5651, \"total\": 35432, \"Middle Income Renter Percentage\": 0.15948859787762473}, {\"year\": \"2017\", \"County_Name\": \"Madera County\", \"middle_income_HH\": 69, \"total\": 370, \"Middle Income Renter Percentage\": 0.1864864864864865}, {\"year\": \"2017\", \"County_Name\": \"Marin County\", \"middle_income_HH\": 142, \"total\": 977, \"Middle Income Renter Percentage\": 0.14534288638689866}, {\"year\": \"2017\", \"County_Name\": \"Merced County\", \"middle_income_HH\": 132, \"total\": 765, \"Middle Income Renter Percentage\": 0.17254901960784313}, {\"year\": \"2017\", \"County_Name\": \"Monterey County\", \"middle_income_HH\": 208, \"total\": 1192, \"Middle Income Renter Percentage\": 0.174496644295302}, {\"year\": \"2017\", \"County_Name\": \"Multiple County\", \"middle_income_HH\": 16782, \"total\": 97083, \"Middle Income Renter Percentage\": 0.17286239609406384}, {\"year\": \"2017\", \"County_Name\": \"Napa County\", \"middle_income_HH\": 124, \"total\": 655, \"Middle Income Renter Percentage\": 0.18931297709923664}, {\"year\": \"2017\", \"County_Name\": \"Orange County\", \"middle_income_HH\": 1883, \"total\": 10429, \"Middle Income Renter Percentage\": 0.18055422379902195}, {\"year\": \"2017\", \"County_Name\": \"Placer County\", \"middle_income_HH\": 258, \"total\": 1547, \"Middle Income Renter Percentage\": 0.1667744020685197}, {\"year\": \"2017\", \"County_Name\": \"Riverside County\", \"middle_income_HH\": 1333, \"total\": 7856, \"Middle Income Renter Percentage\": 0.16967922606924643}, {\"year\": \"2017\", \"County_Name\": \"Sacramento County\", \"middle_income_HH\": 1008, \"total\": 5548, \"Middle Income Renter Percentage\": 0.18168709444844988}, {\"year\": \"2017\", \"County_Name\": \"San Bernardino County\", \"middle_income_HH\": 1091, \"total\": 5643, \"Middle Income Renter Percentage\": 0.19333687754740386}, {\"year\": \"2017\", \"County_Name\": \"San Diego County\", \"middle_income_HH\": 1939, \"total\": 10839, \"Middle Income Renter Percentage\": 0.17889104160900451}, {\"year\": \"2017\", \"County_Name\": \"San Francisco County\", \"middle_income_HH\": 497, \"total\": 3370, \"Middle Income Renter Percentage\": 0.14747774480712167}, {\"year\": \"2017\", \"County_Name\": \"San Joaquin County\", \"middle_income_HH\": 358, \"total\": 2295, \"Middle Income Renter Percentage\": 0.1559912854030501}, {\"year\": \"2017\", \"County_Name\": \"San Luis Obispo County\", \"middle_income_HH\": 192, \"total\": 957, \"Middle Income Renter Percentage\": 0.2006269592476489}, {\"year\": \"2017\", \"County_Name\": \"San Mateo County\", \"middle_income_HH\": 502, \"total\": 2820, \"Middle Income Renter Percentage\": 0.17801418439716313}, {\"year\": \"2017\", \"County_Name\": \"Santa Barbara County\", \"middle_income_HH\": 240, \"total\": 1482, \"Middle Income Renter Percentage\": 0.16194331983805668}, {\"year\": \"2017\", \"County_Name\": \"Santa Clara County\", \"middle_income_HH\": 1097, \"total\": 6753, \"Middle Income Renter Percentage\": 0.16244632015400562}, {\"year\": \"2017\", \"County_Name\": \"Santa Cruz County\", \"middle_income_HH\": 145, \"total\": 883, \"Middle Income Renter Percentage\": 0.16421291053227632}, {\"year\": \"2017\", \"County_Name\": \"Shasta County\", \"middle_income_HH\": 145, \"total\": 856, \"Middle Income Renter Percentage\": 0.169392523364486}, {\"year\": \"2017\", \"County_Name\": \"Solano County\", \"middle_income_HH\": 294, \"total\": 1524, \"Middle Income Renter Percentage\": 0.19291338582677164}, {\"year\": \"2017\", \"County_Name\": \"Sonoma County\", \"middle_income_HH\": 351, \"total\": 1905, \"Middle Income Renter Percentage\": 0.18425196850393702}, {\"year\": \"2017\", \"County_Name\": \"Stanislaus County\", \"middle_income_HH\": 275, \"total\": 1618, \"Middle Income Renter Percentage\": 0.1699629171817058}, {\"year\": \"2017\", \"County_Name\": \"Tulare County\", \"middle_income_HH\": 233, \"total\": 1425, \"Middle Income Renter Percentage\": 0.16350877192982455}, {\"year\": \"2017\", \"County_Name\": \"Ventura County\", \"middle_income_HH\": 595, \"total\": 2964, \"Middle Income Renter Percentage\": 0.20074224021592443}, {\"year\": \"2017\", \"County_Name\": \"Yolo County\", \"middle_income_HH\": 104, \"total\": 725, \"Middle Income Renter Percentage\": 0.14344827586206896}, {\"year\": \"2018\", \"County_Name\": \"Alameda County\", \"middle_income_HH\": 1051, \"total\": 6221, \"Middle Income Renter Percentage\": 0.16894389969458287}, {\"year\": \"2018\", \"County_Name\": \"Butte County\", \"middle_income_HH\": 142, \"total\": 920, \"Middle Income Renter Percentage\": 0.15434782608695652}, {\"year\": \"2018\", \"County_Name\": \"Contra Costa County\", \"middle_income_HH\": 657, \"total\": 3690, \"Middle Income Renter Percentage\": 0.17804878048780487}, {\"year\": \"2018\", \"County_Name\": \"El Dorado County\", \"middle_income_HH\": 119, \"total\": 716, \"Middle Income Renter Percentage\": 0.16620111731843576}, {\"year\": \"2018\", \"County_Name\": \"Fresno County\", \"middle_income_HH\": 502, \"total\": 3031, \"Middle Income Renter Percentage\": 0.1656219069613989}, {\"year\": \"2018\", \"County_Name\": \"Humboldt County\", \"middle_income_HH\": 102, \"total\": 608, \"Middle Income Renter Percentage\": 0.16776315789473684}, {\"year\": \"2018\", \"County_Name\": \"Imperial County\", \"middle_income_HH\": 58, \"total\": 355, \"Middle Income Renter Percentage\": 0.16338028169014085}, {\"year\": \"2018\", \"County_Name\": \"Kern County\", \"middle_income_HH\": 401, \"total\": 2284, \"Middle Income Renter Percentage\": 0.175569176882662}, {\"year\": \"2018\", \"County_Name\": \"Kings County\", \"middle_income_HH\": 69, \"total\": 420, \"Middle Income Renter Percentage\": 0.16428571428571428}, {\"year\": \"2018\", \"County_Name\": \"Los Angeles County\", \"middle_income_HH\": 5817, \"total\": 35642, \"Middle Income Renter Percentage\": 0.16320632961113293}, {\"year\": \"2018\", \"County_Name\": \"Madera County\", \"middle_income_HH\": 76, \"total\": 400, \"Middle Income Renter Percentage\": 0.19}, {\"year\": \"2018\", \"County_Name\": \"Marin County\", \"middle_income_HH\": 151, \"total\": 950, \"Middle Income Renter Percentage\": 0.15894736842105264}, {\"year\": \"2018\", \"County_Name\": \"Merced County\", \"middle_income_HH\": 123, \"total\": 779, \"Middle Income Renter Percentage\": 0.15789473684210525}, {\"year\": \"2018\", \"County_Name\": \"Monterey County\", \"middle_income_HH\": 218, \"total\": 1178, \"Middle Income Renter Percentage\": 0.18505942275042445}, {\"year\": \"2018\", \"County_Name\": \"Multiple County\", \"middle_income_HH\": 17098, \"total\": 96002, \"Middle Income Renter Percentage\": 0.178100456240495}, {\"year\": \"2018\", \"County_Name\": \"Napa County\", \"middle_income_HH\": 116, \"total\": 655, \"Middle Income Renter Percentage\": 0.17709923664122137}, {\"year\": \"2018\", \"County_Name\": \"Orange County\", \"middle_income_HH\": 1858, \"total\": 10557, \"Middle Income Renter Percentage\": 0.1759969688358435}, {\"year\": \"2018\", \"County_Name\": \"Placer County\", \"middle_income_HH\": 262, \"total\": 1590, \"Middle Income Renter Percentage\": 0.16477987421383647}, {\"year\": \"2018\", \"County_Name\": \"Riverside County\", \"middle_income_HH\": 1390, \"total\": 8023, \"Middle Income Renter Percentage\": 0.17325190078524244}, {\"year\": \"2018\", \"County_Name\": \"Sacramento County\", \"middle_income_HH\": 1061, \"total\": 5609, \"Middle Income Renter Percentage\": 0.18916027812444286}, {\"year\": \"2018\", \"County_Name\": \"San Bernardino County\", \"middle_income_HH\": 1050, \"total\": 5803, \"Middle Income Renter Percentage\": 0.18094089264173704}, {\"year\": \"2018\", \"County_Name\": \"San Diego County\", \"middle_income_HH\": 1836, \"total\": 10821, \"Middle Income Renter Percentage\": 0.1696700859439978}, {\"year\": \"2018\", \"County_Name\": \"San Francisco County\", \"middle_income_HH\": 456, \"total\": 3302, \"Middle Income Renter Percentage\": 0.13809812235009086}, {\"year\": \"2018\", \"County_Name\": \"San Joaquin County\", \"middle_income_HH\": 395, \"total\": 2376, \"Middle Income Renter Percentage\": 0.16624579124579125}, {\"year\": \"2018\", \"County_Name\": \"San Luis Obispo County\", \"middle_income_HH\": 190, \"total\": 984, \"Middle Income Renter Percentage\": 0.19308943089430894}, {\"year\": \"2018\", \"County_Name\": \"San Mateo County\", \"middle_income_HH\": 495, \"total\": 2789, \"Middle Income Renter Percentage\": 0.17748296880602366}, {\"year\": \"2018\", \"County_Name\": \"Santa Barbara County\", \"middle_income_HH\": 237, \"total\": 1520, \"Middle Income Renter Percentage\": 0.15592105263157896}, {\"year\": \"2018\", \"County_Name\": \"Santa Clara County\", \"middle_income_HH\": 1153, \"total\": 6796, \"Middle Income Renter Percentage\": 0.16965862271924662}, {\"year\": \"2018\", \"County_Name\": \"Santa Cruz County\", \"middle_income_HH\": 137, \"total\": 893, \"Middle Income Renter Percentage\": 0.1534154535274356}, {\"year\": \"2018\", \"County_Name\": \"Shasta County\", \"middle_income_HH\": 146, \"total\": 852, \"Middle Income Renter Percentage\": 0.17136150234741784}, {\"year\": \"2018\", \"County_Name\": \"Solano County\", \"middle_income_HH\": 314, \"total\": 1582, \"Middle Income Renter Percentage\": 0.19848293299620734}, {\"year\": \"2018\", \"County_Name\": \"Sonoma County\", \"middle_income_HH\": 335, \"total\": 1895, \"Middle Income Renter Percentage\": 0.17678100263852242}, {\"year\": \"2018\", \"County_Name\": \"Stanislaus County\", \"middle_income_HH\": 306, \"total\": 1622, \"Middle Income Renter Percentage\": 0.18865598027127004}, {\"year\": \"2018\", \"County_Name\": \"Tulare County\", \"middle_income_HH\": 228, \"total\": 1416, \"Middle Income Renter Percentage\": 0.16101694915254236}, {\"year\": \"2018\", \"County_Name\": \"Ventura County\", \"middle_income_HH\": 581, \"total\": 3016, \"Middle Income Renter Percentage\": 0.1926392572944297}, {\"year\": \"2018\", \"County_Name\": \"Yolo County\", \"middle_income_HH\": 120, \"total\": 723, \"Middle Income Renter Percentage\": 0.16597510373443983}, {\"year\": \"2019\", \"County_Name\": \"Alameda County\", \"middle_income_HH\": 1064, \"total\": 6490, \"Middle Income Renter Percentage\": 0.16394453004622497}, {\"year\": \"2019\", \"County_Name\": \"Butte County\", \"middle_income_HH\": 136, \"total\": 853, \"Middle Income Renter Percentage\": 0.15943728018757328}, {\"year\": \"2019\", \"County_Name\": \"Contra Costa County\", \"middle_income_HH\": 677, \"total\": 3730, \"Middle Income Renter Percentage\": 0.18150134048257371}, {\"year\": \"2019\", \"County_Name\": \"El Dorado County\", \"middle_income_HH\": 113, \"total\": 731, \"Middle Income Renter Percentage\": 0.1545827633378933}, {\"year\": \"2019\", \"County_Name\": \"Fresno County\", \"middle_income_HH\": 464, \"total\": 3053, \"Middle Income Renter Percentage\": 0.15198165738617753}, {\"year\": \"2019\", \"County_Name\": \"Humboldt County\", \"middle_income_HH\": 101, \"total\": 588, \"Middle Income Renter Percentage\": 0.1717687074829932}, {\"year\": \"2019\", \"County_Name\": \"Imperial County\", \"middle_income_HH\": 65, \"total\": 389, \"Middle Income Renter Percentage\": 0.16709511568123395}, {\"year\": \"2019\", \"County_Name\": \"Kern County\", \"middle_income_HH\": 392, \"total\": 2307, \"Middle Income Renter Percentage\": 0.16991764195925443}, {\"year\": \"2019\", \"County_Name\": \"Kings County\", \"middle_income_HH\": 83, \"total\": 402, \"Middle Income Renter Percentage\": 0.2064676616915423}, {\"year\": \"2019\", \"County_Name\": \"Los Angeles County\", \"middle_income_HH\": 5916, \"total\": 35802, \"Middle Income Renter Percentage\": 0.16524216524216523}, {\"year\": \"2019\", \"County_Name\": \"Madera County\", \"middle_income_HH\": 68, \"total\": 391, \"Middle Income Renter Percentage\": 0.17391304347826086}, {\"year\": \"2019\", \"County_Name\": \"Marin County\", \"middle_income_HH\": 171, \"total\": 1016, \"Middle Income Renter Percentage\": 0.16830708661417323}, {\"year\": \"2019\", \"County_Name\": \"Merced County\", \"middle_income_HH\": 150, \"total\": 774, \"Middle Income Renter Percentage\": 0.1937984496124031}, {\"year\": \"2019\", \"County_Name\": \"Monterey County\", \"middle_income_HH\": 205, \"total\": 1199, \"Middle Income Renter Percentage\": 0.17097581317764804}, {\"year\": \"2019\", \"County_Name\": \"Multiple County\", \"middle_income_HH\": 16545, \"total\": 94047, \"Middle Income Renter Percentage\": 0.17592267695939265}, {\"year\": \"2019\", \"County_Name\": \"Napa County\", \"middle_income_HH\": 131, \"total\": 681, \"Middle Income Renter Percentage\": 0.19236417033773862}, {\"year\": \"2019\", \"County_Name\": \"Orange County\", \"middle_income_HH\": 1978, \"total\": 10805, \"Middle Income Renter Percentage\": 0.18306339657565943}, {\"year\": \"2019\", \"County_Name\": \"Placer County\", \"middle_income_HH\": 290, \"total\": 1627, \"Middle Income Renter Percentage\": 0.1782421634910879}, {\"year\": \"2019\", \"County_Name\": \"Riverside County\", \"middle_income_HH\": 1355, \"total\": 7924, \"Middle Income Renter Percentage\": 0.17099949520444221}, {\"year\": \"2019\", \"County_Name\": \"Sacramento County\", \"middle_income_HH\": 1084, \"total\": 5668, \"Middle Income Renter Percentage\": 0.19124911785462245}, {\"year\": \"2019\", \"County_Name\": \"San Bernardino County\", \"middle_income_HH\": 1043, \"total\": 5870, \"Middle Income Renter Percentage\": 0.1776831345826235}, {\"year\": \"2019\", \"County_Name\": \"San Diego County\", \"middle_income_HH\": 1957, \"total\": 10925, \"Middle Income Renter Percentage\": 0.1791304347826087}, {\"year\": \"2019\", \"County_Name\": \"San Francisco County\", \"middle_income_HH\": 537, \"total\": 3469, \"Middle Income Renter Percentage\": 0.1547996540789853}, {\"year\": \"2019\", \"County_Name\": \"San Joaquin County\", \"middle_income_HH\": 428, \"total\": 2308, \"Middle Income Renter Percentage\": 0.1854419410745234}, {\"year\": \"2019\", \"County_Name\": \"San Luis Obispo County\", \"middle_income_HH\": 175, \"total\": 1029, \"Middle Income Renter Percentage\": 0.17006802721088435}, {\"year\": \"2019\", \"County_Name\": \"San Mateo County\", \"middle_income_HH\": 482, \"total\": 2910, \"Middle Income Renter Percentage\": 0.16563573883161511}, {\"year\": \"2019\", \"County_Name\": \"Santa Barbara County\", \"middle_income_HH\": 275, \"total\": 1558, \"Middle Income Renter Percentage\": 0.17650834403080873}, {\"year\": \"2019\", \"County_Name\": \"Santa Clara County\", \"middle_income_HH\": 1161, \"total\": 7033, \"Middle Income Renter Percentage\": 0.16507891369259206}, {\"year\": \"2019\", \"County_Name\": \"Santa Cruz County\", \"middle_income_HH\": 168, \"total\": 942, \"Middle Income Renter Percentage\": 0.17834394904458598}, {\"year\": \"2019\", \"County_Name\": \"Shasta County\", \"middle_income_HH\": 152, \"total\": 886, \"Middle Income Renter Percentage\": 0.17155756207674944}, {\"year\": \"2019\", \"County_Name\": \"Solano County\", \"middle_income_HH\": 263, \"total\": 1522, \"Middle Income Renter Percentage\": 0.1727989487516426}, {\"year\": \"2019\", \"County_Name\": \"Sonoma County\", \"middle_income_HH\": 382, \"total\": 1947, \"Middle Income Renter Percentage\": 0.19619928094504366}, {\"year\": \"2019\", \"County_Name\": \"Stanislaus County\", \"middle_income_HH\": 312, \"total\": 1644, \"Middle Income Renter Percentage\": 0.1897810218978102}, {\"year\": \"2019\", \"County_Name\": \"Tulare County\", \"middle_income_HH\": 175, \"total\": 1193, \"Middle Income Renter Percentage\": 0.14668901927912825}, {\"year\": \"2019\", \"County_Name\": \"Ventura County\", \"middle_income_HH\": 595, \"total\": 3013, \"Middle Income Renter Percentage\": 0.19747759707932294}, {\"year\": \"2019\", \"County_Name\": \"Yolo County\", \"middle_income_HH\": 120, \"total\": 755, \"Middle Income Renter Percentage\": 0.15894039735099338}]}}, {\"mode\": \"vega-lite\"});\n",
       "</script>"
      ],
      "text/plain": [
       "alt.Chart(...)"
      ]
     },
     "execution_count": 62,
     "metadata": {},
     "output_type": "execute_result"
    }
   ],
   "source": [
    "alt.Chart(mid_income_count_percentage).mark_line().encode(\n",
    "    x='year',\n",
    "    y='Middle Income Renter Percentage',\n",
    "    color=\"County_Name\"\n",
    ")"
   ]
  },
  {
   "cell_type": "markdown",
   "metadata": {},
   "source": [
    "### Top 10 MSAs"
   ]
  },
  {
   "cell_type": "code",
   "execution_count": 114,
   "metadata": {},
   "outputs": [],
   "source": [
    "#pull in mapping of MSAs to Counties from here https://catalog.data.gov/dataset/california-metropolitan-statistical-areas-msa-and-metropolitan-divisions-md-163d2/resource/580630a6-9db5-4aaf-b331-3a4b3d476c09\n",
    "#get ranking of MSAs here: https://docs.fcc.gov/public/attachments/DOC-240702A2.pdf\n",
    "#\n",
    "msa = pd.read_csv(\"msa.csv\")\n",
    "msa = msa[[\"MSA_NAME\",\"COUNTIES\"]]\n",
    "top_10_msa = ['Riverside-San Bernardino-Ontario','San Jose-Sunnyvale-Santa Clara',\n",
    "              'San Francisco-Redwood City-South San Francisco','Oakland-Hayward-Berkeley',\n",
    "              'Los Angeles-Long Beach-Glendale','Anaheim-Santa Ana-Irvine','San Diego-Carlsbad',\n",
    "               'Sacramento--Roseville--Arden-Arcade','Fresno','Oxnard-Thousand Oaks-Ventura']\n",
    "msa = msa[msa.MSA_NAME.isin(top_10_msa)]\n",
    "#need to expand mapping \n",
    "msa = msa.drop('COUNTIES', axis=1).join(\n",
    "  msa['COUNTIES'].str.split(',', expand=True).stack()\n",
    "    .reset_index(level=1,drop=True).rename('COUNTIES'))\n",
    "msa['COUNTIES'] = msa['COUNTIES'] + \" County\" \n",
    "msa = msa.rename(columns={\"COUNTIES\":\"County_Name\"})#rename for clean merge "
   ]
  },
  {
   "cell_type": "code",
   "execution_count": 115,
   "metadata": {},
   "outputs": [],
   "source": [
    "msa_merged = msa.merge(mid_income_count_percentage,on=\"County_Name\",how=\"left\")\n",
    "msa_merged = msa_merged.groupby([\"MSA_NAME\",\"year\"]).mean().reset_index()"
   ]
  },
  {
   "cell_type": "code",
   "execution_count": 116,
   "metadata": {},
   "outputs": [
    {
     "data": {
      "text/html": [
       "\n",
       "<div id=\"altair-viz-823f004480e2477197f700e35519bbff\"></div>\n",
       "<script type=\"text/javascript\">\n",
       "  (function(spec, embedOpt){\n",
       "    const outputDiv = document.getElementById(\"altair-viz-823f004480e2477197f700e35519bbff\");\n",
       "    const paths = {\n",
       "      \"vega\": \"https://cdn.jsdelivr.net/npm//vega@5?noext\",\n",
       "      \"vega-lib\": \"https://cdn.jsdelivr.net/npm//vega-lib?noext\",\n",
       "      \"vega-lite\": \"https://cdn.jsdelivr.net/npm//vega-lite@4.0.2?noext\",\n",
       "      \"vega-embed\": \"https://cdn.jsdelivr.net/npm//vega-embed@6?noext\",\n",
       "    };\n",
       "\n",
       "    function loadScript(lib) {\n",
       "      return new Promise(function(resolve, reject) {\n",
       "        var s = document.createElement('script');\n",
       "        s.src = paths[lib];\n",
       "        s.async = true;\n",
       "        s.onload = () => resolve(paths[lib]);\n",
       "        s.onerror = () => reject(`Error loading script: ${paths[lib]}`);\n",
       "        document.getElementsByTagName(\"head\")[0].appendChild(s);\n",
       "      });\n",
       "    }\n",
       "\n",
       "    function showError(err) {\n",
       "      outputDiv.innerHTML = `<div class=\"error\" style=\"color:red;\">${err}</div>`;\n",
       "      throw err;\n",
       "    }\n",
       "\n",
       "    function displayChart(vegaEmbed) {\n",
       "      vegaEmbed(outputDiv, spec, embedOpt)\n",
       "        .catch(err => showError(`Javascript Error: ${err.message}<br>This usually means there's a typo in your chart specification. See the javascript console for the full traceback.`));\n",
       "    }\n",
       "\n",
       "    if(typeof define === \"function\" && define.amd) {\n",
       "      requirejs.config({paths});\n",
       "      require([\"vega-embed\"], displayChart, err => showError(`Error loading script: ${err.message}`));\n",
       "    } else if (typeof vegaEmbed === \"function\") {\n",
       "      displayChart(vegaEmbed);\n",
       "    } else {\n",
       "      loadScript(\"vega\")\n",
       "        .then(() => loadScript(\"vega-lite\"))\n",
       "        .then(() => loadScript(\"vega-embed\"))\n",
       "        .catch(showError)\n",
       "        .then(() => displayChart(vegaEmbed));\n",
       "    }\n",
       "  })({\"config\": {\"view\": {\"continuousWidth\": 400, \"continuousHeight\": 300}}, \"data\": {\"name\": \"data-e91746ea89603f4c52bede4f18d09e2f\"}, \"mark\": \"line\", \"encoding\": {\"color\": {\"type\": \"nominal\", \"field\": \"MSA_NAME\"}, \"x\": {\"type\": \"nominal\", \"field\": \"year\"}, \"y\": {\"type\": \"quantitative\", \"field\": \"Middle Income Renter Percentage\"}}, \"$schema\": \"https://vega.github.io/schema/vega-lite/v4.0.2.json\", \"datasets\": {\"data-e91746ea89603f4c52bede4f18d09e2f\": [{\"MSA_NAME\": \"Anaheim-Santa Ana-Irvine\", \"year\": \"2010\", \"middle_income_HH\": 8962.0, \"total\": 46561.0, \"Middle Income Renter Percentage\": 0.1924786838770645}, {\"MSA_NAME\": \"Anaheim-Santa Ana-Irvine\", \"year\": \"2011\", \"middle_income_HH\": 8901.0, \"total\": 47727.0, \"Middle Income Renter Percentage\": 0.1864982085611918}, {\"MSA_NAME\": \"Anaheim-Santa Ana-Irvine\", \"year\": \"2012\", \"middle_income_HH\": 1868.0, \"total\": 9804.0, \"Middle Income Renter Percentage\": 0.1905344757241942}, {\"MSA_NAME\": \"Anaheim-Santa Ana-Irvine\", \"year\": \"2013\", \"middle_income_HH\": 1840.0, \"total\": 9883.0, \"Middle Income Renter Percentage\": 0.1861782859455631}, {\"MSA_NAME\": \"Anaheim-Santa Ana-Irvine\", \"year\": \"2014\", \"middle_income_HH\": 1773.0, \"total\": 9910.0, \"Middle Income Renter Percentage\": 0.17891019172552977}, {\"MSA_NAME\": \"Anaheim-Santa Ana-Irvine\", \"year\": \"2015\", \"middle_income_HH\": 1817.0, \"total\": 10034.0, \"Middle Income Renter Percentage\": 0.18108431333466216}, {\"MSA_NAME\": \"Anaheim-Santa Ana-Irvine\", \"year\": \"2016\", \"middle_income_HH\": 1853.0, \"total\": 10188.0, \"Middle Income Renter Percentage\": 0.18188064389477818}, {\"MSA_NAME\": \"Anaheim-Santa Ana-Irvine\", \"year\": \"2017\", \"middle_income_HH\": 1883.0, \"total\": 10429.0, \"Middle Income Renter Percentage\": 0.18055422379902195}, {\"MSA_NAME\": \"Anaheim-Santa Ana-Irvine\", \"year\": \"2018\", \"middle_income_HH\": 1858.0, \"total\": 10557.0, \"Middle Income Renter Percentage\": 0.1759969688358435}, {\"MSA_NAME\": \"Anaheim-Santa Ana-Irvine\", \"year\": \"2019\", \"middle_income_HH\": 1978.0, \"total\": 10805.0, \"Middle Income Renter Percentage\": 0.18306339657565943}, {\"MSA_NAME\": \"Fresno\", \"year\": \"2010\", \"middle_income_HH\": 2580.0, \"total\": 14928.0, \"Middle Income Renter Percentage\": 0.17282958199356913}, {\"MSA_NAME\": \"Fresno\", \"year\": \"2011\", \"middle_income_HH\": 2598.0, \"total\": 15197.0, \"Middle Income Renter Percentage\": 0.17095479370928474}, {\"MSA_NAME\": \"Fresno\", \"year\": \"2012\", \"middle_income_HH\": 468.0, \"total\": 2958.0, \"Middle Income Renter Percentage\": 0.15821501014198783}, {\"MSA_NAME\": \"Fresno\", \"year\": \"2013\", \"middle_income_HH\": 497.0, \"total\": 2946.0, \"Middle Income Renter Percentage\": 0.16870332654446707}, {\"MSA_NAME\": \"Fresno\", \"year\": \"2014\", \"middle_income_HH\": 467.0, \"total\": 2975.0, \"Middle Income Renter Percentage\": 0.1569747899159664}, {\"MSA_NAME\": \"Fresno\", \"year\": \"2015\", \"middle_income_HH\": 473.0, \"total\": 2979.0, \"Middle Income Renter Percentage\": 0.1587781134608929}, {\"MSA_NAME\": \"Fresno\", \"year\": \"2016\", \"middle_income_HH\": 464.0, \"total\": 2971.0, \"Middle Income Renter Percentage\": 0.15617637159205655}, {\"MSA_NAME\": \"Fresno\", \"year\": \"2017\", \"middle_income_HH\": 502.0, \"total\": 3041.0, \"Middle Income Renter Percentage\": 0.1650772772114436}, {\"MSA_NAME\": \"Fresno\", \"year\": \"2018\", \"middle_income_HH\": 502.0, \"total\": 3031.0, \"Middle Income Renter Percentage\": 0.1656219069613989}, {\"MSA_NAME\": \"Fresno\", \"year\": \"2019\", \"middle_income_HH\": 464.0, \"total\": 3053.0, \"Middle Income Renter Percentage\": 0.15198165738617753}, {\"MSA_NAME\": \"Los Angeles-Long Beach-Glendale\", \"year\": \"2010\", \"middle_income_HH\": 27966.0, \"total\": 169280.0, \"Middle Income Renter Percentage\": 0.16520557655954632}, {\"MSA_NAME\": \"Los Angeles-Long Beach-Glendale\", \"year\": \"2011\", \"middle_income_HH\": 29487.0, \"total\": 177118.0, \"Middle Income Renter Percentage\": 0.16648223218419358}, {\"MSA_NAME\": \"Los Angeles-Long Beach-Glendale\", \"year\": \"2012\", \"middle_income_HH\": 5738.0, \"total\": 34895.0, \"Middle Income Renter Percentage\": 0.16443616563977648}, {\"MSA_NAME\": \"Los Angeles-Long Beach-Glendale\", \"year\": \"2013\", \"middle_income_HH\": 5714.0, \"total\": 35052.0, \"Middle Income Renter Percentage\": 0.16301494921830423}, {\"MSA_NAME\": \"Los Angeles-Long Beach-Glendale\", \"year\": \"2014\", \"middle_income_HH\": 5751.0, \"total\": 35332.0, \"Middle Income Renter Percentage\": 0.16277029321861203}, {\"MSA_NAME\": \"Los Angeles-Long Beach-Glendale\", \"year\": \"2015\", \"middle_income_HH\": 5613.0, \"total\": 35471.0, \"Middle Income Renter Percentage\": 0.1582419441233684}, {\"MSA_NAME\": \"Los Angeles-Long Beach-Glendale\", \"year\": \"2016\", \"middle_income_HH\": 5704.0, \"total\": 35641.0, \"Middle Income Renter Percentage\": 0.1600404029067647}, {\"MSA_NAME\": \"Los Angeles-Long Beach-Glendale\", \"year\": \"2017\", \"middle_income_HH\": 5651.0, \"total\": 35432.0, \"Middle Income Renter Percentage\": 0.15948859787762473}, {\"MSA_NAME\": \"Los Angeles-Long Beach-Glendale\", \"year\": \"2018\", \"middle_income_HH\": 5817.0, \"total\": 35642.0, \"Middle Income Renter Percentage\": 0.16320632961113293}, {\"MSA_NAME\": \"Los Angeles-Long Beach-Glendale\", \"year\": \"2019\", \"middle_income_HH\": 5916.0, \"total\": 35802.0, \"Middle Income Renter Percentage\": 0.16524216524216523}, {\"MSA_NAME\": \"Oakland-Hayward-Berkeley\", \"year\": \"2010\", \"middle_income_HH\": 2140.0, \"total\": 11893.0, \"Middle Income Renter Percentage\": 0.1799377785251829}, {\"MSA_NAME\": \"Oakland-Hayward-Berkeley\", \"year\": \"2011\", \"middle_income_HH\": 2147.0, \"total\": 11996.0, \"Middle Income Renter Percentage\": 0.17897632544181394}, {\"MSA_NAME\": \"Oakland-Hayward-Berkeley\", \"year\": \"2012\", \"middle_income_HH\": 1000.0, \"total\": 5825.0, \"Middle Income Renter Percentage\": 0.17167381974248927}, {\"MSA_NAME\": \"Oakland-Hayward-Berkeley\", \"year\": \"2013\", \"middle_income_HH\": 1055.0, \"total\": 6032.0, \"Middle Income Renter Percentage\": 0.17490053050397877}, {\"MSA_NAME\": \"Oakland-Hayward-Berkeley\", \"year\": \"2014\", \"middle_income_HH\": 1075.0, \"total\": 6056.0, \"Middle Income Renter Percentage\": 0.1775099075297226}, {\"MSA_NAME\": \"Oakland-Hayward-Berkeley\", \"year\": \"2015\", \"middle_income_HH\": 1053.0, \"total\": 6198.0, \"Middle Income Renter Percentage\": 0.16989351403678607}, {\"MSA_NAME\": \"Oakland-Hayward-Berkeley\", \"year\": \"2016\", \"middle_income_HH\": 1045.0, \"total\": 6191.0, \"Middle Income Renter Percentage\": 0.16879340978840252}, {\"MSA_NAME\": \"Oakland-Hayward-Berkeley\", \"year\": \"2017\", \"middle_income_HH\": 1054.0, \"total\": 6253.0, \"Middle Income Renter Percentage\": 0.1685590916360147}, {\"MSA_NAME\": \"Oakland-Hayward-Berkeley\", \"year\": \"2018\", \"middle_income_HH\": 1051.0, \"total\": 6221.0, \"Middle Income Renter Percentage\": 0.16894389969458287}, {\"MSA_NAME\": \"Oakland-Hayward-Berkeley\", \"year\": \"2019\", \"middle_income_HH\": 1064.0, \"total\": 6490.0, \"Middle Income Renter Percentage\": 0.16394453004622497}, {\"MSA_NAME\": \"Oxnard-Thousand Oaks-Ventura\", \"year\": \"2010\", \"middle_income_HH\": 2346.0, \"total\": 12506.0, \"Middle Income Renter Percentage\": 0.18758995682072604}, {\"MSA_NAME\": \"Oxnard-Thousand Oaks-Ventura\", \"year\": \"2011\", \"middle_income_HH\": 2426.0, \"total\": 13153.0, \"Middle Income Renter Percentage\": 0.18444461339618337}, {\"MSA_NAME\": \"Oxnard-Thousand Oaks-Ventura\", \"year\": \"2012\", \"middle_income_HH\": 572.0, \"total\": 2840.0, \"Middle Income Renter Percentage\": 0.20140845070422536}, {\"MSA_NAME\": \"Oxnard-Thousand Oaks-Ventura\", \"year\": \"2013\", \"middle_income_HH\": 521.0, \"total\": 2833.0, \"Middle Income Renter Percentage\": 0.1839039887045535}, {\"MSA_NAME\": \"Oxnard-Thousand Oaks-Ventura\", \"year\": \"2014\", \"middle_income_HH\": 547.0, \"total\": 2817.0, \"Middle Income Renter Percentage\": 0.1941782037628683}, {\"MSA_NAME\": \"Oxnard-Thousand Oaks-Ventura\", \"year\": \"2015\", \"middle_income_HH\": 542.0, \"total\": 2850.0, \"Middle Income Renter Percentage\": 0.19017543859649122}, {\"MSA_NAME\": \"Oxnard-Thousand Oaks-Ventura\", \"year\": \"2016\", \"middle_income_HH\": 538.0, \"total\": 2911.0, \"Middle Income Renter Percentage\": 0.18481621435932669}, {\"MSA_NAME\": \"Oxnard-Thousand Oaks-Ventura\", \"year\": \"2017\", \"middle_income_HH\": 595.0, \"total\": 2964.0, \"Middle Income Renter Percentage\": 0.20074224021592443}, {\"MSA_NAME\": \"Oxnard-Thousand Oaks-Ventura\", \"year\": \"2018\", \"middle_income_HH\": 581.0, \"total\": 3016.0, \"Middle Income Renter Percentage\": 0.1926392572944297}, {\"MSA_NAME\": \"Oxnard-Thousand Oaks-Ventura\", \"year\": \"2019\", \"middle_income_HH\": 595.0, \"total\": 3013.0, \"Middle Income Renter Percentage\": 0.19747759707932294}, {\"MSA_NAME\": \"Riverside-San Bernardino-Ontario\", \"year\": \"2010\", \"middle_income_HH\": 6847.0, \"total\": 37592.0, \"Middle Income Renter Percentage\": 0.18213981698233667}, {\"MSA_NAME\": \"Riverside-San Bernardino-Ontario\", \"year\": \"2011\", \"middle_income_HH\": 6859.0, \"total\": 36807.0, \"Middle Income Renter Percentage\": 0.18635042247398592}, {\"MSA_NAME\": \"Riverside-San Bernardino-Ontario\", \"year\": \"2012\", \"middle_income_HH\": 1337.0, \"total\": 7488.0, \"Middle Income Renter Percentage\": 0.17855235042735043}, {\"MSA_NAME\": \"Riverside-San Bernardino-Ontario\", \"year\": \"2013\", \"middle_income_HH\": 1349.0, \"total\": 7537.0, \"Middle Income Renter Percentage\": 0.17898368050948654}, {\"MSA_NAME\": \"Riverside-San Bernardino-Ontario\", \"year\": \"2014\", \"middle_income_HH\": 1402.0, \"total\": 7611.0, \"Middle Income Renter Percentage\": 0.18420706871633163}, {\"MSA_NAME\": \"Riverside-San Bernardino-Ontario\", \"year\": \"2015\", \"middle_income_HH\": 1409.0, \"total\": 7778.0, \"Middle Income Renter Percentage\": 0.18115196708665468}, {\"MSA_NAME\": \"Riverside-San Bernardino-Ontario\", \"year\": \"2016\", \"middle_income_HH\": 1381.0, \"total\": 7771.0, \"Middle Income Renter Percentage\": 0.1777120061768112}, {\"MSA_NAME\": \"Riverside-San Bernardino-Ontario\", \"year\": \"2017\", \"middle_income_HH\": 1333.0, \"total\": 7856.0, \"Middle Income Renter Percentage\": 0.16967922606924643}, {\"MSA_NAME\": \"Riverside-San Bernardino-Ontario\", \"year\": \"2018\", \"middle_income_HH\": 1390.0, \"total\": 8023.0, \"Middle Income Renter Percentage\": 0.17325190078524244}, {\"MSA_NAME\": \"Riverside-San Bernardino-Ontario\", \"year\": \"2019\", \"middle_income_HH\": 1355.0, \"total\": 7924.0, \"Middle Income Renter Percentage\": 0.17099949520444221}, {\"MSA_NAME\": \"Sacramento--Roseville--Arden-Arcade\", \"year\": \"2010\", \"middle_income_HH\": 529.0, \"total\": 2702.0, \"Middle Income Renter Percentage\": 0.19578090303478904}, {\"MSA_NAME\": \"Sacramento--Roseville--Arden-Arcade\", \"year\": \"2011\", \"middle_income_HH\": 455.0, \"total\": 2587.0, \"Middle Income Renter Percentage\": 0.17587939698492464}, {\"MSA_NAME\": \"Sacramento--Roseville--Arden-Arcade\", \"year\": \"2012\", \"middle_income_HH\": 124.0, \"total\": 659.0, \"Middle Income Renter Percentage\": 0.18816388467374812}, {\"MSA_NAME\": \"Sacramento--Roseville--Arden-Arcade\", \"year\": \"2013\", \"middle_income_HH\": 115.0, \"total\": 631.0, \"Middle Income Renter Percentage\": 0.18225039619651348}, {\"MSA_NAME\": \"Sacramento--Roseville--Arden-Arcade\", \"year\": \"2014\", \"middle_income_HH\": 115.0, \"total\": 678.0, \"Middle Income Renter Percentage\": 0.1696165191740413}, {\"MSA_NAME\": \"Sacramento--Roseville--Arden-Arcade\", \"year\": \"2015\", \"middle_income_HH\": 88.0, \"total\": 672.0, \"Middle Income Renter Percentage\": 0.13095238095238096}, {\"MSA_NAME\": \"Sacramento--Roseville--Arden-Arcade\", \"year\": \"2016\", \"middle_income_HH\": 107.0, \"total\": 697.0, \"Middle Income Renter Percentage\": 0.15351506456241032}, {\"MSA_NAME\": \"Sacramento--Roseville--Arden-Arcade\", \"year\": \"2017\", \"middle_income_HH\": 115.0, \"total\": 677.0, \"Middle Income Renter Percentage\": 0.16986706056129985}, {\"MSA_NAME\": \"Sacramento--Roseville--Arden-Arcade\", \"year\": \"2018\", \"middle_income_HH\": 119.0, \"total\": 716.0, \"Middle Income Renter Percentage\": 0.16620111731843576}, {\"MSA_NAME\": \"Sacramento--Roseville--Arden-Arcade\", \"year\": \"2019\", \"middle_income_HH\": 113.0, \"total\": 731.0, \"Middle Income Renter Percentage\": 0.1545827633378933}, {\"MSA_NAME\": \"San Diego-Carlsbad\", \"year\": \"2010\", \"middle_income_HH\": 8681.0, \"total\": 47812.0, \"Middle Income Renter Percentage\": 0.18156529741487493}, {\"MSA_NAME\": \"San Diego-Carlsbad\", \"year\": \"2011\", \"middle_income_HH\": 8695.0, \"total\": 48268.0, \"Middle Income Renter Percentage\": 0.18014005137979613}, {\"MSA_NAME\": \"San Diego-Carlsbad\", \"year\": \"2012\", \"middle_income_HH\": 1929.0, \"total\": 10293.0, \"Middle Income Renter Percentage\": 0.18740891868259982}, {\"MSA_NAME\": \"San Diego-Carlsbad\", \"year\": \"2013\", \"middle_income_HH\": 1817.0, \"total\": 10480.0, \"Middle Income Renter Percentage\": 0.17337786259541985}, {\"MSA_NAME\": \"San Diego-Carlsbad\", \"year\": \"2014\", \"middle_income_HH\": 1825.0, \"total\": 10534.0, \"Middle Income Renter Percentage\": 0.1732485285741409}, {\"MSA_NAME\": \"San Diego-Carlsbad\", \"year\": \"2015\", \"middle_income_HH\": 1855.0, \"total\": 10614.0, \"Middle Income Renter Percentage\": 0.17476917279065385}, {\"MSA_NAME\": \"San Diego-Carlsbad\", \"year\": \"2016\", \"middle_income_HH\": 1806.0, \"total\": 10609.0, \"Middle Income Renter Percentage\": 0.17023282118955604}, {\"MSA_NAME\": \"San Diego-Carlsbad\", \"year\": \"2017\", \"middle_income_HH\": 1939.0, \"total\": 10839.0, \"Middle Income Renter Percentage\": 0.17889104160900451}, {\"MSA_NAME\": \"San Diego-Carlsbad\", \"year\": \"2018\", \"middle_income_HH\": 1836.0, \"total\": 10821.0, \"Middle Income Renter Percentage\": 0.1696700859439978}, {\"MSA_NAME\": \"San Diego-Carlsbad\", \"year\": \"2019\", \"middle_income_HH\": 1957.0, \"total\": 10925.0, \"Middle Income Renter Percentage\": 0.1791304347826087}, {\"MSA_NAME\": \"San Francisco-Redwood City-South San Francisco\", \"year\": \"2010\", \"middle_income_HH\": 843.0, \"total\": 5113.0, \"Middle Income Renter Percentage\": 0.1648738509681205}, {\"MSA_NAME\": \"San Francisco-Redwood City-South San Francisco\", \"year\": \"2011\", \"middle_income_HH\": 855.0, \"total\": 5153.0, \"Middle Income Renter Percentage\": 0.16592276343877352}, {\"MSA_NAME\": \"San Francisco-Redwood City-South San Francisco\", \"year\": \"2012\", \"middle_income_HH\": 498.0, \"total\": 3158.0, \"Middle Income Renter Percentage\": 0.15769474350854973}, {\"MSA_NAME\": \"San Francisco-Redwood City-South San Francisco\", \"year\": \"2013\", \"middle_income_HH\": 528.0, \"total\": 3306.0, \"Middle Income Renter Percentage\": 0.15970961887477314}, {\"MSA_NAME\": \"San Francisco-Redwood City-South San Francisco\", \"year\": \"2014\", \"middle_income_HH\": 509.0, \"total\": 3296.0, \"Middle Income Renter Percentage\": 0.15442961165048544}, {\"MSA_NAME\": \"San Francisco-Redwood City-South San Francisco\", \"year\": \"2015\", \"middle_income_HH\": 504.0, \"total\": 3304.0, \"Middle Income Renter Percentage\": 0.15254237288135594}, {\"MSA_NAME\": \"San Francisco-Redwood City-South San Francisco\", \"year\": \"2016\", \"middle_income_HH\": 491.0, \"total\": 3351.0, \"Middle Income Renter Percentage\": 0.14652342584303193}, {\"MSA_NAME\": \"San Francisco-Redwood City-South San Francisco\", \"year\": \"2017\", \"middle_income_HH\": 497.0, \"total\": 3370.0, \"Middle Income Renter Percentage\": 0.14747774480712167}, {\"MSA_NAME\": \"San Francisco-Redwood City-South San Francisco\", \"year\": \"2018\", \"middle_income_HH\": 456.0, \"total\": 3302.0, \"Middle Income Renter Percentage\": 0.13809812235009086}, {\"MSA_NAME\": \"San Francisco-Redwood City-South San Francisco\", \"year\": \"2019\", \"middle_income_HH\": 537.0, \"total\": 3469.0, \"Middle Income Renter Percentage\": 0.1547996540789853}, {\"MSA_NAME\": \"San Jose-Sunnyvale-Santa Clara\", \"year\": \"2010\", \"middle_income_HH\": 3005.0, \"total\": 16343.0, \"Middle Income Renter Percentage\": 0.18387077036039895}, {\"MSA_NAME\": \"San Jose-Sunnyvale-Santa Clara\", \"year\": \"2011\", \"middle_income_HH\": 3042.0, \"total\": 16425.0, \"Middle Income Renter Percentage\": 0.1852054794520548}, {\"MSA_NAME\": \"San Jose-Sunnyvale-Santa Clara\", \"year\": \"2012\", \"middle_income_HH\": 1153.0, \"total\": 6318.0, \"Middle Income Renter Percentage\": 0.18249446027223806}, {\"MSA_NAME\": \"San Jose-Sunnyvale-Santa Clara\", \"year\": \"2013\", \"middle_income_HH\": 1132.0, \"total\": 6567.0, \"Middle Income Renter Percentage\": 0.17237703669864474}, {\"MSA_NAME\": \"San Jose-Sunnyvale-Santa Clara\", \"year\": \"2014\", \"middle_income_HH\": 1156.0, \"total\": 6512.0, \"Middle Income Renter Percentage\": 0.17751842751842753}, {\"MSA_NAME\": \"San Jose-Sunnyvale-Santa Clara\", \"year\": \"2015\", \"middle_income_HH\": 1099.0, \"total\": 6550.0, \"Middle Income Renter Percentage\": 0.16778625954198473}, {\"MSA_NAME\": \"San Jose-Sunnyvale-Santa Clara\", \"year\": \"2016\", \"middle_income_HH\": 1118.0, \"total\": 6650.0, \"Middle Income Renter Percentage\": 0.1681203007518797}, {\"MSA_NAME\": \"San Jose-Sunnyvale-Santa Clara\", \"year\": \"2017\", \"middle_income_HH\": 1097.0, \"total\": 6753.0, \"Middle Income Renter Percentage\": 0.16244632015400562}, {\"MSA_NAME\": \"San Jose-Sunnyvale-Santa Clara\", \"year\": \"2018\", \"middle_income_HH\": 1153.0, \"total\": 6796.0, \"Middle Income Renter Percentage\": 0.16965862271924662}, {\"MSA_NAME\": \"San Jose-Sunnyvale-Santa Clara\", \"year\": \"2019\", \"middle_income_HH\": 1161.0, \"total\": 7033.0, \"Middle Income Renter Percentage\": 0.16507891369259206}]}}, {\"mode\": \"vega-lite\"});\n",
       "</script>"
      ],
      "text/plain": [
       "alt.Chart(...)"
      ]
     },
     "execution_count": 116,
     "metadata": {},
     "output_type": "execute_result"
    }
   ],
   "source": [
    "alt.Chart(msa_merged).mark_line().encode(\n",
    "    x='year',\n",
    "    y='Middle Income Renter Percentage',\n",
    "    color=\"MSA_NAME\"\n",
    ")"
   ]
  },
  {
   "cell_type": "code",
   "execution_count": 45,
   "metadata": {},
   "outputs": [
    {
     "data": {
      "text/plain": [
       "0"
      ]
     },
     "execution_count": 45,
     "metadata": {},
     "output_type": "execute_result"
    }
   ],
   "source": [
    "#all counties are present in both \n",
    "len(df.County_Name.unique()) - len(pums_ca.County.unique())"
   ]
  },
  {
   "cell_type": "code",
   "execution_count": 46,
   "metadata": {},
   "outputs": [
    {
     "data": {
      "text/plain": [
       "set()"
      ]
     },
     "execution_count": 46,
     "metadata": {},
     "output_type": "execute_result"
    }
   ],
   "source": [
    "#all counties are present in both \n",
    "set(df.County_Name.unique()).difference(set(pums_ca.County.unique()))"
   ]
  }
 ],
 "metadata": {
  "kernelspec": {
   "display_name": "Python 3",
   "language": "python",
   "name": "python3"
  },
  "language_info": {
   "codemirror_mode": {
    "name": "ipython",
    "version": 3
   },
   "file_extension": ".py",
   "mimetype": "text/x-python",
   "name": "python",
   "nbconvert_exporter": "python",
   "pygments_lexer": "ipython3",
   "version": "3.7.2"
  }
 },
 "nbformat": 4,
 "nbformat_minor": 2
}
