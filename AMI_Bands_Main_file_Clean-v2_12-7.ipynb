{
 "cells": [
  {
   "cell_type": "code",
   "execution_count": 1,
   "metadata": {},
   "outputs": [],
   "source": [
    "import numpy as np\n",
    "import pandas as pd\n",
    "import zipfile         \n",
    "import os\n",
    "import matplotlib.pyplot as plt\n",
    "import altair as alt\n",
    "import re \n",
    "\n",
    "#pd.set_option('display.max_columns', 100)\n",
    "pd.options.display.float_format = '{:.2f}'.format\n",
    "pd.set_option(\"display.max_columns\", 330)"
   ]
  },
  {
   "cell_type": "markdown",
   "metadata": {},
   "source": [
    "#### Load in HUD AMI data "
   ]
  },
  {
   "cell_type": "code",
   "execution_count": 2,
   "metadata": {},
   "outputs": [],
   "source": [
    "# read in HUD AMI data downloaded for each year from here https://www.huduser.gov/portal/datasets/il.html#2010\n",
    "path = \"/Users/quinnunderriner/Desktop/Work/missing_middle/county_median_data/\"\n",
    "#path = os.getcwd()\n",
    "df = pd.DataFrame()\n",
    "for filename in os.listdir(path):\n",
    "    if filename.startswith(\"HUD-IL\"):\n",
    "        df_new = pd.read_csv(os.path.join(path, filename))\n",
    "        df_new[\"year\"] = filename[-8:-4]\n",
    "        median_col = [x for x in df_new.columns if \"median\" in x]\n",
    "\n",
    "        df_new = df_new.rename(columns={median_col[0]:\"median\"})\n",
    "\n",
    "        columns = [\"State_Alpha\",\"County_Name\",\"Metro_Area_Name\",\"year\",\"median\"]\n",
    "        df_new = df_new[columns]\n",
    "        df = pd.concat([df,df_new],ignore_index=True)\n",
    "df = df[df.State_Alpha ==\"CA\"]#filter for california\n",
    "#df.to_csv(\"california_hud_AMI_levels_2010-2019.csv\")"
   ]
  },
  {
   "cell_type": "markdown",
   "metadata": {},
   "source": [
    "#### Load in PUMS household Data"
   ]
  },
  {
   "cell_type": "markdown",
   "metadata": {},
   "source": [
    "got data below from downloading these zips like below, will load in with code if time later to make neater \n",
    "\n",
    "for i in range_list:\n",
    "    print(\"https://www2.census.gov/programs-surveys/acs/data/pums/\"+i+\"/1-Year/csv_hca.zip\")"
   ]
  },
  {
   "cell_type": "code",
   "execution_count": 3,
   "metadata": {},
   "outputs": [],
   "source": [
    "#PUMA - County Crosswalk - https://mcdc.missouri.edu/applications/geocorr2018.html.\n",
    "#note, manually changed all one to many (PUMA->County) matchings to just be \"Multiple CA\".\n",
    "#These are the small counties that are just a part of a PUMA and for the purpose of our analysis are combined \n",
    "crosswalk_df=pd.read_csv(\"/Users/quinnunderriner/Desktop/Work/missing_middle/PUMA_County_Crosswalk_v2 - PUMA_County_Crosswalk.csv\", delimiter=\",\")"
   ]
  },
  {
   "cell_type": "code",
   "execution_count": 4,
   "metadata": {},
   "outputs": [],
   "source": [
    "def read_in_PUMS(hpums_df,col_names):\n",
    "    variable_types = {\"NP\":\"int64\",\"NOC\":\"float\",\"BDSP\":\"float\",\"RMSP\":\"str\",\"MV\":\"float\",\"WGTP\":\"float\"}\n",
    "\n",
    "    columns = [\"SERIALNO\",\"NP\",\"R65\",\"NRC\",\"PUMA\",\"RT\",\"BDSP\",\"BLD\",\"RNTP\",\"MRGP\",\"SMP\", \"TYPE\",\n",
    "               \"CONP\",\"TEN\",\"VACS\",\"VALP\",\"GRPIP\",\"GRNTP\",\"SMOCP\",\"OCPIP\",\"HINCP\",\"MV\",\"WGTP\",\"NOC\", \"MULTG\", 'YBL']\n",
    "\n",
    "\n",
    "    hpums_df.rename(columns={\"RT\":\"record_type\",\n",
    "                         \"TYPE\":\"type\",\n",
    "                         \"BLD\":\"units_in_structure\",\n",
    "                         \"BDSP\":\"number_bedrooms\",\n",
    "                         \"RNTP\":\"monthly_rent\",\n",
    "                         \"MRGP\":\"first_mortgage\",\n",
    "                         \"SMP\":\"second_mortgage\",\n",
    "                         \"CONP\":\"condo_fee\",\n",
    "                         \"TEN\":\"tenure\",\n",
    "                         \"VACS\":\"vacancy_status\",\n",
    "                         \"VALP\":\"property_value\",\n",
    "                         \"GRPIP\":\"gross_rent_pct_of_income\",\n",
    "                         \"GRNTP\":\"gross_rent\",\n",
    "                         \"SMOCP\":\"select_owner_cost\",\n",
    "                         \"OCPIP\":\"select_owner_cost_pct_of_income\",\n",
    "                         \"HINCP\":\"hh_income\",\n",
    "                         \"NP\":\"ppl_in_hh\",\n",
    "                         \"R65\":\"ppl_over_65\",\n",
    "                         \"NRC\":\"num_relate_chldrn\",\n",
    "                         \"NOC\":\"num_own_chldrn\",\n",
    "                         \"MULTG\":\"multi_gen_hh\",\n",
    "                         \"WGTP\":\"weight\",\n",
    "                         \"YBL\": \"year_built\",\n",
    "                         \"MV\":\"moved_in\"}, inplace=True)\n",
    "    hpums_df.drop(hpums_df[hpums_df.type != 1].index, inplace=True)\n",
    "    \n",
    "    return hpums_df"
   ]
  },
  {
   "cell_type": "markdown",
   "metadata": {},
   "source": [
    "Markdown cell because want to be rerunning file and easier to just load in output of below \n",
    "from a csv then wait for the below to run to run everytime. But this code takes the 2010-2019\n",
    "PUMS household data, makes a year column, and then concat its together \n",
    "\n",
    "for filename in os.listdir(path_csv):\n",
    "    df_new1 = pd.read_csv(os.path.join(path_csv, filename))\n",
    "    df_new1= read_in_PUMS(df_new1,col_names)\n",
    "    df_new1[\"year\"] = filename[-8:-4] \n",
    "    hca = pd.concat([hca,df_new1],ignore_index=True)\n",
    "pums_ca = hca.ST[\"6\"]#added retroactively "
   ]
  },
  {
   "cell_type": "code",
   "execution_count": 5,
   "metadata": {},
   "outputs": [
    {
     "name": "stderr",
     "output_type": "stream",
     "text": [
      "/Users/quinnunderriner/anaconda3/lib/python3.7/site-packages/IPython/core/interactiveshell.py:2718: DtypeWarning: Columns (11,12,13,14,15) have mixed types.Specify dtype option on import or set low_memory=False.\n",
      "  interactivity=interactivity, compiler=compiler, result=result)\n"
     ]
    }
   ],
   "source": [
    "#load in output of above from CSV \n",
    "pums_ca = pd.read_csv(\"/Users/quinnunderriner/Desktop/Work/missing_middle/2010-2019_ca_household_survey.csv\")\n",
    "pums_sub_cols = [\"County\",'year',\"hh_income\",\"ppl_in_hh\",'PUMA']#Took more cols just in case from big dataset above, but this is all we need for this calc \n",
    "pums_ca = pums_ca[pums_sub_cols]"
   ]
  },
  {
   "cell_type": "markdown",
   "metadata": {},
   "source": [
    "Do PUMA to County Crosswalk\n",
    "\n",
    "Note: for years 2010 and 2011 the 2010 PUMA defintions were still being used; it was not until 2012 that the\n",
    "    new definitions came into effect. Therefore need to map the 2010-2011 and 2012-2019 groups seperately. "
   ]
  },
  {
   "cell_type": "code",
   "execution_count": 6,
   "metadata": {},
   "outputs": [],
   "source": [
    "def gimmie_county(x):\n",
    "    return x[0:x.find('County')]\n",
    "\n",
    "def bring_in_crosswalk(df):\n",
    "    crosswalk_df2010 = pd.read_excel(\"PUMA2000_PUMA2010_crosswalk.xls\") # https://usa.ipums.org/usa/volii/pumas10.shtml#crosswalk\n",
    "    crosswalk_df2010 = crosswalk_df2010[crosswalk_df2010.State10_Name ==\"California\"]\n",
    "    crosswalk_df2010 = crosswalk_df2010[[\"PUMA00\",\"PUMA10\",\"PUMA10_Name\"]] #filter for datasetes we want \n",
    "    \n",
    "    df_2010 = df[df.year.isin([2010,2011])] \n",
    "    \n",
    "    df_2010 = df_2010.drop(columns={\"County\"}) #drop county col, was missing for these years, will re add below \n",
    "    \n",
    "    pums_ca_2010 = df_2010.merge(crosswalk_df2010, how=\"left\",left_on=\"PUMA\",right_on=\"PUMA00\")\n",
    "    \n",
    "    pums_ca_2010[\"County\"] = pums_ca_2010.PUMA10_Name.apply(lambda x: gimmie_county(x))\n",
    "    \n",
    "    pums_ca_2010 = pums_ca_2010.drop(columns={\"PUMA\",\"PUMA00\"})\n",
    "    pums_ca_2010 = pums_ca_2010.rename(columns={\"PUMA10\":\"PUMA\"})#make new PUMA col the definitive PUMA col \n",
    "    \n",
    "    pums_ca_2010 = pums_ca_2010[[\"year\",\"hh_income\",\"ppl_in_hh\",\"County\",\"PUMA\"]]#keep only cols we want so we can concat \n",
    "    \n",
    "    crosswalk_df2012 = pd.read_csv(\"/Users/quinnunderriner/Desktop/Work/missing_middle/PUMA_County_Crosswalk_v2 - PUMA_County_Crosswalk.csv\", delimiter=\",\")\n",
    "\n",
    "    df_2012 = df[~df.year.isin([2010,2011])]\n",
    "\n",
    "    puma_county_df_2012 = df.merge(crosswalk_df2012, how='left', on=\"PUMA\")\n",
    "    puma_county_df_2012['County'] = puma_county_df_2012['county1'].str.replace(r' CA', '')\n",
    "    puma_county_df_2012.drop('county1', axis=1, inplace=True)\n",
    "    \n",
    "    puma_county_df_2012 = puma_county_df_2012[[\"year\",\"hh_income\",\"ppl_in_hh\",\"County\",\"PUMA\"]]#keep only cols we want so we can concat \n",
    "\n",
    "    puma_county_df = pd.concat([pums_ca_2010, puma_county_df_2012], ignore_index=True) #concat both datasets back together now that they have the same columns \n",
    "    \n",
    "    return puma_county_df"
   ]
  },
  {
   "cell_type": "code",
   "execution_count": 7,
   "metadata": {},
   "outputs": [],
   "source": [
    "pums_ca = bring_in_crosswalk(pums_ca) #call function "
   ]
  },
  {
   "cell_type": "code",
   "execution_count": 8,
   "metadata": {},
   "outputs": [],
   "source": [
    "pums_ca = pums_ca.dropna() # we lose ~300k records for having null values \n",
    "# we lose another 7896 by getting rid of entries with bad types, acceptable error in a dataset this big \n",
    "pums_ca = pums_ca[pd.to_numeric(pums_ca['hh_income'], errors='coerce').notnull()]\n",
    "pums_ca.hh_income = pums_ca.hh_income.astype(float) #convert to float so we can do calculations "
   ]
  },
  {
   "cell_type": "code",
   "execution_count": 9,
   "metadata": {},
   "outputs": [
    {
     "data": {
      "text/plain": [
       "<matplotlib.axes._subplots.AxesSubplot at 0x1266ab0f0>"
      ]
     },
     "execution_count": 9,
     "metadata": {},
     "output_type": "execute_result"
    },
    {
     "data": {
      "image/png": "[encoded data removed]",
      "text/plain": [
       "<Figure size 432x288 with 1 Axes>"
      ]
     },
     "metadata": {
      "needs_background": "light"
     },
     "output_type": "display_data"
    }
   ],
   "source": [
    "import matplotlib.pyplot as plt\n",
    "#check for outliers in hh income \n",
    "pums_ca.hh_income.hist()"
   ]
  },
  {
   "cell_type": "code",
   "execution_count": 10,
   "metadata": {},
   "outputs": [
    {
     "data": {
      "text/plain": [
       "count   2104477.00\n",
       "mean      90445.28\n",
       "std       98202.15\n",
       "min      -15700.00\n",
       "25%       30700.00\n",
       "50%       63530.00\n",
       "75%      114500.00\n",
       "max     2580000.00\n",
       "Name: hh_income, dtype: float64"
      ]
     },
     "execution_count": 10,
     "metadata": {},
     "output_type": "execute_result"
    }
   ],
   "source": [
    "#in this dataset negative income doenst really make sense, so I'll drop those rows.\n",
    "#Strange to see renter with 2.5 million income, but certainly not impossible in sf so can't\n",
    "#assume data error. \n",
    "pums_ca.hh_income.describe()"
   ]
  },
  {
   "cell_type": "code",
   "execution_count": 11,
   "metadata": {},
   "outputs": [],
   "source": [
    "pums_ca = pums_ca[pums_ca['hh_income'] >=0] #drop negative hh income  "
   ]
  },
  {
   "cell_type": "markdown",
   "metadata": {},
   "source": [
    "Need to adjust median income figure for family size \n",
    "\n",
    "\"Calculation of income limits for other family sizes is straight-forward. The 1-person family income limit is 70% of the 4-person income limit. The 2-person family income limit is 80% of the 4-person income limit, the 3-person family income limit is 90% of the 4-person income limit, the 5-person income limit is 108% of the 4-person income limit, the 6-person family income limit is 116% of the 4-person income limit, the 7-person family income limit is 124% of the 4-person income limit, and the 8-person family income limit is 132% of the 4-person income limit. For family sizes larger than 8 persons, the income limit can be calculated by adding an additional eight (8) percent per person to the next lower limit. For example a 9-person family income limit is 140% (132% + 8%), and so on. The resulting low-income limit calculation for other family sizes are then rounded up to the nearest $50 to produce the Final VLIL.\"\n",
    "\n",
    "https://www.huduser.gov/portal/datasets/il/il2020/2020IlCalc.odn\n"
   ]
  },
  {
   "cell_type": "code",
   "execution_count": 12,
   "metadata": {},
   "outputs": [
    {
     "data": {
      "text/plain": [
       "2     666919\n",
       "1     505353\n",
       "3     339571\n",
       "4     304312\n",
       "5     157804\n",
       "6      70477\n",
       "7      29662\n",
       "8      14229\n",
       "9       6949\n",
       "10      3698\n",
       "11      1986\n",
       "12      1334\n",
       "13       404\n",
       "14       254\n",
       "15       129\n",
       "16        61\n",
       "20        48\n",
       "17        32\n",
       "19        15\n",
       "18        13\n",
       "Name: ppl_in_hh, dtype: int64"
      ]
     },
     "execution_count": 12,
     "metadata": {},
     "output_type": "execute_result"
    }
   ],
   "source": [
    "#need to have household adjustments for up to size 20 \n",
    "pums_ca.ppl_in_hh.value_counts()"
   ]
  },
  {
   "cell_type": "code",
   "execution_count": 13,
   "metadata": {},
   "outputs": [],
   "source": [
    "pums_ca.County = pums_ca.County.str.rstrip()#strip trailing white space \n",
    "pums_ca = pums_ca.replace({\n",
    "    'County':{'Monterey (South & East) & San Benito Countie':\"Multiple\",\n",
    "            'Nevada & Sierra Countie':\"Multiple\",\"Sutter & Yuba Counties--Yuba Cit\":\"Multiple\",\n",
    "            \"Del Norte, Lassen, Modoc, Plumas & Siskiyou Countie\":\"Multiple\",\n",
    "            \"Alpine, Amador, Calaveras, Inyo, Mariposa, Mono & Tuolumne Countie\":\"Multiple\",\n",
    "             'Colusa, Glenn, Tehama & Trinity Countie':\"Multiple\",\n",
    "             \"Lake & Mendocino Countie\":\"Multiple\"}})#the 2010-2011 data did the one to many PUMA to County mapping, I'm just manually setting these to the Multiple category"
   ]
  },
  {
   "cell_type": "markdown",
   "metadata": {},
   "source": [
    "There is going to be a discrepency between the HUD data, which has every county in California, \n",
    "with the PUMS data, which has only the those that have a least one PUMA soley mapped to it. \n",
    "We need then to map the small counties in HUD with a one PUMA to many counties matching to the \n",
    "\"multiple counties\" category that we have in the PUMS data. "
   ]
  },
  {
   "cell_type": "code",
   "execution_count": 14,
   "metadata": {},
   "outputs": [],
   "source": [
    "#make sets of both county lists and look at the set difference to see what needs the \"multiple\" mapping \n",
    "pums_ca.County = pums_ca.County + \" County\"#make naming conventions align with HUD data so can merge\n",
    "\n",
    "pums_set = set(pums_ca.County)\n",
    "hud_set = set(df[\"County_Name\"])#now want to map everything not present in this data to the multiple category \n",
    "small_counties = hud_set.difference(pums_set)"
   ]
  },
  {
   "cell_type": "code",
   "execution_count": 15,
   "metadata": {},
   "outputs": [],
   "source": [
    "def small_multiples(x):\n",
    "    \"\"\"\n",
    "    This function returns \"Multiple Counties\" if county name is in the list of small counties, otherwise\n",
    "    keeps same value \n",
    "    \"\"\"\n",
    "    if x in small_counties:\n",
    "        return \"Multiple Counties\"\n",
    "    else:\n",
    "        return x \n",
    "df[\"County_Name\"] = df[\"County_Name\"].apply(lambda x: small_multiples(x))\n"
   ]
  },
  {
   "cell_type": "code",
   "execution_count": 16,
   "metadata": {},
   "outputs": [
    {
     "data": {
      "text/html": [
       "<div>\n",
       "<style scoped>\n",
       "    .dataframe tbody tr th:only-of-type {\n",
       "        vertical-align: middle;\n",
       "    }\n",
       "\n",
       "    .dataframe tbody tr th {\n",
       "        vertical-align: top;\n",
       "    }\n",
       "\n",
       "    .dataframe thead th {\n",
       "        text-align: right;\n",
       "    }\n",
       "</style>\n",
       "<table border=\"1\" class=\"dataframe\">\n",
       "  <thead>\n",
       "    <tr style=\"text-align: right;\">\n",
       "      <th></th>\n",
       "      <th>State_Alpha</th>\n",
       "      <th>County_Name</th>\n",
       "      <th>Metro_Area_Name</th>\n",
       "      <th>year</th>\n",
       "      <th>median</th>\n",
       "    </tr>\n",
       "  </thead>\n",
       "  <tbody>\n",
       "    <tr>\n",
       "      <th>186</th>\n",
       "      <td>CA</td>\n",
       "      <td>Alameda County</td>\n",
       "      <td>Oakland-Fremont, CA HUD Metro FMR Area</td>\n",
       "      <td>2017</td>\n",
       "      <td>97400</td>\n",
       "    </tr>\n",
       "    <tr>\n",
       "      <th>187</th>\n",
       "      <td>CA</td>\n",
       "      <td>Multiple Counties</td>\n",
       "      <td>Alpine County, CA</td>\n",
       "      <td>2017</td>\n",
       "      <td>74200</td>\n",
       "    </tr>\n",
       "    <tr>\n",
       "      <th>188</th>\n",
       "      <td>CA</td>\n",
       "      <td>Multiple Counties</td>\n",
       "      <td>Amador County, CA</td>\n",
       "      <td>2017</td>\n",
       "      <td>70900</td>\n",
       "    </tr>\n",
       "    <tr>\n",
       "      <th>189</th>\n",
       "      <td>CA</td>\n",
       "      <td>Butte County</td>\n",
       "      <td>Chico, CA MSA</td>\n",
       "      <td>2017</td>\n",
       "      <td>62600</td>\n",
       "    </tr>\n",
       "    <tr>\n",
       "      <th>190</th>\n",
       "      <td>CA</td>\n",
       "      <td>Multiple Counties</td>\n",
       "      <td>Calaveras County, CA</td>\n",
       "      <td>2017</td>\n",
       "      <td>69200</td>\n",
       "    </tr>\n",
       "  </tbody>\n",
       "</table>\n",
       "</div>"
      ],
      "text/plain": [
       "    State_Alpha        County_Name                         Metro_Area_Name  \\\n",
       "186          CA     Alameda County  Oakland-Fremont, CA HUD Metro FMR Area   \n",
       "187          CA  Multiple Counties                       Alpine County, CA   \n",
       "188          CA  Multiple Counties                       Amador County, CA   \n",
       "189          CA       Butte County                           Chico, CA MSA   \n",
       "190          CA  Multiple Counties                    Calaveras County, CA   \n",
       "\n",
       "     year  median  \n",
       "186  2017   97400  \n",
       "187  2017   74200  \n",
       "188  2017   70900  \n",
       "189  2017   62600  \n",
       "190  2017   69200  "
      ]
     },
     "execution_count": 16,
     "metadata": {},
     "output_type": "execute_result"
    }
   ],
   "source": [
    "df.head()"
   ]
  },
  {
   "cell_type": "code",
   "execution_count": 17,
   "metadata": {},
   "outputs": [],
   "source": [
    "df[\"County_Name\"] = df[\"County_Name\"].apply(lambda x: small_multiples(x))\n"
   ]
  },
  {
   "cell_type": "code",
   "execution_count": 18,
   "metadata": {},
   "outputs": [
    {
     "data": {
      "text/plain": [
       "array(['Alameda County', 'Multiple Counties', 'Butte County',\n",
       "       'Contra Costa County', 'El Dorado County', 'Fresno County',\n",
       "       'Humboldt County', 'Imperial County', 'Kern County',\n",
       "       'Kings County', 'Los Angeles County', 'Madera County',\n",
       "       'Marin County', 'Merced County', 'Monterey County', 'Napa County',\n",
       "       'Orange County', 'Placer County', 'Riverside County',\n",
       "       'Sacramento County', 'San Bernardino County', 'San Diego County',\n",
       "       'San Francisco County', 'San Joaquin County',\n",
       "       'San Luis Obispo County', 'San Mateo County',\n",
       "       'Santa Barbara County', 'Santa Clara County', 'Santa Cruz County',\n",
       "       'Shasta County', 'Solano County', 'Sonoma County',\n",
       "       'Stanislaus County', 'Tulare County', 'Ventura County',\n",
       "       'Yolo County'], dtype=object)"
      ]
     },
     "execution_count": 18,
     "metadata": {},
     "output_type": "execute_result"
    }
   ],
   "source": [
    "df[\"County_Name\"].unique()"
   ]
  },
  {
   "cell_type": "code",
   "execution_count": 19,
   "metadata": {},
   "outputs": [],
   "source": [
    "pums_ca[\"key\"] = pums_ca[\"County\"] + pums_ca[\"year\"].astype(str) #make keys to match on \n",
    "df[\"key\"] = df[\"County_Name\"] + df[\"year\"].astype(str) #make keys to match on "
   ]
  },
  {
   "cell_type": "code",
   "execution_count": 20,
   "metadata": {},
   "outputs": [],
   "source": [
    "#need to create range of values for each county \n",
    "df[\"80%_AMI\"] = df[\"median\"] * 0.8\n",
    "df[\"120%_AMI\"] = df[\"median\"] * 1.2"
   ]
  },
  {
   "cell_type": "code",
   "execution_count": 21,
   "metadata": {},
   "outputs": [
    {
     "data": {
      "text/html": [
       "<div>\n",
       "<style scoped>\n",
       "    .dataframe tbody tr th:only-of-type {\n",
       "        vertical-align: middle;\n",
       "    }\n",
       "\n",
       "    .dataframe tbody tr th {\n",
       "        vertical-align: top;\n",
       "    }\n",
       "\n",
       "    .dataframe thead th {\n",
       "        text-align: right;\n",
       "    }\n",
       "</style>\n",
       "<table border=\"1\" class=\"dataframe\">\n",
       "  <thead>\n",
       "    <tr style=\"text-align: right;\">\n",
       "      <th></th>\n",
       "      <th>State_Alpha</th>\n",
       "      <th>County_Name</th>\n",
       "      <th>Metro_Area_Name</th>\n",
       "      <th>year</th>\n",
       "      <th>median</th>\n",
       "      <th>key</th>\n",
       "      <th>80%_AMI</th>\n",
       "      <th>120%_AMI</th>\n",
       "    </tr>\n",
       "  </thead>\n",
       "  <tbody>\n",
       "    <tr>\n",
       "      <th>186</th>\n",
       "      <td>CA</td>\n",
       "      <td>Alameda County</td>\n",
       "      <td>Oakland-Fremont, CA HUD Metro FMR Area</td>\n",
       "      <td>2017</td>\n",
       "      <td>97400</td>\n",
       "      <td>Alameda County2017</td>\n",
       "      <td>77920.00</td>\n",
       "      <td>116880.00</td>\n",
       "    </tr>\n",
       "    <tr>\n",
       "      <th>187</th>\n",
       "      <td>CA</td>\n",
       "      <td>Multiple Counties</td>\n",
       "      <td>Alpine County, CA</td>\n",
       "      <td>2017</td>\n",
       "      <td>74200</td>\n",
       "      <td>Multiple Counties2017</td>\n",
       "      <td>59360.00</td>\n",
       "      <td>89040.00</td>\n",
       "    </tr>\n",
       "    <tr>\n",
       "      <th>188</th>\n",
       "      <td>CA</td>\n",
       "      <td>Multiple Counties</td>\n",
       "      <td>Amador County, CA</td>\n",
       "      <td>2017</td>\n",
       "      <td>70900</td>\n",
       "      <td>Multiple Counties2017</td>\n",
       "      <td>56720.00</td>\n",
       "      <td>85080.00</td>\n",
       "    </tr>\n",
       "    <tr>\n",
       "      <th>189</th>\n",
       "      <td>CA</td>\n",
       "      <td>Butte County</td>\n",
       "      <td>Chico, CA MSA</td>\n",
       "      <td>2017</td>\n",
       "      <td>62600</td>\n",
       "      <td>Butte County2017</td>\n",
       "      <td>50080.00</td>\n",
       "      <td>75120.00</td>\n",
       "    </tr>\n",
       "    <tr>\n",
       "      <th>190</th>\n",
       "      <td>CA</td>\n",
       "      <td>Multiple Counties</td>\n",
       "      <td>Calaveras County, CA</td>\n",
       "      <td>2017</td>\n",
       "      <td>69200</td>\n",
       "      <td>Multiple Counties2017</td>\n",
       "      <td>55360.00</td>\n",
       "      <td>83040.00</td>\n",
       "    </tr>\n",
       "  </tbody>\n",
       "</table>\n",
       "</div>"
      ],
      "text/plain": [
       "    State_Alpha        County_Name                         Metro_Area_Name  \\\n",
       "186          CA     Alameda County  Oakland-Fremont, CA HUD Metro FMR Area   \n",
       "187          CA  Multiple Counties                       Alpine County, CA   \n",
       "188          CA  Multiple Counties                       Amador County, CA   \n",
       "189          CA       Butte County                           Chico, CA MSA   \n",
       "190          CA  Multiple Counties                    Calaveras County, CA   \n",
       "\n",
       "     year  median                    key  80%_AMI  120%_AMI  \n",
       "186  2017   97400     Alameda County2017 77920.00 116880.00  \n",
       "187  2017   74200  Multiple Counties2017 59360.00  89040.00  \n",
       "188  2017   70900  Multiple Counties2017 56720.00  85080.00  \n",
       "189  2017   62600       Butte County2017 50080.00  75120.00  \n",
       "190  2017   69200  Multiple Counties2017 55360.00  83040.00  "
      ]
     },
     "execution_count": 21,
     "metadata": {},
     "output_type": "execute_result"
    }
   ],
   "source": [
    "df.head()"
   ]
  },
  {
   "cell_type": "code",
   "execution_count": 22,
   "metadata": {},
   "outputs": [],
   "source": [
    "#merge data \n",
    "df_merged = pums_ca.merge(df,on=\"key\",how=\"left\")\n",
    "#df_merged.to_csv(\"HUD_PUMS_merged_data_CA.csv\")"
   ]
  },
  {
   "cell_type": "code",
   "execution_count": 23,
   "metadata": {},
   "outputs": [
    {
     "data": {
      "text/html": [
       "<div>\n",
       "<style scoped>\n",
       "    .dataframe tbody tr th:only-of-type {\n",
       "        vertical-align: middle;\n",
       "    }\n",
       "\n",
       "    .dataframe tbody tr th {\n",
       "        vertical-align: top;\n",
       "    }\n",
       "\n",
       "    .dataframe thead th {\n",
       "        text-align: right;\n",
       "    }\n",
       "</style>\n",
       "<table border=\"1\" class=\"dataframe\">\n",
       "  <thead>\n",
       "    <tr style=\"text-align: right;\">\n",
       "      <th></th>\n",
       "      <th>year</th>\n",
       "      <th>hh_income</th>\n",
       "      <th>ppl_in_hh</th>\n",
       "      <th>County</th>\n",
       "      <th>PUMA</th>\n",
       "      <th>key</th>\n",
       "    </tr>\n",
       "  </thead>\n",
       "  <tbody>\n",
       "    <tr>\n",
       "      <th>0</th>\n",
       "      <td>2011</td>\n",
       "      <td>74000.00</td>\n",
       "      <td>2</td>\n",
       "      <td>Butte County</td>\n",
       "      <td>702</td>\n",
       "      <td>Butte County2011</td>\n",
       "    </tr>\n",
       "    <tr>\n",
       "      <th>1</th>\n",
       "      <td>2011</td>\n",
       "      <td>74000.00</td>\n",
       "      <td>2</td>\n",
       "      <td>Placer County</td>\n",
       "      <td>6103</td>\n",
       "      <td>Placer County2011</td>\n",
       "    </tr>\n",
       "    <tr>\n",
       "      <th>2</th>\n",
       "      <td>2011</td>\n",
       "      <td>74000.00</td>\n",
       "      <td>2</td>\n",
       "      <td>Multiple County</td>\n",
       "      <td>10100</td>\n",
       "      <td>Multiple County2011</td>\n",
       "    </tr>\n",
       "    <tr>\n",
       "      <th>3</th>\n",
       "      <td>2011</td>\n",
       "      <td>74000.00</td>\n",
       "      <td>2</td>\n",
       "      <td>Multiple County</td>\n",
       "      <td>1500</td>\n",
       "      <td>Multiple County2011</td>\n",
       "    </tr>\n",
       "    <tr>\n",
       "      <th>4</th>\n",
       "      <td>2011</td>\n",
       "      <td>29300.00</td>\n",
       "      <td>1</td>\n",
       "      <td>Los Angeles County</td>\n",
       "      <td>3740</td>\n",
       "      <td>Los Angeles County2011</td>\n",
       "    </tr>\n",
       "  </tbody>\n",
       "</table>\n",
       "</div>"
      ],
      "text/plain": [
       "   year  hh_income  ppl_in_hh              County   PUMA  \\\n",
       "0  2011   74000.00          2        Butte County    702   \n",
       "1  2011   74000.00          2       Placer County   6103   \n",
       "2  2011   74000.00          2     Multiple County  10100   \n",
       "3  2011   74000.00          2     Multiple County   1500   \n",
       "4  2011   29300.00          1  Los Angeles County   3740   \n",
       "\n",
       "                      key  \n",
       "0        Butte County2011  \n",
       "1       Placer County2011  \n",
       "2     Multiple County2011  \n",
       "3     Multiple County2011  \n",
       "4  Los Angeles County2011  "
      ]
     },
     "execution_count": 23,
     "metadata": {},
     "output_type": "execute_result"
    }
   ],
   "source": [
    "pums_ca.head()"
   ]
  },
  {
   "cell_type": "code",
   "execution_count": 24,
   "metadata": {},
   "outputs": [
    {
     "data": {
      "text/plain": [
       "'Butte County2011'"
      ]
     },
     "execution_count": 24,
     "metadata": {},
     "output_type": "execute_result"
    }
   ],
   "source": [
    "pums_ca[\"key\"][0]"
   ]
  },
  {
   "cell_type": "markdown",
   "metadata": {},
   "source": [
    "STATE OF AFFAIRS EOD\n",
    "\n",
    "as noted below, make sure both have the Multple counties thing populating correclty, somethign is wrong with the \n",
    "PUMS multiple key\n",
    "\n",
    "with HUD DF NEED TO AVERAGE ACROSS THE MULTIPLE MULTIPLE COUNTIES MAPPINGS IN DF, AMI Bands, prior to merge. \n",
    "\n",
    "then:\n",
    "\n",
    " 1. graph for all of california \n",
    " 2. graph for top 10 MSAs\n",
    " 3. graph for remaining counties \n",
    "\n"
   ]
  },
  {
   "cell_type": "code",
   "execution_count": 26,
   "metadata": {},
   "outputs": [
    {
     "data": {
      "text/plain": [
       "{'Multiple Counties2010',\n",
       " 'Multiple Counties2011',\n",
       " 'Multiple Counties2012',\n",
       " 'Multiple Counties2013',\n",
       " 'Multiple Counties2014',\n",
       " 'Multiple Counties2015',\n",
       " 'Multiple Counties2016',\n",
       " 'Multiple Counties2017',\n",
       " 'Multiple Counties2018',\n",
       " 'Multiple Counties2019'}"
      ]
     },
     "execution_count": 26,
     "metadata": {},
     "output_type": "execute_result"
    }
   ],
   "source": [
    "set(df.key).difference(set(pums_ca.key))"
   ]
  },
  {
   "cell_type": "code",
   "execution_count": 27,
   "metadata": {},
   "outputs": [
    {
     "data": {
      "text/plain": [
       "{'Alameda County2010',\n",
       " 'Alameda County2011',\n",
       " 'Alameda County2012',\n",
       " 'Alameda County2013',\n",
       " 'Alameda County2014',\n",
       " 'Alameda County2015',\n",
       " 'Alameda County2016',\n",
       " 'Alameda County2017',\n",
       " 'Alameda County2018',\n",
       " 'Alameda County2019',\n",
       " 'Butte County2010',\n",
       " 'Butte County2011',\n",
       " 'Butte County2012',\n",
       " 'Butte County2013',\n",
       " 'Butte County2014',\n",
       " 'Butte County2015',\n",
       " 'Butte County2016',\n",
       " 'Butte County2017',\n",
       " 'Butte County2018',\n",
       " 'Butte County2019',\n",
       " 'Contra Costa County2010',\n",
       " 'Contra Costa County2011',\n",
       " 'Contra Costa County2012',\n",
       " 'Contra Costa County2013',\n",
       " 'Contra Costa County2014',\n",
       " 'Contra Costa County2015',\n",
       " 'Contra Costa County2016',\n",
       " 'Contra Costa County2017',\n",
       " 'Contra Costa County2018',\n",
       " 'Contra Costa County2019',\n",
       " 'El Dorado County2010',\n",
       " 'El Dorado County2011',\n",
       " 'El Dorado County2012',\n",
       " 'El Dorado County2013',\n",
       " 'El Dorado County2014',\n",
       " 'El Dorado County2015',\n",
       " 'El Dorado County2016',\n",
       " 'El Dorado County2017',\n",
       " 'El Dorado County2018',\n",
       " 'El Dorado County2019',\n",
       " 'Fresno County2010',\n",
       " 'Fresno County2011',\n",
       " 'Fresno County2012',\n",
       " 'Fresno County2013',\n",
       " 'Fresno County2014',\n",
       " 'Fresno County2015',\n",
       " 'Fresno County2016',\n",
       " 'Fresno County2017',\n",
       " 'Fresno County2018',\n",
       " 'Fresno County2019',\n",
       " 'Humboldt County2010',\n",
       " 'Humboldt County2011',\n",
       " 'Humboldt County2012',\n",
       " 'Humboldt County2013',\n",
       " 'Humboldt County2014',\n",
       " 'Humboldt County2015',\n",
       " 'Humboldt County2016',\n",
       " 'Humboldt County2017',\n",
       " 'Humboldt County2018',\n",
       " 'Humboldt County2019',\n",
       " 'Imperial County2010',\n",
       " 'Imperial County2011',\n",
       " 'Imperial County2012',\n",
       " 'Imperial County2013',\n",
       " 'Imperial County2014',\n",
       " 'Imperial County2015',\n",
       " 'Imperial County2016',\n",
       " 'Imperial County2017',\n",
       " 'Imperial County2018',\n",
       " 'Imperial County2019',\n",
       " 'Kern County2010',\n",
       " 'Kern County2011',\n",
       " 'Kern County2012',\n",
       " 'Kern County2013',\n",
       " 'Kern County2014',\n",
       " 'Kern County2015',\n",
       " 'Kern County2016',\n",
       " 'Kern County2017',\n",
       " 'Kern County2018',\n",
       " 'Kern County2019',\n",
       " 'Kings County2010',\n",
       " 'Kings County2011',\n",
       " 'Kings County2012',\n",
       " 'Kings County2013',\n",
       " 'Kings County2014',\n",
       " 'Kings County2015',\n",
       " 'Kings County2016',\n",
       " 'Kings County2017',\n",
       " 'Kings County2018',\n",
       " 'Kings County2019',\n",
       " 'Los Angeles County2010',\n",
       " 'Los Angeles County2011',\n",
       " 'Los Angeles County2012',\n",
       " 'Los Angeles County2013',\n",
       " 'Los Angeles County2014',\n",
       " 'Los Angeles County2015',\n",
       " 'Los Angeles County2016',\n",
       " 'Los Angeles County2017',\n",
       " 'Los Angeles County2018',\n",
       " 'Los Angeles County2019',\n",
       " 'Madera County2010',\n",
       " 'Madera County2011',\n",
       " 'Madera County2012',\n",
       " 'Madera County2013',\n",
       " 'Madera County2014',\n",
       " 'Madera County2015',\n",
       " 'Madera County2016',\n",
       " 'Madera County2017',\n",
       " 'Madera County2018',\n",
       " 'Madera County2019',\n",
       " 'Marin County2010',\n",
       " 'Marin County2011',\n",
       " 'Marin County2012',\n",
       " 'Marin County2013',\n",
       " 'Marin County2014',\n",
       " 'Marin County2015',\n",
       " 'Marin County2016',\n",
       " 'Marin County2017',\n",
       " 'Marin County2018',\n",
       " 'Marin County2019',\n",
       " 'Merced County2010',\n",
       " 'Merced County2011',\n",
       " 'Merced County2012',\n",
       " 'Merced County2013',\n",
       " 'Merced County2014',\n",
       " 'Merced County2015',\n",
       " 'Merced County2016',\n",
       " 'Merced County2017',\n",
       " 'Merced County2018',\n",
       " 'Merced County2019',\n",
       " 'Monterey County2010',\n",
       " 'Monterey County2011',\n",
       " 'Monterey County2012',\n",
       " 'Monterey County2013',\n",
       " 'Monterey County2014',\n",
       " 'Monterey County2015',\n",
       " 'Monterey County2016',\n",
       " 'Monterey County2017',\n",
       " 'Monterey County2018',\n",
       " 'Monterey County2019',\n",
       " 'Multiple Counties2010',\n",
       " 'Multiple Counties2011',\n",
       " 'Multiple Counties2012',\n",
       " 'Multiple Counties2013',\n",
       " 'Multiple Counties2014',\n",
       " 'Multiple Counties2015',\n",
       " 'Multiple Counties2016',\n",
       " 'Multiple Counties2017',\n",
       " 'Multiple Counties2018',\n",
       " 'Multiple Counties2019',\n",
       " 'Multiple County2010',\n",
       " 'Multiple County2011',\n",
       " 'Multiple County2012',\n",
       " 'Multiple County2013',\n",
       " 'Multiple County2014',\n",
       " 'Multiple County2015',\n",
       " 'Multiple County2016',\n",
       " 'Multiple County2017',\n",
       " 'Multiple County2018',\n",
       " 'Multiple County2019',\n",
       " 'Napa County2010',\n",
       " 'Napa County2011',\n",
       " 'Napa County2012',\n",
       " 'Napa County2013',\n",
       " 'Napa County2014',\n",
       " 'Napa County2015',\n",
       " 'Napa County2016',\n",
       " 'Napa County2017',\n",
       " 'Napa County2018',\n",
       " 'Napa County2019',\n",
       " 'Orange County2010',\n",
       " 'Orange County2011',\n",
       " 'Orange County2012',\n",
       " 'Orange County2013',\n",
       " 'Orange County2014',\n",
       " 'Orange County2015',\n",
       " 'Orange County2016',\n",
       " 'Orange County2017',\n",
       " 'Orange County2018',\n",
       " 'Orange County2019',\n",
       " 'Placer County2010',\n",
       " 'Placer County2011',\n",
       " 'Placer County2012',\n",
       " 'Placer County2013',\n",
       " 'Placer County2014',\n",
       " 'Placer County2015',\n",
       " 'Placer County2016',\n",
       " 'Placer County2017',\n",
       " 'Placer County2018',\n",
       " 'Placer County2019',\n",
       " 'Riverside County2010',\n",
       " 'Riverside County2011',\n",
       " 'Riverside County2012',\n",
       " 'Riverside County2013',\n",
       " 'Riverside County2014',\n",
       " 'Riverside County2015',\n",
       " 'Riverside County2016',\n",
       " 'Riverside County2017',\n",
       " 'Riverside County2018',\n",
       " 'Riverside County2019',\n",
       " 'Sacramento County2010',\n",
       " 'Sacramento County2011',\n",
       " 'Sacramento County2012',\n",
       " 'Sacramento County2013',\n",
       " 'Sacramento County2014',\n",
       " 'Sacramento County2015',\n",
       " 'Sacramento County2016',\n",
       " 'Sacramento County2017',\n",
       " 'Sacramento County2018',\n",
       " 'Sacramento County2019',\n",
       " 'San Bernardino County2010',\n",
       " 'San Bernardino County2011',\n",
       " 'San Bernardino County2012',\n",
       " 'San Bernardino County2013',\n",
       " 'San Bernardino County2014',\n",
       " 'San Bernardino County2015',\n",
       " 'San Bernardino County2016',\n",
       " 'San Bernardino County2017',\n",
       " 'San Bernardino County2018',\n",
       " 'San Bernardino County2019',\n",
       " 'San Diego County2010',\n",
       " 'San Diego County2011',\n",
       " 'San Diego County2012',\n",
       " 'San Diego County2013',\n",
       " 'San Diego County2014',\n",
       " 'San Diego County2015',\n",
       " 'San Diego County2016',\n",
       " 'San Diego County2017',\n",
       " 'San Diego County2018',\n",
       " 'San Diego County2019',\n",
       " 'San Francisco County2010',\n",
       " 'San Francisco County2011',\n",
       " 'San Francisco County2012',\n",
       " 'San Francisco County2013',\n",
       " 'San Francisco County2014',\n",
       " 'San Francisco County2015',\n",
       " 'San Francisco County2016',\n",
       " 'San Francisco County2017',\n",
       " 'San Francisco County2018',\n",
       " 'San Francisco County2019',\n",
       " 'San Joaquin County2010',\n",
       " 'San Joaquin County2011',\n",
       " 'San Joaquin County2012',\n",
       " 'San Joaquin County2013',\n",
       " 'San Joaquin County2014',\n",
       " 'San Joaquin County2015',\n",
       " 'San Joaquin County2016',\n",
       " 'San Joaquin County2017',\n",
       " 'San Joaquin County2018',\n",
       " 'San Joaquin County2019',\n",
       " 'San Luis Obispo County2010',\n",
       " 'San Luis Obispo County2011',\n",
       " 'San Luis Obispo County2012',\n",
       " 'San Luis Obispo County2013',\n",
       " 'San Luis Obispo County2014',\n",
       " 'San Luis Obispo County2015',\n",
       " 'San Luis Obispo County2016',\n",
       " 'San Luis Obispo County2017',\n",
       " 'San Luis Obispo County2018',\n",
       " 'San Luis Obispo County2019',\n",
       " 'San Mateo County2010',\n",
       " 'San Mateo County2011',\n",
       " 'San Mateo County2012',\n",
       " 'San Mateo County2013',\n",
       " 'San Mateo County2014',\n",
       " 'San Mateo County2015',\n",
       " 'San Mateo County2016',\n",
       " 'San Mateo County2017',\n",
       " 'San Mateo County2018',\n",
       " 'San Mateo County2019',\n",
       " 'Santa Barbara County2010',\n",
       " 'Santa Barbara County2011',\n",
       " 'Santa Barbara County2012',\n",
       " 'Santa Barbara County2013',\n",
       " 'Santa Barbara County2014',\n",
       " 'Santa Barbara County2015',\n",
       " 'Santa Barbara County2016',\n",
       " 'Santa Barbara County2017',\n",
       " 'Santa Barbara County2018',\n",
       " 'Santa Barbara County2019',\n",
       " 'Santa Clara County2010',\n",
       " 'Santa Clara County2011',\n",
       " 'Santa Clara County2012',\n",
       " 'Santa Clara County2013',\n",
       " 'Santa Clara County2014',\n",
       " 'Santa Clara County2015',\n",
       " 'Santa Clara County2016',\n",
       " 'Santa Clara County2017',\n",
       " 'Santa Clara County2018',\n",
       " 'Santa Clara County2019',\n",
       " 'Santa Cruz County2010',\n",
       " 'Santa Cruz County2011',\n",
       " 'Santa Cruz County2012',\n",
       " 'Santa Cruz County2013',\n",
       " 'Santa Cruz County2014',\n",
       " 'Santa Cruz County2015',\n",
       " 'Santa Cruz County2016',\n",
       " 'Santa Cruz County2017',\n",
       " 'Santa Cruz County2018',\n",
       " 'Santa Cruz County2019',\n",
       " 'Shasta County2010',\n",
       " 'Shasta County2011',\n",
       " 'Shasta County2012',\n",
       " 'Shasta County2013',\n",
       " 'Shasta County2014',\n",
       " 'Shasta County2015',\n",
       " 'Shasta County2016',\n",
       " 'Shasta County2017',\n",
       " 'Shasta County2018',\n",
       " 'Shasta County2019',\n",
       " 'Solano County2010',\n",
       " 'Solano County2011',\n",
       " 'Solano County2012',\n",
       " 'Solano County2013',\n",
       " 'Solano County2014',\n",
       " 'Solano County2015',\n",
       " 'Solano County2016',\n",
       " 'Solano County2017',\n",
       " 'Solano County2018',\n",
       " 'Solano County2019',\n",
       " 'Sonoma County2010',\n",
       " 'Sonoma County2011',\n",
       " 'Sonoma County2012',\n",
       " 'Sonoma County2013',\n",
       " 'Sonoma County2014',\n",
       " 'Sonoma County2015',\n",
       " 'Sonoma County2016',\n",
       " 'Sonoma County2017',\n",
       " 'Sonoma County2018',\n",
       " 'Sonoma County2019',\n",
       " 'Stanislaus County2010',\n",
       " 'Stanislaus County2011',\n",
       " 'Stanislaus County2012',\n",
       " 'Stanislaus County2013',\n",
       " 'Stanislaus County2014',\n",
       " 'Stanislaus County2015',\n",
       " 'Stanislaus County2016',\n",
       " 'Stanislaus County2017',\n",
       " 'Stanislaus County2018',\n",
       " 'Stanislaus County2019',\n",
       " 'Tulare County2010',\n",
       " 'Tulare County2011',\n",
       " 'Tulare County2012',\n",
       " 'Tulare County2013',\n",
       " 'Tulare County2014',\n",
       " 'Tulare County2015',\n",
       " 'Tulare County2016',\n",
       " 'Tulare County2017',\n",
       " 'Tulare County2018',\n",
       " 'Tulare County2019',\n",
       " 'Ventura County2010',\n",
       " 'Ventura County2011',\n",
       " 'Ventura County2012',\n",
       " 'Ventura County2013',\n",
       " 'Ventura County2014',\n",
       " 'Ventura County2015',\n",
       " 'Ventura County2016',\n",
       " 'Ventura County2017',\n",
       " 'Ventura County2018',\n",
       " 'Ventura County2019',\n",
       " 'Yolo County2010',\n",
       " 'Yolo County2011',\n",
       " 'Yolo County2012',\n",
       " 'Yolo County2013',\n",
       " 'Yolo County2014',\n",
       " 'Yolo County2015',\n",
       " 'Yolo County2016',\n",
       " 'Yolo County2017',\n",
       " 'Yolo County2018',\n",
       " 'Yolo County2019'}"
      ]
     },
     "execution_count": 27,
     "metadata": {},
     "output_type": "execute_result"
    }
   ],
   "source": [
    "set(df.key).union(set(pums_ca.key))"
   ]
  },
  {
   "cell_type": "code",
   "execution_count": 28,
   "metadata": {},
   "outputs": [],
   "source": [
    "pums_ca_count = pums_ca.groupby([\"County\",\"year\"]).count().reset_index()"
   ]
  },
  {
   "cell_type": "code",
   "execution_count": 29,
   "metadata": {},
   "outputs": [
    {
     "data": {
      "text/html": [
       "<div>\n",
       "<style scoped>\n",
       "    .dataframe tbody tr th:only-of-type {\n",
       "        vertical-align: middle;\n",
       "    }\n",
       "\n",
       "    .dataframe tbody tr th {\n",
       "        vertical-align: top;\n",
       "    }\n",
       "\n",
       "    .dataframe thead th {\n",
       "        text-align: right;\n",
       "    }\n",
       "</style>\n",
       "<table border=\"1\" class=\"dataframe\">\n",
       "  <thead>\n",
       "    <tr style=\"text-align: right;\">\n",
       "      <th></th>\n",
       "      <th>County</th>\n",
       "      <th>year</th>\n",
       "      <th>hh_income</th>\n",
       "      <th>ppl_in_hh</th>\n",
       "      <th>PUMA</th>\n",
       "      <th>key</th>\n",
       "    </tr>\n",
       "  </thead>\n",
       "  <tbody>\n",
       "    <tr>\n",
       "      <th>0</th>\n",
       "      <td>Alameda County</td>\n",
       "      <td>2010</td>\n",
       "      <td>11893</td>\n",
       "      <td>11893</td>\n",
       "      <td>11893</td>\n",
       "      <td>11893</td>\n",
       "    </tr>\n",
       "    <tr>\n",
       "      <th>1</th>\n",
       "      <td>Alameda County</td>\n",
       "      <td>2011</td>\n",
       "      <td>11996</td>\n",
       "      <td>11996</td>\n",
       "      <td>11996</td>\n",
       "      <td>11996</td>\n",
       "    </tr>\n",
       "    <tr>\n",
       "      <th>2</th>\n",
       "      <td>Alameda County</td>\n",
       "      <td>2012</td>\n",
       "      <td>5825</td>\n",
       "      <td>5825</td>\n",
       "      <td>5825</td>\n",
       "      <td>5825</td>\n",
       "    </tr>\n",
       "    <tr>\n",
       "      <th>3</th>\n",
       "      <td>Alameda County</td>\n",
       "      <td>2013</td>\n",
       "      <td>6032</td>\n",
       "      <td>6032</td>\n",
       "      <td>6032</td>\n",
       "      <td>6032</td>\n",
       "    </tr>\n",
       "    <tr>\n",
       "      <th>4</th>\n",
       "      <td>Alameda County</td>\n",
       "      <td>2014</td>\n",
       "      <td>6056</td>\n",
       "      <td>6056</td>\n",
       "      <td>6056</td>\n",
       "      <td>6056</td>\n",
       "    </tr>\n",
       "  </tbody>\n",
       "</table>\n",
       "</div>"
      ],
      "text/plain": [
       "           County  year  hh_income  ppl_in_hh   PUMA    key\n",
       "0  Alameda County  2010      11893      11893  11893  11893\n",
       "1  Alameda County  2011      11996      11996  11996  11996\n",
       "2  Alameda County  2012       5825       5825   5825   5825\n",
       "3  Alameda County  2013       6032       6032   6032   6032\n",
       "4  Alameda County  2014       6056       6056   6056   6056"
      ]
     },
     "execution_count": 29,
     "metadata": {},
     "output_type": "execute_result"
    }
   ],
   "source": [
    "pums_ca_count.head()"
   ]
  },
  {
   "cell_type": "code",
   "execution_count": 30,
   "metadata": {},
   "outputs": [
    {
     "data": {
      "text/plain": [
       "Kings County              10\n",
       "Yolo County               10\n",
       "Monterey County           10\n",
       "Contra Costa County       10\n",
       "Marin County              10\n",
       "Sacramento County         10\n",
       "Sonoma County             10\n",
       "Orange County             10\n",
       "Riverside County          10\n",
       "Los Angeles County        10\n",
       "San Diego County          10\n",
       "San Joaquin County        10\n",
       "El Dorado County          10\n",
       "Shasta County             10\n",
       "San Mateo County          10\n",
       "Alameda County            10\n",
       "Imperial County           10\n",
       "Humboldt County           10\n",
       "Stanislaus County         10\n",
       "Napa County               10\n",
       "San Francisco County      10\n",
       "San Luis Obispo County    10\n",
       "Multiple County           10\n",
       "Butte County              10\n",
       "San Bernardino County     10\n",
       "Kern County               10\n",
       "Ventura County            10\n",
       "Merced County             10\n",
       "Fresno County             10\n",
       "Placer County             10\n",
       "Santa Cruz County         10\n",
       "Santa Barbara County      10\n",
       "Madera County             10\n",
       "Tulare County             10\n",
       "Solano County             10\n",
       "Santa Clara County        10\n",
       "Name: County, dtype: int64"
      ]
     },
     "execution_count": 30,
     "metadata": {},
     "output_type": "execute_result"
    }
   ],
   "source": [
    "#confirm, we have values for all 10 years for all counties \n",
    "pums_ca_count.County.value_counts()"
   ]
  },
  {
   "cell_type": "code",
   "execution_count": 31,
   "metadata": {},
   "outputs": [
    {
     "data": {
      "text/plain": [
       "50400.00    204751\n",
       "51200.00    177118\n",
       "58480.00     68704\n",
       "52000.00     64868\n",
       "50000.00     59172\n",
       "             ...  \n",
       "34400.00       401\n",
       "44160.00       400\n",
       "36640.00       396\n",
       "37520.00       383\n",
       "41040.00       370\n",
       "Name: 80%_AMI, Length: 222, dtype: int64"
      ]
     },
     "execution_count": 31,
     "metadata": {},
     "output_type": "execute_result"
    }
   ],
   "source": [
    "df_merged[\"80%_AMI\"].value_counts()"
   ]
  },
  {
   "cell_type": "code",
   "execution_count": 32,
   "metadata": {},
   "outputs": [],
   "source": [
    "# do some column clean up \n",
    "df_merged = df_merged.drop(columns={\"year_x\"})\n",
    "df_merged = df_merged.rename(columns={\"year_y\":\"year\"})"
   ]
  },
  {
   "cell_type": "code",
   "execution_count": 33,
   "metadata": {},
   "outputs": [],
   "source": [
    "#create AMI percentages from median number \n",
    "df_merged[\"80%_AMI\"] = df_merged[\"median\"] * 0.8\n",
    "df_merged[\"120%_AMI\"] = df_merged[\"median\"] * 1.2"
   ]
  },
  {
   "cell_type": "code",
   "execution_count": 34,
   "metadata": {},
   "outputs": [],
   "source": [
    "family_size_dict = {1:.7,\n",
    "                   2:.8,\n",
    "                   3:.9,\n",
    "                   4:1,\n",
    "                    5:1.08,\n",
    "                    6:1.16,\n",
    "                    7:1.24,\n",
    "                    8:1.32,\n",
    "                   9:1.40,\n",
    "                   10:1.48,\n",
    "                   11:1.56,\n",
    "                   12:1.64,\n",
    "                   13:1.72,\n",
    "                   14:1.80,\n",
    "                   15:1.88,\n",
    "                   16:1.96,\n",
    "                   17:2.04,\n",
    "                   18:2.12,\n",
    "                   19:2.20,\n",
    "                   20:2.28}\n",
    "#make new column of the AMI multiplier based on each households family size \n",
    "df_merged[\"family_size_multiplier\"] = df_merged[\"ppl_in_hh\"].map(family_size_dict)"
   ]
  },
  {
   "cell_type": "code",
   "execution_count": 35,
   "metadata": {},
   "outputs": [],
   "source": [
    "#adjust ami bands for each household based on household size \n",
    "df_merged[\"80%_AMI_adjusted\"] = df_merged[\"80%_AMI\"] * df_merged[\"family_size_multiplier\"]\n",
    "df_merged[\"120%_AMI_adjusted\"] = df_merged[\"120%_AMI\"] * df_merged[\"family_size_multiplier\"]"
   ]
  },
  {
   "cell_type": "code",
   "execution_count": 36,
   "metadata": {},
   "outputs": [],
   "source": [
    "#want to label households in dataset that are middle income \n",
    "df_merged['middle_income_HH'] = np.where((df_merged[\"hh_income\"] >= df_merged[\"80%_AMI_adjusted\"])&(df_merged[\"hh_income\"] <= df_merged[\"120%_AMI_adjusted\"]), 1, 0)"
   ]
  },
  {
   "cell_type": "code",
   "execution_count": 37,
   "metadata": {},
   "outputs": [],
   "source": [
    "middle_income = df_merged[df_merged['middle_income_HH'] ==1]"
   ]
  },
  {
   "cell_type": "code",
   "execution_count": 38,
   "metadata": {},
   "outputs": [
    {
     "data": {
      "text/plain": [
       "0.16943492214430048"
      ]
     },
     "execution_count": 38,
     "metadata": {},
     "output_type": "execute_result"
    }
   ],
   "source": [
    "# 17.2 percent of households in our dataset fall into this middle income category\n",
    "len(middle_income)/len(df_merged) "
   ]
  },
  {
   "cell_type": "code",
   "execution_count": 39,
   "metadata": {},
   "outputs": [],
   "source": [
    "#here i want to sum middle income houses for each year and county combo and then also get a total count for each \n",
    "#year and county combo, and make a small data frame with just this information. \n",
    "#then can calculate percentage of Middle income renters in each year and county through simple divison \n",
    "mid_income_count = df_merged.groupby([\"year\",\"County_Name\"]).sum().reset_index()[[\"year\",\"County_Name\",\"middle_income_HH\"]]\n",
    "total_income_count = df_merged.groupby([\"year\",\"County_Name\"]).count().reset_index()[[\"year\",\"County_Name\",\"middle_income_HH\"]]\n",
    "mid_income_count_percentage = mid_income_count.merge(total_income_count,on=[\"year\",\"County_Name\"])\n",
    "mid_income_count_percentage = mid_income_count_percentage.rename(columns={\"middle_income_HH_x\":\"middle_income_HH\",\"middle_income_HH_y\":\"total\"})\n",
    "mid_income_count_percentage[\"Middle Income Renter Percentage\"] = mid_income_count_percentage[\"middle_income_HH\"] /mid_income_count_percentage[\"total\"]"
   ]
  },
  {
   "cell_type": "code",
   "execution_count": 40,
   "metadata": {},
   "outputs": [
    {
     "data": {
      "text/plain": [
       "count   350.00\n",
       "mean      0.18\n",
       "std       0.02\n",
       "min       0.13\n",
       "25%       0.17\n",
       "50%       0.18\n",
       "75%       0.19\n",
       "max       0.24\n",
       "Name: Middle Income Renter Percentage, dtype: float64"
      ]
     },
     "execution_count": 40,
     "metadata": {},
     "output_type": "execute_result"
    }
   ],
   "source": [
    "mid_income_count_percentage[\"Middle Income Renter Percentage\"].describe()"
   ]
  },
  {
   "cell_type": "code",
   "execution_count": 41,
   "metadata": {},
   "outputs": [
    {
     "data": {
      "text/plain": [
       "array(['Alameda County', 'Butte County', 'Contra Costa County',\n",
       "       'El Dorado County', 'Fresno County', 'Humboldt County',\n",
       "       'Imperial County', 'Kern County', 'Kings County',\n",
       "       'Los Angeles County', 'Madera County', 'Marin County',\n",
       "       'Merced County', 'Monterey County', 'Napa County', 'Orange County',\n",
       "       'Placer County', 'Riverside County', 'Sacramento County',\n",
       "       'San Bernardino County', 'San Diego County',\n",
       "       'San Francisco County', 'San Joaquin County',\n",
       "       'San Luis Obispo County', 'San Mateo County',\n",
       "       'Santa Barbara County', 'Santa Clara County', 'Santa Cruz County',\n",
       "       'Shasta County', 'Solano County', 'Sonoma County',\n",
       "       'Stanislaus County', 'Tulare County', 'Ventura County',\n",
       "       'Yolo County'], dtype=object)"
      ]
     },
     "execution_count": 41,
     "metadata": {},
     "output_type": "execute_result"
    }
   ],
   "source": [
    "mid_income_count_percentage.County_Name.unique()"
   ]
  },
  {
   "cell_type": "code",
   "execution_count": 42,
   "metadata": {},
   "outputs": [],
   "source": [
    "bay_area_counties = [\"Alameda County\",\n",
    "\"Contra Costa County\",\n",
    "\"Marin County\",\n",
    "\"Napa County\",\n",
    "\"San Francisco County\",\n",
    "\"San Mateo County\",\n",
    "\"Santa Clara County\",\n",
    "\"Solano County\",\n",
    "\"Sonoma County\"]\n",
    "bay_area = mid_income_count_percentage[mid_income_count_percentage.County_Name.isin(bay_area_counties)]\n",
    "\n",
    "#df = df[df['CSA'].isin(csa_filter)]"
   ]
  },
  {
   "cell_type": "code",
   "execution_count": 43,
   "metadata": {},
   "outputs": [
    {
     "name": "stderr",
     "output_type": "stream",
     "text": [
      "/Users/quinnunderriner/anaconda3/lib/python3.7/site-packages/ipykernel_launcher.py:1: SettingWithCopyWarning: \n",
      "A value is trying to be set on a copy of a slice from a DataFrame.\n",
      "Try using .loc[row_indexer,col_indexer] = value instead\n",
      "\n",
      "See the caveats in the documentation: https://pandas.pydata.org/pandas-docs/stable/user_guide/indexing.html#returning-a-view-versus-a-copy\n",
      "  \"\"\"Entry point for launching an IPython kernel.\n"
     ]
    }
   ],
   "source": [
    "bay_area[\"key\"] = bay_area[\"year\"].astype(str) + bay_area[\"County_Name\"]"
   ]
  },
  {
   "cell_type": "code",
   "execution_count": null,
   "metadata": {},
   "outputs": [],
   "source": []
  },
  {
   "cell_type": "code",
   "execution_count": 44,
   "metadata": {},
   "outputs": [
    {
     "data": {
      "text/html": [
       "\n",
       "<div id=\"altair-viz-4b0cee8aad4e402a85c677d1550626c9\"></div>\n",
       "<script type=\"text/javascript\">\n",
       "  (function(spec, embedOpt){\n",
       "    const outputDiv = document.getElementById(\"altair-viz-4b0cee8aad4e402a85c677d1550626c9\");\n",
       "    const paths = {\n",
       "      \"vega\": \"https://cdn.jsdelivr.net/npm//vega@5?noext\",\n",
       "      \"vega-lib\": \"https://cdn.jsdelivr.net/npm//vega-lib?noext\",\n",
       "      \"vega-lite\": \"https://cdn.jsdelivr.net/npm//vega-lite@4.0.2?noext\",\n",
       "      \"vega-embed\": \"https://cdn.jsdelivr.net/npm//vega-embed@6?noext\",\n",
       "    };\n",
       "\n",
       "    function loadScript(lib) {\n",
       "      return new Promise(function(resolve, reject) {\n",
       "        var s = document.createElement('script');\n",
       "        s.src = paths[lib];\n",
       "        s.async = true;\n",
       "        s.onload = () => resolve(paths[lib]);\n",
       "        s.onerror = () => reject(`Error loading script: ${paths[lib]}`);\n",
       "        document.getElementsByTagName(\"head\")[0].appendChild(s);\n",
       "      });\n",
       "    }\n",
       "\n",
       "    function showError(err) {\n",
       "      outputDiv.innerHTML = `<div class=\"error\" style=\"color:red;\">${err}</div>`;\n",
       "      throw err;\n",
       "    }\n",
       "\n",
       "    function displayChart(vegaEmbed) {\n",
       "      vegaEmbed(outputDiv, spec, embedOpt)\n",
       "        .catch(err => showError(`Javascript Error: ${err.message}<br>This usually means there's a typo in your chart specification. See the javascript console for the full traceback.`));\n",
       "    }\n",
       "\n",
       "    if(typeof define === \"function\" && define.amd) {\n",
       "      requirejs.config({paths});\n",
       "      require([\"vega-embed\"], displayChart, err => showError(`Error loading script: ${err.message}`));\n",
       "    } else if (typeof vegaEmbed === \"function\") {\n",
       "      displayChart(vegaEmbed);\n",
       "    } else {\n",
       "      loadScript(\"vega\")\n",
       "        .then(() => loadScript(\"vega-lite\"))\n",
       "        .then(() => loadScript(\"vega-embed\"))\n",
       "        .catch(showError)\n",
       "        .then(() => displayChart(vegaEmbed));\n",
       "    }\n",
       "  })({\"config\": {\"view\": {\"continuousWidth\": 400, \"continuousHeight\": 300}}, \"data\": {\"name\": \"data-ff0b80a964ca11f47613b3fe672cfd0e\"}, \"mark\": \"line\", \"encoding\": {\"color\": {\"type\": \"nominal\", \"field\": \"County_Name\"}, \"x\": {\"type\": \"nominal\", \"field\": \"year\"}, \"y\": {\"type\": \"quantitative\", \"field\": \"Middle Income Renter Percentage\"}}, \"$schema\": \"https://vega.github.io/schema/vega-lite/v4.0.2.json\", \"datasets\": {\"data-ff0b80a964ca11f47613b3fe672cfd0e\": [{\"year\": \"2010\", \"County_Name\": \"Alameda County\", \"middle_income_HH\": 2140, \"total\": 11893, \"Middle Income Renter Percentage\": 0.1799377785251829, \"key\": \"2010Alameda County\"}, {\"year\": \"2010\", \"County_Name\": \"Contra Costa County\", \"middle_income_HH\": 2512, \"total\": 12623, \"Middle Income Renter Percentage\": 0.1990018220708231, \"key\": \"2010Contra Costa County\"}, {\"year\": \"2010\", \"County_Name\": \"Marin County\", \"middle_income_HH\": 296, \"total\": 2120, \"Middle Income Renter Percentage\": 0.13962264150943396, \"key\": \"2010Marin County\"}, {\"year\": \"2010\", \"County_Name\": \"Napa County\", \"middle_income_HH\": 142, \"total\": 866, \"Middle Income Renter Percentage\": 0.16397228637413394, \"key\": \"2010Napa County\"}, {\"year\": \"2010\", \"County_Name\": \"San Francisco County\", \"middle_income_HH\": 843, \"total\": 5113, \"Middle Income Renter Percentage\": 0.1648738509681205, \"key\": \"2010San Francisco County\"}, {\"year\": \"2010\", \"County_Name\": \"San Mateo County\", \"middle_income_HH\": 2023, \"total\": 10313, \"Middle Income Renter Percentage\": 0.19616018617279163, \"key\": \"2010San Mateo County\"}, {\"year\": \"2010\", \"County_Name\": \"Santa Clara County\", \"middle_income_HH\": 3005, \"total\": 16343, \"Middle Income Renter Percentage\": 0.18387077036039895, \"key\": \"2010Santa Clara County\"}, {\"year\": \"2010\", \"County_Name\": \"Solano County\", \"middle_income_HH\": 341, \"total\": 1437, \"Middle Income Renter Percentage\": 0.2372999304105776, \"key\": \"2010Solano County\"}, {\"year\": \"2010\", \"County_Name\": \"Sonoma County\", \"middle_income_HH\": 400, \"total\": 1966, \"Middle Income Renter Percentage\": 0.2034587995930824, \"key\": \"2010Sonoma County\"}, {\"year\": \"2011\", \"County_Name\": \"Alameda County\", \"middle_income_HH\": 2147, \"total\": 11996, \"Middle Income Renter Percentage\": 0.17897632544181394, \"key\": \"2011Alameda County\"}, {\"year\": \"2011\", \"County_Name\": \"Contra Costa County\", \"middle_income_HH\": 2202, \"total\": 11787, \"Middle Income Renter Percentage\": 0.1868159837108679, \"key\": \"2011Contra Costa County\"}, {\"year\": \"2011\", \"County_Name\": \"Marin County\", \"middle_income_HH\": 312, \"total\": 1932, \"Middle Income Renter Percentage\": 0.16149068322981366, \"key\": \"2011Marin County\"}, {\"year\": \"2011\", \"County_Name\": \"Napa County\", \"middle_income_HH\": 162, \"total\": 888, \"Middle Income Renter Percentage\": 0.18243243243243243, \"key\": \"2011Napa County\"}, {\"year\": \"2011\", \"County_Name\": \"San Francisco County\", \"middle_income_HH\": 855, \"total\": 5153, \"Middle Income Renter Percentage\": 0.16592276343877352, \"key\": \"2011San Francisco County\"}, {\"year\": \"2011\", \"County_Name\": \"San Mateo County\", \"middle_income_HH\": 1993, \"total\": 10866, \"Middle Income Renter Percentage\": 0.18341616050064422, \"key\": \"2011San Mateo County\"}, {\"year\": \"2011\", \"County_Name\": \"Santa Clara County\", \"middle_income_HH\": 3042, \"total\": 16425, \"Middle Income Renter Percentage\": 0.1852054794520548, \"key\": \"2011Santa Clara County\"}, {\"year\": \"2011\", \"County_Name\": \"Solano County\", \"middle_income_HH\": 283, \"total\": 1373, \"Middle Income Renter Percentage\": 0.20611798980335033, \"key\": \"2011Solano County\"}, {\"year\": \"2011\", \"County_Name\": \"Sonoma County\", \"middle_income_HH\": 352, \"total\": 1849, \"Middle Income Renter Percentage\": 0.1903731746890211, \"key\": \"2011Sonoma County\"}, {\"year\": \"2012\", \"County_Name\": \"Alameda County\", \"middle_income_HH\": 1000, \"total\": 5825, \"Middle Income Renter Percentage\": 0.17167381974248927, \"key\": \"2012Alameda County\"}, {\"year\": \"2012\", \"County_Name\": \"Contra Costa County\", \"middle_income_HH\": 623, \"total\": 3532, \"Middle Income Renter Percentage\": 0.1763873159682899, \"key\": \"2012Contra Costa County\"}, {\"year\": \"2012\", \"County_Name\": \"Marin County\", \"middle_income_HH\": 151, \"total\": 953, \"Middle Income Renter Percentage\": 0.1584470094438615, \"key\": \"2012Marin County\"}, {\"year\": \"2012\", \"County_Name\": \"Napa County\", \"middle_income_HH\": 140, \"total\": 658, \"Middle Income Renter Percentage\": 0.2127659574468085, \"key\": \"2012Napa County\"}, {\"year\": \"2012\", \"County_Name\": \"San Francisco County\", \"middle_income_HH\": 498, \"total\": 3158, \"Middle Income Renter Percentage\": 0.15769474350854973, \"key\": \"2012San Francisco County\"}, {\"year\": \"2012\", \"County_Name\": \"San Mateo County\", \"middle_income_HH\": 522, \"total\": 2688, \"Middle Income Renter Percentage\": 0.19419642857142858, \"key\": \"2012San Mateo County\"}, {\"year\": \"2012\", \"County_Name\": \"Santa Clara County\", \"middle_income_HH\": 1153, \"total\": 6318, \"Middle Income Renter Percentage\": 0.18249446027223806, \"key\": \"2012Santa Clara County\"}, {\"year\": \"2012\", \"County_Name\": \"Solano County\", \"middle_income_HH\": 297, \"total\": 1449, \"Middle Income Renter Percentage\": 0.20496894409937888, \"key\": \"2012Solano County\"}, {\"year\": \"2012\", \"County_Name\": \"Sonoma County\", \"middle_income_HH\": 372, \"total\": 1908, \"Middle Income Renter Percentage\": 0.1949685534591195, \"key\": \"2012Sonoma County\"}, {\"year\": \"2013\", \"County_Name\": \"Alameda County\", \"middle_income_HH\": 1055, \"total\": 6032, \"Middle Income Renter Percentage\": 0.17490053050397877, \"key\": \"2013Alameda County\"}, {\"year\": \"2013\", \"County_Name\": \"Contra Costa County\", \"middle_income_HH\": 629, \"total\": 3643, \"Middle Income Renter Percentage\": 0.17265989569036508, \"key\": \"2013Contra Costa County\"}, {\"year\": \"2013\", \"County_Name\": \"Marin County\", \"middle_income_HH\": 170, \"total\": 975, \"Middle Income Renter Percentage\": 0.17435897435897435, \"key\": \"2013Marin County\"}, {\"year\": \"2013\", \"County_Name\": \"Napa County\", \"middle_income_HH\": 138, \"total\": 659, \"Middle Income Renter Percentage\": 0.2094081942336874, \"key\": \"2013Napa County\"}, {\"year\": \"2013\", \"County_Name\": \"San Francisco County\", \"middle_income_HH\": 528, \"total\": 3306, \"Middle Income Renter Percentage\": 0.15970961887477314, \"key\": \"2013San Francisco County\"}, {\"year\": \"2013\", \"County_Name\": \"San Mateo County\", \"middle_income_HH\": 494, \"total\": 2729, \"Middle Income Renter Percentage\": 0.1810186881641627, \"key\": \"2013San Mateo County\"}, {\"year\": \"2013\", \"County_Name\": \"Santa Clara County\", \"middle_income_HH\": 1132, \"total\": 6567, \"Middle Income Renter Percentage\": 0.17237703669864474, \"key\": \"2013Santa Clara County\"}, {\"year\": \"2013\", \"County_Name\": \"Solano County\", \"middle_income_HH\": 309, \"total\": 1505, \"Middle Income Renter Percentage\": 0.2053156146179402, \"key\": \"2013Solano County\"}, {\"year\": \"2013\", \"County_Name\": \"Sonoma County\", \"middle_income_HH\": 384, \"total\": 1912, \"Middle Income Renter Percentage\": 0.200836820083682, \"key\": \"2013Sonoma County\"}, {\"year\": \"2014\", \"County_Name\": \"Alameda County\", \"middle_income_HH\": 1075, \"total\": 6056, \"Middle Income Renter Percentage\": 0.1775099075297226, \"key\": \"2014Alameda County\"}, {\"year\": \"2014\", \"County_Name\": \"Contra Costa County\", \"middle_income_HH\": 670, \"total\": 3633, \"Middle Income Renter Percentage\": 0.1844205890448665, \"key\": \"2014Contra Costa County\"}, {\"year\": \"2014\", \"County_Name\": \"Marin County\", \"middle_income_HH\": 162, \"total\": 975, \"Middle Income Renter Percentage\": 0.16615384615384615, \"key\": \"2014Marin County\"}, {\"year\": \"2014\", \"County_Name\": \"Napa County\", \"middle_income_HH\": 112, \"total\": 658, \"Middle Income Renter Percentage\": 0.1702127659574468, \"key\": \"2014Napa County\"}, {\"year\": \"2014\", \"County_Name\": \"San Francisco County\", \"middle_income_HH\": 509, \"total\": 3296, \"Middle Income Renter Percentage\": 0.15442961165048544, \"key\": \"2014San Francisco County\"}, {\"year\": \"2014\", \"County_Name\": \"San Mateo County\", \"middle_income_HH\": 425, \"total\": 2697, \"Middle Income Renter Percentage\": 0.1575824990730441, \"key\": \"2014San Mateo County\"}, {\"year\": \"2014\", \"County_Name\": \"Santa Clara County\", \"middle_income_HH\": 1156, \"total\": 6512, \"Middle Income Renter Percentage\": 0.17751842751842753, \"key\": \"2014Santa Clara County\"}, {\"year\": \"2014\", \"County_Name\": \"Solano County\", \"middle_income_HH\": 320, \"total\": 1499, \"Middle Income Renter Percentage\": 0.2134756504336224, \"key\": \"2014Solano County\"}, {\"year\": \"2014\", \"County_Name\": \"Sonoma County\", \"middle_income_HH\": 347, \"total\": 1916, \"Middle Income Renter Percentage\": 0.18110647181628392, \"key\": \"2014Sonoma County\"}, {\"year\": \"2015\", \"County_Name\": \"Alameda County\", \"middle_income_HH\": 1053, \"total\": 6198, \"Middle Income Renter Percentage\": 0.16989351403678607, \"key\": \"2015Alameda County\"}, {\"year\": \"2015\", \"County_Name\": \"Contra Costa County\", \"middle_income_HH\": 679, \"total\": 3623, \"Middle Income Renter Percentage\": 0.18741374551476678, \"key\": \"2015Contra Costa County\"}, {\"year\": \"2015\", \"County_Name\": \"Marin County\", \"middle_income_HH\": 158, \"total\": 983, \"Middle Income Renter Percentage\": 0.1607324516785351, \"key\": \"2015Marin County\"}, {\"year\": \"2015\", \"County_Name\": \"Napa County\", \"middle_income_HH\": 121, \"total\": 675, \"Middle Income Renter Percentage\": 0.17925925925925926, \"key\": \"2015Napa County\"}, {\"year\": \"2015\", \"County_Name\": \"San Francisco County\", \"middle_income_HH\": 504, \"total\": 3304, \"Middle Income Renter Percentage\": 0.15254237288135594, \"key\": \"2015San Francisco County\"}, {\"year\": \"2015\", \"County_Name\": \"San Mateo County\", \"middle_income_HH\": 489, \"total\": 2783, \"Middle Income Renter Percentage\": 0.1757096658282429, \"key\": \"2015San Mateo County\"}, {\"year\": \"2015\", \"County_Name\": \"Santa Clara County\", \"middle_income_HH\": 1099, \"total\": 6550, \"Middle Income Renter Percentage\": 0.16778625954198473, \"key\": \"2015Santa Clara County\"}, {\"year\": \"2015\", \"County_Name\": \"Solano County\", \"middle_income_HH\": 283, \"total\": 1517, \"Middle Income Renter Percentage\": 0.1865524060646012, \"key\": \"2015Solano County\"}, {\"year\": \"2015\", \"County_Name\": \"Sonoma County\", \"middle_income_HH\": 384, \"total\": 1944, \"Middle Income Renter Percentage\": 0.19753086419753085, \"key\": \"2015Sonoma County\"}, {\"year\": \"2016\", \"County_Name\": \"Alameda County\", \"middle_income_HH\": 1045, \"total\": 6191, \"Middle Income Renter Percentage\": 0.16879340978840252, \"key\": \"2016Alameda County\"}, {\"year\": \"2016\", \"County_Name\": \"Contra Costa County\", \"middle_income_HH\": 667, \"total\": 3659, \"Middle Income Renter Percentage\": 0.1822902432358568, \"key\": \"2016Contra Costa County\"}, {\"year\": \"2016\", \"County_Name\": \"Marin County\", \"middle_income_HH\": 148, \"total\": 982, \"Middle Income Renter Percentage\": 0.15071283095723015, \"key\": \"2016Marin County\"}, {\"year\": \"2016\", \"County_Name\": \"Napa County\", \"middle_income_HH\": 112, \"total\": 656, \"Middle Income Renter Percentage\": 0.17073170731707318, \"key\": \"2016Napa County\"}, {\"year\": \"2016\", \"County_Name\": \"San Francisco County\", \"middle_income_HH\": 491, \"total\": 3351, \"Middle Income Renter Percentage\": 0.14652342584303193, \"key\": \"2016San Francisco County\"}, {\"year\": \"2016\", \"County_Name\": \"San Mateo County\", \"middle_income_HH\": 458, \"total\": 2801, \"Middle Income Renter Percentage\": 0.1635130310603356, \"key\": \"2016San Mateo County\"}, {\"year\": \"2016\", \"County_Name\": \"Santa Clara County\", \"middle_income_HH\": 1118, \"total\": 6650, \"Middle Income Renter Percentage\": 0.1681203007518797, \"key\": \"2016Santa Clara County\"}, {\"year\": \"2016\", \"County_Name\": \"Solano County\", \"middle_income_HH\": 282, \"total\": 1509, \"Middle Income Renter Percentage\": 0.18687872763419483, \"key\": \"2016Solano County\"}, {\"year\": \"2016\", \"County_Name\": \"Sonoma County\", \"middle_income_HH\": 359, \"total\": 1938, \"Middle Income Renter Percentage\": 0.18524251805985553, \"key\": \"2016Sonoma County\"}, {\"year\": \"2017\", \"County_Name\": \"Alameda County\", \"middle_income_HH\": 1054, \"total\": 6253, \"Middle Income Renter Percentage\": 0.1685590916360147, \"key\": \"2017Alameda County\"}, {\"year\": \"2017\", \"County_Name\": \"Contra Costa County\", \"middle_income_HH\": 663, \"total\": 3691, \"Middle Income Renter Percentage\": 0.17962611758331076, \"key\": \"2017Contra Costa County\"}, {\"year\": \"2017\", \"County_Name\": \"Marin County\", \"middle_income_HH\": 142, \"total\": 977, \"Middle Income Renter Percentage\": 0.14534288638689866, \"key\": \"2017Marin County\"}, {\"year\": \"2017\", \"County_Name\": \"Napa County\", \"middle_income_HH\": 124, \"total\": 655, \"Middle Income Renter Percentage\": 0.18931297709923664, \"key\": \"2017Napa County\"}, {\"year\": \"2017\", \"County_Name\": \"San Francisco County\", \"middle_income_HH\": 497, \"total\": 3370, \"Middle Income Renter Percentage\": 0.14747774480712167, \"key\": \"2017San Francisco County\"}, {\"year\": \"2017\", \"County_Name\": \"San Mateo County\", \"middle_income_HH\": 502, \"total\": 2820, \"Middle Income Renter Percentage\": 0.17801418439716313, \"key\": \"2017San Mateo County\"}, {\"year\": \"2017\", \"County_Name\": \"Santa Clara County\", \"middle_income_HH\": 1097, \"total\": 6753, \"Middle Income Renter Percentage\": 0.16244632015400562, \"key\": \"2017Santa Clara County\"}, {\"year\": \"2017\", \"County_Name\": \"Solano County\", \"middle_income_HH\": 294, \"total\": 1524, \"Middle Income Renter Percentage\": 0.19291338582677164, \"key\": \"2017Solano County\"}, {\"year\": \"2017\", \"County_Name\": \"Sonoma County\", \"middle_income_HH\": 351, \"total\": 1905, \"Middle Income Renter Percentage\": 0.18425196850393702, \"key\": \"2017Sonoma County\"}, {\"year\": \"2018\", \"County_Name\": \"Alameda County\", \"middle_income_HH\": 1051, \"total\": 6221, \"Middle Income Renter Percentage\": 0.16894389969458287, \"key\": \"2018Alameda County\"}, {\"year\": \"2018\", \"County_Name\": \"Contra Costa County\", \"middle_income_HH\": 657, \"total\": 3690, \"Middle Income Renter Percentage\": 0.17804878048780487, \"key\": \"2018Contra Costa County\"}, {\"year\": \"2018\", \"County_Name\": \"Marin County\", \"middle_income_HH\": 151, \"total\": 950, \"Middle Income Renter Percentage\": 0.15894736842105264, \"key\": \"2018Marin County\"}, {\"year\": \"2018\", \"County_Name\": \"Napa County\", \"middle_income_HH\": 116, \"total\": 655, \"Middle Income Renter Percentage\": 0.17709923664122137, \"key\": \"2018Napa County\"}, {\"year\": \"2018\", \"County_Name\": \"San Francisco County\", \"middle_income_HH\": 456, \"total\": 3302, \"Middle Income Renter Percentage\": 0.13809812235009086, \"key\": \"2018San Francisco County\"}, {\"year\": \"2018\", \"County_Name\": \"San Mateo County\", \"middle_income_HH\": 495, \"total\": 2789, \"Middle Income Renter Percentage\": 0.17748296880602366, \"key\": \"2018San Mateo County\"}, {\"year\": \"2018\", \"County_Name\": \"Santa Clara County\", \"middle_income_HH\": 1153, \"total\": 6796, \"Middle Income Renter Percentage\": 0.16965862271924662, \"key\": \"2018Santa Clara County\"}, {\"year\": \"2018\", \"County_Name\": \"Solano County\", \"middle_income_HH\": 314, \"total\": 1582, \"Middle Income Renter Percentage\": 0.19848293299620734, \"key\": \"2018Solano County\"}, {\"year\": \"2018\", \"County_Name\": \"Sonoma County\", \"middle_income_HH\": 335, \"total\": 1895, \"Middle Income Renter Percentage\": 0.17678100263852242, \"key\": \"2018Sonoma County\"}, {\"year\": \"2019\", \"County_Name\": \"Alameda County\", \"middle_income_HH\": 1064, \"total\": 6490, \"Middle Income Renter Percentage\": 0.16394453004622497, \"key\": \"2019Alameda County\"}, {\"year\": \"2019\", \"County_Name\": \"Contra Costa County\", \"middle_income_HH\": 677, \"total\": 3730, \"Middle Income Renter Percentage\": 0.18150134048257371, \"key\": \"2019Contra Costa County\"}, {\"year\": \"2019\", \"County_Name\": \"Marin County\", \"middle_income_HH\": 171, \"total\": 1016, \"Middle Income Renter Percentage\": 0.16830708661417323, \"key\": \"2019Marin County\"}, {\"year\": \"2019\", \"County_Name\": \"Napa County\", \"middle_income_HH\": 131, \"total\": 681, \"Middle Income Renter Percentage\": 0.19236417033773862, \"key\": \"2019Napa County\"}, {\"year\": \"2019\", \"County_Name\": \"San Francisco County\", \"middle_income_HH\": 537, \"total\": 3469, \"Middle Income Renter Percentage\": 0.1547996540789853, \"key\": \"2019San Francisco County\"}, {\"year\": \"2019\", \"County_Name\": \"San Mateo County\", \"middle_income_HH\": 482, \"total\": 2910, \"Middle Income Renter Percentage\": 0.16563573883161511, \"key\": \"2019San Mateo County\"}, {\"year\": \"2019\", \"County_Name\": \"Santa Clara County\", \"middle_income_HH\": 1161, \"total\": 7033, \"Middle Income Renter Percentage\": 0.16507891369259206, \"key\": \"2019Santa Clara County\"}, {\"year\": \"2019\", \"County_Name\": \"Solano County\", \"middle_income_HH\": 263, \"total\": 1522, \"Middle Income Renter Percentage\": 0.1727989487516426, \"key\": \"2019Solano County\"}, {\"year\": \"2019\", \"County_Name\": \"Sonoma County\", \"middle_income_HH\": 382, \"total\": 1947, \"Middle Income Renter Percentage\": 0.19619928094504366, \"key\": \"2019Sonoma County\"}]}}, {\"mode\": \"vega-lite\"});\n",
       "</script>"
      ],
      "text/plain": [
       "alt.Chart(...)"
      ]
     },
     "execution_count": 44,
     "metadata": {},
     "output_type": "execute_result"
    }
   ],
   "source": [
    "alt.Chart(bay_area).mark_line().encode(\n",
    "    x='year',\n",
    "    y='Middle Income Renter Percentage',\n",
    "    color=\"County_Name\"\n",
    ")"
   ]
  },
  {
   "cell_type": "code",
   "execution_count": null,
   "metadata": {},
   "outputs": [],
   "source": [
    "#need to address discrepency in number of counties - seems to be just smaller counties missing \n",
    "len(df.County_Name.unique()) - len(pums_ca.County.unique())"
   ]
  },
  {
   "cell_type": "code",
   "execution_count": null,
   "metadata": {},
   "outputs": [],
   "source": [
    "#127 \n",
    "set(df.County_Name.unique()).difference(set(pums_ca.County.unique()))"
   ]
  },
  {
   "cell_type": "code",
   "execution_count": null,
   "metadata": {},
   "outputs": [],
   "source": [
    "pums_ca.County.unique()"
   ]
  }
 ],
 "metadata": {
  "kernelspec": {
   "display_name": "Python 3",
   "language": "python",
   "name": "python3"
  },
  "language_info": {
   "codemirror_mode": {
    "name": "ipython",
    "version": 3
   },
   "file_extension": ".py",
   "mimetype": "text/x-python",
   "name": "python",
   "nbconvert_exporter": "python",
   "pygments_lexer": "ipython3",
   "version": "3.7.2"
  }
 },
 "nbformat": 4,
 "nbformat_minor": 2
}
