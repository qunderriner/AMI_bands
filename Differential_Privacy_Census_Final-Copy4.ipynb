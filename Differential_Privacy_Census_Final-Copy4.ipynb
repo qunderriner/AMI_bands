{
 "cells": [
  {
   "cell_type": "code",
   "execution_count": 30,
   "id": "739110ae",
   "metadata": {},
   "outputs": [
    {
     "data": {
      "text/plain": [
       "RendererRegistry.enable('notebook')"
      ]
     },
     "execution_count": 30,
     "metadata": {},
     "output_type": "execute_result"
    }
   ],
   "source": [
    "import pandas as pd\n",
    "import numpy as np \n",
    "import altair as alt\n",
    "import seaborn as sns\n",
    "import numpy as np\n",
    "import matplotlib.pyplot as plt  \n",
    "import os\n",
    "from urllib.request import urlopen\n",
    "import zipfile\n",
    "import warnings\n",
    "import altair_viewer\n",
    "pd.set_option('display.float_format', '{:.2f}'.format)\n",
    "pd.set_option('display.max_columns', None)\n",
    "warnings.filterwarnings('ignore')\n",
    "#NOTE only need below change to altair rendering to have static altair images render on github \n",
    "#b/c github scrubs javascript CAN REMOVE if running locally\n",
    "#Also, if you do want this to work for some reason, need to have selenium/chromedriver installed \n",
    "#alt.renderers.enable('altair_saver', fmts=['vega-lite', 'png'])\n",
    "alt.renderers.enable('notebook')"
   ]
  },
  {
   "cell_type": "markdown",
   "id": "2fe5855c",
   "metadata": {},
   "source": [
    "### The code below examines the differences between published 2010 decennial census data vs. the same data had the Census Bureau's new differentially private algorithm been applied to it"
   ]
  },
  {
   "cell_type": "markdown",
   "id": "9b657106",
   "metadata": {},
   "source": [
    "The check_for_download function will check to see if the block group level CSV exists for the 2021-06-08 Privacy Protected 2010 Census Demonstration Data in the users current directory, and download it from IPUMS if not. David Van Riper, Tracy Kugler, and Jonathan Schroeder. IPUMS NHGIS Privacy-Protected 2010 Census Demonstration Data, version 20210608 [Database]. Minneapolis, MN: IPUMS. 2020. https://www.nhgis.org/privacy-protected-2010-census-demonstration-data#v20210608 "
   ]
  },
  {
   "cell_type": "code",
   "execution_count": 31,
   "id": "e900d629",
   "metadata": {},
   "outputs": [],
   "source": [
    "def check_for_download(filename,zip_location,zip_name):\n",
    "    \"\"\"\n",
    "    inputs:\n",
    "        filename (str) - name of csv downloaded \n",
    "        zip_location (str) - location of zip file \n",
    "        zip_name (str) - name of the zip file downloaded from the zip location to open \n",
    "        \n",
    "    Here checking to see if the data is in the current directory, if not, downloading and unzipping \n",
    "    it to the current directory (can place is somewhere else by modifying filepath of zip_directory)\n",
    "    \"\"\"\n",
    "    if os.path.isfile(filename):\n",
    "        df = pd.read_csv(filename)\n",
    "        return df\n",
    "    else:\n",
    "        zip_directory = os.getcwd()\n",
    "        url = urlopen(zip_location)\n",
    "        output = open(zip_name, 'wb')           \n",
    "        output.write(url.read())\n",
    "        output.close()\n",
    "        with zipfile.ZipFile(zip_name, 'r') as zip_ref:\n",
    "            zip_ref.extractall(zip_directory)\n",
    "        df = pd.read_csv(filename)\n",
    "    return df\n",
    "df = check_for_download(\"nhgis_ppdd_20210608_blck_grp.csv\",\"https://assets.nhgis.org/differential-privacy/v20210608/nhgis_ppdd_20210608_blck_grp.zip\",\"nhgis_ppdd_20210608_blck_grp.zip\")"
   ]
  },
  {
   "cell_type": "code",
   "execution_count": 32,
   "id": "40e82781",
   "metadata": {},
   "outputs": [],
   "source": [
    "#Note: The census only starts to make reliability claims at block groups bigger than 550\n",
    "#can run below if you want to only filter to those groups; final aggregate numbers similar either way \n",
    "#df_big = df[df[\"H72001_dp\"] >550]"
   ]
  },
  {
   "cell_type": "code",
   "execution_count": 33,
   "id": "f3e2c0fa",
   "metadata": {},
   "outputs": [],
   "source": [
    "#rearrrange data for analysis \n",
    "ca = df[df.state == 6] #filter for just california \n",
    "ca = ca.melt(id_vars=['gisjoin', 'name', 'state'])\n",
    "ca['code'] = ca.variable.apply(lambda x: x.split('_')[0])\n",
    "ca['method'] = ca.variable.apply(lambda x: x.split('_')[1])\n",
    "ca = ca.pivot_table(index=['gisjoin', 'name', 'state', 'code'], columns='method', values=['value']).reset_index()\n",
    "ca.columns = ['gisjoin', 'name', 'state', 'code', 'dp_value', 'sf_value']\n",
    "\n",
    "#calculate the percent change (and its absolute value) between the two meathods\n",
    "ca['pct_change'] = ((ca.dp_value - ca.sf_value)/ca.sf_value)*100\n",
    "ca[\"pct_change_absolute_value\"] = np.abs(ca[\"pct_change\"])\n",
    "#drop cases where this can't be calculated \n",
    "ca.replace([np.inf, -np.inf], np.nan, inplace=True)\n",
    "ca = ca.dropna(subset=[\"pct_change\"], how=\"all\")\n",
    "#calculate total value changes \n",
    "ca[\"total_difference\"] = ca[\"dp_value\"] - ca[\"sf_value\"]\n",
    "ca[\"total_difference_absolute_value\"] = np.abs(ca[\"total_difference\"]) "
   ]
  },
  {
   "cell_type": "code",
   "execution_count": 34,
   "id": "f43da85c",
   "metadata": {},
   "outputs": [],
   "source": [
    "#subset to total population counts, as well as by a few large racial categories \n",
    "total = ca[ca.code == \"H72001\"]\n",
    "black = ca[ca.code == \"H72004\"]\n",
    "asian= ca[ca.code==\"H72006\"]\n",
    "white= ca[ca.code==\"H73005\"]"
   ]
  },
  {
   "cell_type": "code",
   "execution_count": 35,
   "id": "97b76b01",
   "metadata": {},
   "outputs": [],
   "source": [
    "total[\"Population\"] = \"Total Population\"\n",
    "black[\"Population\"] = \"Total Black Population\"\n",
    "asian[\"Population\"] = \"Total Asian Population\"\n",
    "white[\"Population\"] = \"Total Non-Hispanic White Population\"\n",
    "overall = pd.concat([total, black, asian, white])\n",
    "#label block groups with deviations greater than X percent \n",
    "five_percent_diff_title = \"Block Groups with More Than 5% Difference Between Census Privacy Methods\"\n",
    "one_percent_diff_title = \"Block Groups with More Than 1% Difference Between Census Privacy Methods\"\n",
    "\n",
    "overall[five_percent_diff_title] = np.where(overall[\"pct_change_absolute_value\"]>5,1,0)\n",
    "overall[one_percent_diff_title] = np.where(overall[\"pct_change_absolute_value\"]>1,1,0)\n",
    "\n",
    "overall = overall[[\"Population\",five_percent_diff_title,one_percent_diff_title]].groupby(\"Population\").mean().reset_index()\n",
    "overall[[five_percent_diff_title,one_percent_diff_title]] = overall[[five_percent_diff_title,one_percent_diff_title]]  * 100\n",
    "#reshape for graphing \n",
    "overall = overall.melt(id_vars=\"Population\")"
   ]
  },
  {
   "cell_type": "code",
   "execution_count": 36,
   "id": "9faca9d0",
   "metadata": {},
   "outputs": [
    {
     "data": {
      "application/javascript": [
       "const spec = {\"config\": {\"view\": {\"continuousWidth\": 400, \"continuousHeight\": 300}, \"axis\": {\"domain\": false, \"labelFont\": \"Georgia\", \"labelFontSize\": 15, \"titleFont\": \"Georgia\", \"titleFontSize\": 20, \"titleFontWeight\": \"normal\"}, \"legend\": {\"direction\": \"vertical\", \"labelFont\": \"Georgia\", \"labelFontSize\": 20, \"labelLimit\": 0, \"orient\": \"bottom\", \"titleFont\": \"Georgia\", \"titleFontSize\": 18, \"titleLimit\": 0}, \"title\": {\"anchor\": \"middle\", \"font\": \"Georgia\", \"fontSize\": 20}}, \"data\": {\"name\": \"data-b5bbe4f06e05ac7b4033f174d6eba9bc\"}, \"mark\": \"bar\", \"encoding\": {\"color\": {\"field\": \"variable\", \"scale\": {\"domain\": [\"Block Groups with More Than 1% Difference Between Census Privacy Methods\", \"Block Groups with More Than 5% Difference Between Census Privacy Methods\"], \"range\": [\"#5B6770\", \"#FFB81D\"]}, \"title\": \"\", \"type\": \"ordinal\"}, \"column\": {\"field\": \"Population\", \"header\": {\"labelFont\": \"Georgia\", \"labelFontSize\": 16}, \"sort\": [\"Total Population\", \"Total Non-Hispanic White Population\", \"Total Black Population\", \"Total Asian Population\"], \"spacing\": 130, \"title\": \"\", \"type\": \"nominal\"}, \"x\": {\"axis\": {\"labels\": false}, \"field\": \"variable\", \"title\": \" \", \"type\": \"ordinal\"}, \"y\": {\"field\": \"value\", \"scale\": {\"domain\": [0, 100]}, \"title\": \"Percentage\", \"type\": \"quantitative\"}}, \"title\": {\"text\": [\"Difference in Block Level Population Counts Between Census Privacy Methods\", \" California 2010\"], \"subtitle\": [\"Terner Center analysis of IPUMS NHGIS Census Data\"]}, \"width\": 100, \"$schema\": \"https://vega.github.io/schema/vega-lite/v4.17.0.json\", \"datasets\": {\"data-b5bbe4f06e05ac7b4033f174d6eba9bc\": [{\"Population\": \"Total Asian Population\", \"variable\": \"Block Groups with More Than 5% Difference Between Census Privacy Methods\", \"value\": 50.461752918626935}, {\"Population\": \"Total Black Population\", \"variable\": \"Block Groups with More Than 5% Difference Between Census Privacy Methods\", \"value\": 67.00292589196036}, {\"Population\": \"Total Non-Hispanic White Population\", \"variable\": \"Block Groups with More Than 5% Difference Between Census Privacy Methods\", \"value\": 14.998488055639553}, {\"Population\": \"Total Population\", \"variable\": \"Block Groups with More Than 5% Difference Between Census Privacy Methods\", \"value\": 4.490113116311199}, {\"Population\": \"Total Asian Population\", \"variable\": \"Block Groups with More Than 1% Difference Between Census Privacy Methods\", \"value\": 82.15717023871754}, {\"Population\": \"Total Black Population\", \"variable\": \"Block Groups with More Than 1% Difference Between Census Privacy Methods\", \"value\": 88.0518799947596}, {\"Population\": \"Total Non-Hispanic White Population\", \"variable\": \"Block Groups with More Than 1% Difference Between Census Privacy Methods\", \"value\": 57.14285714285714}, {\"Population\": \"Total Population\", \"variable\": \"Block Groups with More Than 1% Difference Between Census Privacy Methods\", \"value\": 53.84250064761247}]}};\n",
       "const opt = {};\n",
       "const type = \"vega-lite\";\n",
       "const id = \"cc4f56bb-683a-4d9a-afec-c5cf7a5d72ef\";\n",
       "\n",
       "const output_area = this;\n",
       "\n",
       "require([\"jupyter-vega\"], function(vega) {\n",
       "  const target = document.createElement(\"div\");\n",
       "  target.id = id;\n",
       "  target.className = \"vega-embed\";\n",
       "\n",
       "  const style = document.createElement(\"style\");\n",
       "  style.textContent = [\n",
       "    \".vega-embed .error p {\",\n",
       "    \"  color: firebrick;\",\n",
       "    \"  font-size: 14px;\",\n",
       "    \"}\",\n",
       "  ].join(\"\\\\n\");\n",
       "\n",
       "  // element is a jQuery wrapped DOM element inside the output area\n",
       "  // see http://ipython.readthedocs.io/en/stable/api/generated/\\\n",
       "  // IPython.display.html#IPython.display.Javascript.__init__\n",
       "  element[0].appendChild(target);\n",
       "  element[0].appendChild(style);\n",
       "\n",
       "  vega.render(`#$cc4f56bb-683a-4d9a-afec-c5cf7a5d72ef`, spec, type, opt, output_area);\n",
       "}, function (err) {\n",
       "  if (err.requireType !== \"scripterror\") {\n",
       "    throw(err);\n",
       "  }\n",
       "});\n"
      ],
      "text/plain": [
       "<vega.vegalite.VegaLite at 0x1272f0190>"
      ]
     },
     "metadata": {
      "jupyter-vega": "#cc4f56bb-683a-4d9a-afec-c5cf7a5d72ef"
     },
     "output_type": "display_data"
    },
    {
     "data": {
      "text/plain": []
     },
     "execution_count": 36,
     "metadata": {},
     "output_type": "execute_result"
    }
   ],
   "source": [
    "#Figure 1 \n",
    "alt.Chart(overall).mark_bar().encode(\n",
    "    alt.X('variable:O',title=\" \", axis=alt.Axis(labels=False)),\n",
    "    alt.Y('value',title=\"Percentage\", scale=alt.Scale(domain=[0, 100])),color=alt.Color('variable:O',title=\"\",scale=alt.Scale(domain=[one_percent_diff_title,five_percent_diff_title],\n",
    "                              range=['#5B6770','#FFB81D',])),\n",
    "    column=alt.Column('Population',title=\"\",spacing=130,sort=['Total Population',\"Total Non-Hispanic White Population\",\"Total Black Population\",\"Total Asian Population\"], header=alt.Header(labelFontSize=16,labelFont=\"Georgia\")),\n",
    "                    ).properties(\n",
    "    title={\n",
    "      \"text\": [\"Difference in Block Level Population Counts Between Census Privacy Methods\",\" California 2010\"],\n",
    "    \"subtitle\":[\"Terner Center analysis of IPUMS NHGIS Census Data\"]}).configure_title(fontSize=20,anchor=\"middle\",font=\"Georgia\").configure_legend(direction=\"vertical\",labelLimit= 0,titleLimit=0,titleFontSize=18,\n",
    "labelFontSize=20,labelFont=\"Georgia\",titleFont=\"Georgia\",orient=\"bottom\").configure_axis(domain=False,labelFont='Georgia',titleFont='Georgia',titleFontWeight=\"normal\",labelFontSize=15,titleFontSize=20).properties(\n",
    "    width=100\n",
    ")\n"
   ]
  },
  {
   "cell_type": "code",
   "execution_count": 37,
   "id": "6911fb8b",
   "metadata": {},
   "outputs": [],
   "source": [
    "def check_thresholds(df, bins,labels,race):\n",
    "    df[\"Population Bins\"]= pd.cut(df['sf_value'], bins=cut_bins,labels=cut_labels)\n",
    "    df_percent_change = df.groupby(\"Population Bins\").agg(['mean','std']).reset_index()\n",
    "    #flatten col names \n",
    "    df_percent_change.columns = [' '.join(col).strip() for col in df_percent_change.columns.values]\n",
    "    df_percent_change[\"race\"] = race \n",
    "    \n",
    "    return df_percent_change\n",
    "\n",
    "cut_bins = [0, 25, 50, 150,350, 3372.00]\n",
    "cut_labels = ['0-25', '25-50', '50-150', \"150-350\",\"350+\"]\n",
    "\n",
    "black_percent_change = check_thresholds(black,cut_bins,cut_labels,\"Black\")\n",
    "asian_percent_change = check_thresholds(asian,cut_bins,cut_labels,\"Asian\")\n",
    "nh_white_percent_change = check_thresholds(white,cut_bins,cut_labels,\"Non-Hispanic White\")"
   ]
  },
  {
   "cell_type": "code",
   "execution_count": 38,
   "id": "44dc6249",
   "metadata": {},
   "outputs": [
    {
     "data": {
      "application/javascript": [
       "const spec = {\"config\": {\"view\": {\"continuousWidth\": 400, \"continuousHeight\": 300}, \"axis\": {\"domain\": false, \"labelFont\": \"Georgia\", \"labelFontSize\": 15, \"titleFont\": \"Georgia\", \"titleFontSize\": 15, \"titleFontWeight\": \"normal\"}, \"legend\": {\"direction\": \"vertical\", \"labelFont\": \"Georgia\", \"labelFontSize\": 20, \"labelLimit\": 0, \"orient\": \"bottom\", \"titleFont\": \"Georgia\", \"titleFontSize\": 18, \"titleLimit\": 0}, \"title\": {\"anchor\": \"middle\", \"font\": \"Georgia\", \"fontSize\": 20}}, \"data\": {\"name\": \"data-9e53f6e663b8a2b18d87f854d14553f2\"}, \"mark\": \"bar\", \"encoding\": {\"color\": {\"field\": \"Population Bins\", \"legend\": null, \"scale\": {\"domain\": [\"0-25\", \"25-50\", \"50-150\", \"150-350\", \"350+\"], \"range\": [\"#4E748B\", \"#FFB81D\", \"#B7B09D\", \"#00B3E3\", \"#E74C39\"]}, \"title\": \"\", \"type\": \"ordinal\"}, \"x\": {\"axis\": {\"labelAngle\": -45}, \"field\": \"Population Bins\", \"sort\": [\"0-25\", \"25-50\", \"50-150\", \"150-350\", \"350+\"], \"title\": \"Number of Black People in Block Group\", \"type\": \"ordinal\"}, \"y\": {\"field\": \"pct_change_absolute_value mean\", \"title\": \"Percent Difference\", \"type\": \"quantitative\"}}, \"title\": {\"text\": [\"Average Percentage Difference in California 2010 Black Population\", \"between Census Privacy Methods\", \" by Block Group Subpopulation Size\"], \"subtitle\": [\"Terner Center analysis of IPUMS NHGIS Census Data\"]}, \"width\": 400, \"$schema\": \"https://vega.github.io/schema/vega-lite/v4.17.0.json\", \"datasets\": {\"data-9e53f6e663b8a2b18d87f854d14553f2\": [{\"Population Bins\": \"0-25\", \"state mean\": 6, \"state std\": 0.0, \"dp_value mean\": 12.629789113392956, \"dp_value std\": 8.304268473395176, \"sf_value mean\": 11.720216407198851, \"sf_value std\": 6.929279210508905, \"pct_change mean\": 26.038285245262617, \"pct_change std\": 106.76679699505462, \"pct_change_absolute_value mean\": 55.464217315953285, \"pct_change_absolute_value std\": 94.87147626184925, \"total_difference mean\": 0.909572706194104, \"total_difference std\": 5.4523811948695, \"total_difference_absolute_value mean\": 4.045710500165618, \"total_difference_absolute_value std\": 3.7664696615896487, \"race\": \"Black\"}, {\"Population Bins\": \"25-50\", \"state mean\": 6, \"state std\": 0.0, \"dp_value mean\": 36.2093295827473, \"dp_value std\": 10.427869465537743, \"sf_value mean\": 36.60947022972339, \"sf_value std\": 7.233006561329091, \"pct_change mean\": -1.1279883267484714, \"pct_change std\": 21.060681908524675, \"pct_change_absolute_value mean\": 16.261890998466235, \"pct_change_absolute_value std\": 13.428100205117016, \"total_difference mean\": -0.40014064697609003, \"total_difference std\": 7.484880577564434, \"total_difference_absolute_value mean\": 5.806141584622598, \"total_difference_absolute_value std\": 4.739662759024198, \"race\": \"Black\"}, {\"Population Bins\": \"50-150\", \"state mean\": 6, \"state std\": 0.0, \"dp_value mean\": 87.13345759552656, \"dp_value std\": 29.182486743008948, \"sf_value mean\": 87.9215284249767, \"sf_value std\": 27.773109850592906, \"pct_change mean\": -0.9886623329676536, \"pct_change std\": 11.250894145542029, \"pct_change_absolute_value mean\": 8.507919309077018, \"pct_change_absolute_value std\": 7.427117139359287, \"total_difference mean\": -0.7880708294501398, \"total_difference std\": 8.901838917733766, \"total_difference_absolute_value mean\": 6.911463187325256, \"total_difference_absolute_value std\": 5.664510463146431, \"race\": \"Black\"}, {\"Population Bins\": \"150-350\", \"state mean\": 6, \"state std\": 0.0, \"dp_value mean\": 228.03252647503783, \"dp_value std\": 56.38070957946296, \"sf_value mean\": 229.19931921331317, \"sf_value std\": 55.807856268896145, \"pct_change mean\": -0.5008222109368309, \"pct_change std\": 4.929543986802758, \"pct_change_absolute_value mean\": 3.7233903493533798, \"pct_change_absolute_value std\": 3.26840031139154, \"total_difference mean\": -1.1667927382753405, \"total_difference std\": 10.561271858178861, \"total_difference_absolute_value mean\": 8.127458396369137, \"total_difference_absolute_value std\": 6.8426464922530625, \"race\": \"Black\"}, {\"Population Bins\": \"350+\", \"state mean\": 6, \"state std\": 0.0, \"dp_value mean\": 612.130185067007, \"dp_value std\": 326.49176591003624, \"sf_value mean\": 612.0255264837268, \"sf_value std\": 325.9229835011512, \"pct_change mean\": -0.006949011329861356, \"pct_change std\": 2.4110167015781094, \"pct_change_absolute_value mean\": 1.785437765608341, \"pct_change_absolute_value std\": 1.6196376803136305, \"total_difference mean\": 0.10465858328015316, \"total_difference std\": 11.944497977043246, \"total_difference_absolute_value mean\": 9.240587109125718, \"total_difference_absolute_value std\": 7.565647080523697, \"race\": \"Black\"}]}};\n",
       "const opt = {};\n",
       "const type = \"vega-lite\";\n",
       "const id = \"fae3871b-3024-4672-8874-d1b207ecfd15\";\n",
       "\n",
       "const output_area = this;\n",
       "\n",
       "require([\"jupyter-vega\"], function(vega) {\n",
       "  const target = document.createElement(\"div\");\n",
       "  target.id = id;\n",
       "  target.className = \"vega-embed\";\n",
       "\n",
       "  const style = document.createElement(\"style\");\n",
       "  style.textContent = [\n",
       "    \".vega-embed .error p {\",\n",
       "    \"  color: firebrick;\",\n",
       "    \"  font-size: 14px;\",\n",
       "    \"}\",\n",
       "  ].join(\"\\\\n\");\n",
       "\n",
       "  // element is a jQuery wrapped DOM element inside the output area\n",
       "  // see http://ipython.readthedocs.io/en/stable/api/generated/\\\n",
       "  // IPython.display.html#IPython.display.Javascript.__init__\n",
       "  element[0].appendChild(target);\n",
       "  element[0].appendChild(style);\n",
       "\n",
       "  vega.render(`#$fae3871b-3024-4672-8874-d1b207ecfd15`, spec, type, opt, output_area);\n",
       "}, function (err) {\n",
       "  if (err.requireType !== \"scripterror\") {\n",
       "    throw(err);\n",
       "  }\n",
       "});\n"
      ],
      "text/plain": [
       "<vega.vegalite.VegaLite at 0x127313a00>"
      ]
     },
     "metadata": {
      "jupyter-vega": "#fae3871b-3024-4672-8874-d1b207ecfd15"
     },
     "output_type": "display_data"
    },
    {
     "data": {
      "text/plain": []
     },
     "execution_count": 38,
     "metadata": {},
     "output_type": "execute_result"
    }
   ],
   "source": [
    "#figure 2\n",
    "alt.Chart(black_percent_change).mark_bar().encode(\n",
    "    alt.X('Population Bins:O',title=\"Number of Black People in Block Group\", sort=['0-25', '25-50', '50-150', \"150-350\",\"350+\"],axis=alt.Axis( labelAngle=-45)),\n",
    "    alt.Y('pct_change_absolute_value mean',title=\"Percent Difference\"),color=alt.Color('Population Bins:O',title=\"\",legend=None,scale=alt.Scale(domain=['0-25', '25-50', '50-150', \"150-350\",\"350+\"],range=[\"#4E748B\",\"#FFB81D\",\"#B7B09D\",\"#00B3E3\",\"#E74C39\"]))).properties(\n",
    "    title={\n",
    "      \"text\": [\"Average Percentage Difference in California 2010 Black Population\",\n",
    "               \"between Census Privacy Methods\",\" by Block Group Subpopulation Size\"],\n",
    "    \"subtitle\":[\"Terner Center analysis of IPUMS NHGIS Census Data\"]}).configure_title(fontSize=20,anchor=\"middle\",font=\"Georgia\").configure_legend(direction=\"vertical\",labelLimit= 0,titleLimit=0,titleFontSize=18,\n",
    "labelFontSize=20,labelFont=\"Georgia\",titleFont=\"Georgia\",orient=\"bottom\").configure_axis(domain=False,labelFont='Georgia',titleFont='Georgia',titleFontWeight=\"normal\",labelFontSize=15,titleFontSize=15).properties(\n",
    "    width=400\n",
    ")"
   ]
  }
 ],
 "metadata": {
  "kernelspec": {
   "display_name": "Python 3",
   "language": "python",
   "name": "python3"
  },
  "language_info": {
   "codemirror_mode": {
    "name": "ipython",
    "version": 3
   },
   "file_extension": ".py",
   "mimetype": "text/x-python",
   "name": "python",
   "nbconvert_exporter": "python",
   "pygments_lexer": "ipython3",
   "version": "3.9.9"
  }
 },
 "nbformat": 4,
 "nbformat_minor": 5
}
